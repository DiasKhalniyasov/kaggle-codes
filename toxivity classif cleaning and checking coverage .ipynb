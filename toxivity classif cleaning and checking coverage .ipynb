{
 "cells": [
  {
   "cell_type": "code",
   "execution_count": 1,
   "metadata": {},
   "outputs": [],
   "source": [
    "import os\n",
    "import time\n",
    "import numpy as np # linear algebra\n",
    "from tqdm import tqdm\n",
    "import math\n",
    "\n",
    "import pandas as pd\n",
    "import matplotlib.pyplot as plt\n",
    "\n",
    "df=pd.read_csv(r'C:\\Users\\usrer\\Downloads\\quora-insincere-questions-classification\\train.csv')\n"
   ]
  },
  {
   "cell_type": "code",
   "execution_count": 2,
   "metadata": {},
   "outputs": [],
   "source": [
    "tqdm.pandas()"
   ]
  },
  {
   "cell_type": "code",
   "execution_count": 3,
   "metadata": {},
   "outputs": [
    {
     "name": "stderr",
     "output_type": "stream",
     "text": [
      "100%|██████████| 1306122/1306122 [00:06<00:00, 213476.19it/s]\n"
     ]
    }
   ],
   "source": [
    "sentences = df[\"question_text\"].progress_apply(lambda x: x.split()).values"
   ]
  },
  {
   "cell_type": "code",
   "execution_count": 4,
   "metadata": {},
   "outputs": [],
   "source": [
    "embed_size = 300 # how big is each word vector\n",
    "max_features = 20000 # how many unique words to use (i.e num rows in embedding vector)\n",
    "maxlen = 100 "
   ]
  },
  {
   "cell_type": "markdown",
   "metadata": {},
   "source": [
    "Importing pretrained Google News Vectors"
   ]
  },
  {
   "cell_type": "code",
   "execution_count": null,
   "metadata": {},
   "outputs": [
    {
     "name": "stderr",
     "output_type": "stream",
     "text": [
      "C:\\ProgramData\\Anaconda3\\lib\\site-packages\\smart_open\\smart_open_lib.py:398: UserWarning: This function is deprecated, use smart_open.open instead. See the migration notes for details: https://github.com/RaRe-Technologies/smart_open/blob/master/README.rst#migrating-to-the-new-open-function\n",
      "  'See the migration notes for details: %s' % _MIGRATION_NOTES_URL\n"
     ]
    }
   ],
   "source": [
    "import gensim\n",
    "model = gensim.models.KeyedVectors.load_word2vec_format(r'C:\\Users\\usrer\\Downloads\\quora-insincere-questions-classification\\embeddings\\GoogleNews-vectors-negative300\\GoogleNews-vectors-negative300.bin',unicode_errors='ignore', binary = True) "
   ]
  },
  {
   "cell_type": "markdown",
   "metadata": {},
   "source": [
    "Getting misspels and short names(сокращения)"
   ]
  },
  {
   "cell_type": "code",
   "execution_count": 5,
   "metadata": {},
   "outputs": [],
   "source": [
    "import re\n",
    "def _get_mispell(mispell_dict):\n",
    "    mispell_re = re.compile('(%s)' % '|'.join(mispell_dict.keys()))\n",
    "    return mispell_dict, mispell_re\n",
    "\n",
    "\n",
    "mispell_dict = {'colour':'color',\n",
    "                'centre':'center',\n",
    "                'didnt':'did not',\n",
    "                'doesnt':'does not',\n",
    "                'isnt':'is not',\n",
    "                'shouldnt':'should not',\n",
    "                'favourite':'favorite',\n",
    "                'travelling':'traveling',\n",
    "                'counselling':'counseling',\n",
    "                'theatre':'theater',\n",
    "                'cancelled':'canceled',\n",
    "                'labour':'labor',\n",
    "                'organisation':'organization',\n",
    "                'wwii':'world war 2',\n",
    "                'citicise':'criticize',\n",
    "                'instagram': 'social medium',\n",
    "                'whatsapp': 'social medium',\n",
    "                'Snapchat': 'social medium',\n",
    "                'cryptocurrency': 'money',\n",
    "                'bitcoin':'money',\n",
    "                'cryptocurrencies':'money',\n",
    "                'ielts':'test',\n",
    "                'quora':'social medium',\n",
    "                'programme':'program',\n",
    "                'organisation':'company',\n",
    "                'upvotes':'benefit',\n",
    "                'upsc':'company',\n",
    "                'Quorans':'people',\n",
    "                'btech':'company',\n",
    "                'counselling':'help'\n",
    "                \n",
    "                }\n",
    "mispellings, mispellings_re = _get_mispell(mispell_dict)\n",
    "\n",
    "def replace_typical_misspell(text):\n",
    "    def replace(match):\n",
    "        return mispellings[match.group(0)]\n",
    "\n",
    "    return mispellings_re.sub(replace, text)"
   ]
  },
  {
   "cell_type": "code",
   "execution_count": 6,
   "metadata": {},
   "outputs": [],
   "source": [
    "contraction_mapping = {\"aint\": \"is not\", \"arent\": \"are not\",\"cant\": \"cannot\", \"'cause\": \"because\", \"couldve\": \n",
    "                       \"could have\", \"couldnt\": \"could not\", \"didnt\": \"did not\",  \"doesnt\": \"does not\", \"don't\": \n",
    "                       \"do not\", \"hadnt\": \"had not\", \"hasnt\": \"has not\", \"havent\": \"have not\", \"hed\": \"he would\",\n",
    "                       \"he'll\": \"he will\", \"he's\": \"he is\", \"how'd\": \"how did\", \"how'd'y\": \"how do you\", \"how'll\": \n",
    "                       \"how will\", \"how's\": \"how is\",  \"I'd\": \"I would\", \"I'd've\": \"I would have\", \"I'll\": \"I will\", \n",
    "                       \"I'll've\": \"I will have\",\"I'm\": \"I am\", \"I've\": \"I have\", \"i'd\": \"i would\", \"i'd've\": \n",
    "                       \"i would have\", \"i'll\": \"i will\",  \"i'll've\": \"i will have\",\"i'm\": \"i am\", \"i've\": \"i have\", \n",
    "                       \"isnt\": \"is not\", \"it'd\": \"it would\", \"it'd've\": \"it would have\", \"it'll\": \"it will\", \n",
    "                       \"it'll've\": \"it will have\",\"it's\": \"it is\", \"let's\": \"let us\", \"ma'am\": \"madam\", \n",
    "                       \"mayn't\": \"may not\", \"might've\": \"might have\",\"mightn't\": \"might not\",\"mightn't've\": \n",
    "                       \"might not have\", \"must've\": \"must have\", \"mustn't\": \"must not\", \"mustn't've\": \"must not have\", \n",
    "                       \"needn't\": \"need not\", \"needn't've\": \"need not have\",\"o'clock\": \"of the clock\", \"oughtn't\": \n",
    "                       \"ought not\", \"oughtn't've\": \"ought not have\", \"shan't\": \"shall not\", \"sha'n't\": \"shall not\", \n",
    "                       \"shan't've\": \"shall not have\", \"she'd\": \"she would\", \"she'd've\": \"she would have\", \"she'll\": \n",
    "                       \"she will\", \"she'll've\": \"she will have\", \"she's\": \"she is\", \"should've\": \"should have\", \n",
    "                       \"shouldn't\": \"should not\", \"shouldn't've\": \"should not have\", \"so've\": \"so have\",\"so's\": \"so as\", \n",
    "                       \"this's\": \"this is\",\"that'd\": \"that would\", \"that'd've\": \"that would have\", \"that's\": \"that is\", \n",
    "                       \"there'd\": \"there would\", \"there'd've\": \"there would have\", \"there's\": \"there is\", \"here's\": \n",
    "                       \"here is\",\"they'd\": \"they would\", \"they'd've\": \"they would have\", \"they'll\": \"they will\", \n",
    "                       \"they'll've\": \"they will have\", \"they're\": \"they are\", \"they've\": \"they have\", \"to've\": \n",
    "                       \"to have\", \"wasn't\": \"was not\", \"we'd\": \"we would\", \"we'd've\": \"we would have\", \"we'll\": \n",
    "                       \"we will\", \"we'll've\": \"we will have\", \"we're\": \"we are\", \"we've\": \"we have\", \"weren't\": \n",
    "                       \"were not\", \"what'll\": \"what will\", \"what'll've\": \"what will have\", \"what're\": \"what are\",  \n",
    "                       \"what's\": \"what is\", \"what've\": \"what have\", \"when's\": \"when is\", \"when've\": \"when have\", \n",
    "                       \"where'd\": \"where did\", \"where's\": \"where is\", \"where've\": \"where have\", \"who'll\": \"who will\", \n",
    "                       \"who'll've\": \"who will have\", \"who's\": \"who is\", \"who've\": \"who have\", \"why's\": \"why is\", \"why've\": \n",
    "                       \"why have\", \"will've\": \"will have\", \"won't\": \"will not\", \"won't've\": \"will not have\", \"would've\": \n",
    "                       \"would have\", \"wouldn't\": \"would not\", \"wouldn't've\": \"would not have\", \"y'all\": \"you all\", \n",
    "                       \"y'all'd\": \"you all would\",\"y'all'd've\": \"you all would have\",\"y'all're\": \"you all are\",\"y'all've\": \n",
    "                       \"you all have\",\"you'd\": \"you would\", \"you'd've\": \"you would have\", \"you'll\": \"you will\", \"you'll've\": \n",
    "                       \"you will have\", \"you're\": \"you are\", \"you've\": \"you have\" , \"quorans\": \"people\", \"snapchat\":\"social medium\"}\n",
    "\n",
    "def clean_contractions(text, mapping):\n",
    "    specials = [\"’\", \"‘\", \"´\", \"`\"]\n",
    "    for s in specials:\n",
    "        text = text.replace(s, \"'\")\n",
    "    text = ' '.join([mapping[t] if t in mapping else t for t in text.split(\" \")])\n",
    "    return text"
   ]
  },
  {
   "cell_type": "code",
   "execution_count": null,
   "metadata": {},
   "outputs": [],
   "source": [
    "tqdm.pandas()"
   ]
  },
  {
   "cell_type": "code",
   "execution_count": 6,
   "metadata": {},
   "outputs": [
    {
     "data": {
      "text/plain": [
       "'Why does Quora automatically ban conservative opinions when reported, but does not do the same for liberal views?'"
      ]
     },
     "execution_count": 6,
     "metadata": {},
     "output_type": "execute_result"
    }
   ],
   "source": [
    "df['question_text'][6]"
   ]
  },
  {
   "cell_type": "markdown",
   "metadata": {},
   "source": [
    "##Cleaning"
   ]
  },
  {
   "cell_type": "code",
   "execution_count": 7,
   "metadata": {},
   "outputs": [],
   "source": [
    "from nltk.corpus import stopwords\n",
    "from bs4 import BeautifulSoup\n",
    "from nltk.stem.wordnet import WordNetLemmatizer\n",
    "import re\n",
    "def cleaning(data):\n",
    "    soup=BeautifulSoup(data).get_text()\n",
    "    x= re.sub(r'\\w*\\d\\w*', '', soup)\n",
    "    x = str(x)\n",
    "    for punct in \"/-'\":\n",
    "        x = x.replace(punct, ' ')\n",
    "    for punct in '&':\n",
    "        x = x.replace(punct, f' {punct} ')\n",
    "    for punct in '?!.,\"#$%\\'()*+-/:;<=>@[\\\\]^_`{|}~' + '“”’':\n",
    "        x = x.replace(punct, '')\n",
    "    x=re.sub('[^a-zA-Z]', ' ',soup)\n",
    "    lower=str.lower(x).split()\n",
    "    #a=[w for w in data.split()]\n",
    "    words=set(stopwords.words('english'))\n",
    "    a=[w for w in lower if not w in words]\n",
    "\n",
    "    \n",
    "    return a"
   ]
  },
  {
   "cell_type": "code",
   "execution_count": 7,
   "metadata": {},
   "outputs": [],
   "source": [
    "def clean_text(x):\n",
    "    \n",
    "    x = str(x)\n",
    "    for punct in \"/-'\":\n",
    "        x = x.replace(punct, ' ')\n",
    "    for punct in '&':\n",
    "        x = x.replace(punct, f' {punct} ')\n",
    "    for punct in '?!.,\"#$%\\'()*+-/:;<=>@[\\\\]^_`{|}~' + '“”’':\n",
    "        x = x.replace(punct, '')\n",
    "    return x\n",
    "def clean_numbers(x):\n",
    "\n",
    "    x = re.sub('[0-9]{5,}', '#####', x)\n",
    "    x = re.sub('[0-9]{4}', '####', x)\n",
    "    x = re.sub('[0-9]{3}', '###', x)\n",
    "    x = re.sub('[0-9]{2}', '##', x)\n",
    "    return x"
   ]
  },
  {
   "cell_type": "code",
   "execution_count": null,
   "metadata": {
    "scrolled": true
   },
   "outputs": [],
   "source": [
    "print (\"Cleaning and parsing the training set...\\n\")\n",
    "num_reviews=len(df['question_text'])\n",
    "et1=[]\n",
    "for i in range( 0, num_reviews ):\n",
    "    # If the index is evenly divisible by 1000, print a message\n",
    "    if( (i+1)%10000 == 0 ):\n",
    "        print (\"Review %d of %d\\n\" % ( i+1, num_reviews ) )                                                                   \n",
    "    et1.append(cleaning(df['question_text'][i]))"
   ]
  },
  {
   "cell_type": "code",
   "execution_count": 9,
   "metadata": {},
   "outputs": [],
   "source": [
    "et=[]\n",
    "for i in range(len(et1)):\n",
    "    et.extend(et1[i])"
   ]
  },
  {
   "cell_type": "code",
   "execution_count": 8,
   "metadata": {},
   "outputs": [
    {
     "name": "stderr",
     "output_type": "stream",
     "text": [
      "100%|██████████| 1306122/1306122 [00:17<00:00, 73980.25it/s]\n",
      "100%|██████████| 1306122/1306122 [00:26<00:00, 49199.40it/s]\n",
      "100%|██████████| 1306122/1306122 [00:05<00:00, 237895.68it/s]\n",
      "100%|██████████| 1306122/1306122 [00:15<00:00, 81679.01it/s]\n",
      "100%|██████████| 1306122/1306122 [00:06<00:00, 211095.41it/s]\n",
      "100%|██████████| 1306122/1306122 [00:05<00:00, 220021.45it/s]\n"
     ]
    }
   ],
   "source": [
    "df[\"question_text\"] = df[\"question_text\"].progress_apply(lambda x: clean_text(x))\n",
    "sentences = df[\"question_text\"].apply(lambda x: x.split())\n",
    "df[\"question_text\"] = df[\"question_text\"].progress_apply(lambda x: clean_numbers(x))\n",
    "sentences = df[\"question_text\"].progress_apply(lambda x: x.split())\n",
    "df[\"question_text\"] = df[\"question_text\"].progress_apply(lambda x: replace_typical_misspell(x))\n",
    "sentences = df[\"question_text\"].progress_apply(lambda x: x.split())\n",
    "to_remove = ['a','to','of','and']\n",
    "sentences = [[word for word in sentence if not word in to_remove] for sentence in tqdm(sentences)]"
   ]
  },
  {
   "cell_type": "code",
   "execution_count": 12,
   "metadata": {},
   "outputs": [
    {
     "data": {
      "text/plain": [
       "[['How',\n",
       "  'did',\n",
       "  'Quebec',\n",
       "  'nationalists',\n",
       "  'see',\n",
       "  'their',\n",
       "  'province',\n",
       "  'as',\n",
       "  'nation',\n",
       "  'in',\n",
       "  'the',\n",
       "  '####s'],\n",
       " ['Do',\n",
       "  'you',\n",
       "  'have',\n",
       "  'an',\n",
       "  'adopted',\n",
       "  'dog',\n",
       "  'how',\n",
       "  'would',\n",
       "  'you',\n",
       "  'encourage',\n",
       "  'people',\n",
       "  'adopt',\n",
       "  'not',\n",
       "  'shop'],\n",
       " ['Why',\n",
       "  'does',\n",
       "  'velocity',\n",
       "  'affect',\n",
       "  'time',\n",
       "  'Does',\n",
       "  'velocity',\n",
       "  'affect',\n",
       "  'space',\n",
       "  'geometry'],\n",
       " ...]"
      ]
     },
     "execution_count": 12,
     "metadata": {},
     "output_type": "execute_result"
    }
   ],
   "source": [
    "sentences"
   ]
  },
  {
   "cell_type": "code",
   "execution_count": 46,
   "metadata": {},
   "outputs": [
    {
     "data": {
      "text/plain": [
       "{'How': 263113,\n",
       " 'did': 34676,\n",
       " 'Quebec': 161,\n",
       " 'nationalists': 131,\n",
       " 'see': 9560,\n",
       " 'their': 34879,\n",
       " 'province': 170,\n",
       " 'as': 55731,\n",
       " 'nation': 1422,\n",
       " 'in': 367643,\n",
       " 'the': 655264,\n",
       " 's': 73516,\n",
       " 'Do': 40148,\n",
       " 'you': 199466,\n",
       " 'have': 85523,\n",
       " 'an': 67003,\n",
       " 'adopted': 363,\n",
       " 'dog': 3490,\n",
       " 'how': 26993,\n",
       " 'would': 51616,\n",
       " 'encourage': 392,\n",
       " 'people': 56359,\n",
       " 'adopt': 485,\n",
       " 'not': 49277,\n",
       " 'shop': 869,\n",
       " 'Why': 145160,\n",
       " 'does': 64105,\n",
       " 'velocity': 810,\n",
       " 'affect': 4420,\n",
       " 'time': 23783,\n",
       " 'Does': 23211,\n",
       " 'space': 3427,\n",
       " 'geometry': 219,\n",
       " 'Otto': 55,\n",
       " 'von': 87,\n",
       " 'Guericke': 4,\n",
       " 'used': 13172,\n",
       " 'Magdeburg': 7,\n",
       " 'hemispheres': 15,\n",
       " 'Can': 53044,\n",
       " 'I': 325950,\n",
       " 'convert': 1557,\n",
       " 'montra': 3,\n",
       " 'helicon': 1,\n",
       " 'D': 1294,\n",
       " 'mountain': 346,\n",
       " 'bike': 1072,\n",
       " 'by': 42288,\n",
       " 'just': 16202,\n",
       " 'changing': 1141,\n",
       " 'tyres': 92,\n",
       " 'Is': 108974,\n",
       " 'Gaza': 105,\n",
       " 'slowly': 361,\n",
       " 'becoming': 2271,\n",
       " 'Auschwitz': 29,\n",
       " 'Dachau': 4,\n",
       " 'or': 92348,\n",
       " 'Treblinka': 1,\n",
       " 'for': 201929,\n",
       " 'Palestinians': 594,\n",
       " 'Quora': 15821,\n",
       " 'automatically': 610,\n",
       " 'ban': 990,\n",
       " 'conservative': 1038,\n",
       " 'opinions': 646,\n",
       " 'when': 48213,\n",
       " 'reported': 311,\n",
       " 'but': 26702,\n",
       " 'do': 212974,\n",
       " ...}"
      ]
     },
     "execution_count": 46,
     "metadata": {},
     "output_type": "execute_result"
    }
   ],
   "source": [
    "vocab"
   ]
  },
  {
   "cell_type": "markdown",
   "metadata": {},
   "source": [
    "Counting # of words we have in vocab == model.vocab"
   ]
  }
   ],
   "source": [
    "words=[word for word in et if word in model.vocab]\n",
    "final_list = [] \n",
    "for num in words: \n",
    "    if num not in final_list: \n",
    "        final_list.append(num) "
   ]
  },
  {
   "cell_type": "code",
   "execution_count": 41,
   "metadata": {},
   "outputs": [],
   "source": [
    "vector_list=[model[word] for word in final_list if word in model.vocab]"
   ]
  },
  {
   "cell_type": "code",
   "execution_count": 42,
   "metadata": {},
   "outputs": [
    {
     "data": {
      "text/plain": [
       "123687"
      ]
     },
     "execution_count": 42,
     "metadata": {},
     "output_type": "execute_result"
    }
   ],
   "source": [
    "len(final_list)"
   ]
  },
  {
   "cell_type": "code",
   "execution_count": null,
   "metadata": {},
   "outputs": [],
   "source": [
    "# voc cleaned w stopwords = 64687\n",
    "# voc cleaned wout stopwords = 64790\n",
    "# voc uncleaned = 123687"
   ]
  },
  {
   "cell_type": "code",
   "execution_count": null,
   "metadata": {},
   "outputs": [],
   "source": []
  },
  {
   "cell_type": "code",
   "execution_count": 45,
   "metadata": {},
   "outputs": [],
   "source": []
  },
  {
   "cell_type": "markdown",
   "metadata": {},
   "source": [
    "Building vocab to check cover %"
   ]
  },
  {
   "cell_type": "code",
   "execution_count": 9,
   "metadata": {},
   "outputs": [],
   "source": [
    "def build_vocab(sentences, verbose =  True):\n",
    "    \"\"\"\n",
    "    :param sentences: list of list of words\n",
    "    :return: dictionary of words and their count\n",
    "    \"\"\"\n",
    "    vocab = {}\n",
    "    for sentence in tqdm(sentences, disable = (not verbose)):\n",
    "        for word in sentence:\n",
    "            try:\n",
    "                vocab[word] += 1\n",
    "            except KeyError:\n",
    "                vocab[word] = 1\n",
    "    return vocab"
   ]
  },
  {
   "cell_type": "code",
   "execution_count": 10,
   "metadata": {
    "scrolled": true
   },
   "outputs": [
    {
     "name": "stderr",
     "output_type": "stream",
     "text": [
      "100%|██████████| 1306122/1306122 [00:06<00:00, 214633.90it/s]\n"
     ]
    }
   ],
   "source": [
    "vocab = build_vocab(sentences)"
   ]
  },
  {
   "cell_type": "code",
   "execution_count": 12,
   "metadata": {
    "scrolled": true
   },
   "outputs": [],
   "source": [
    "import operator \n",
    "def check_coverage(vocab,embeddings_index):\n",
    "    b = {}\n",
    "    oov = {}\n",
    "    k = 0\n",
    "    i = 0\n",
    "    for word in tqdm(vocab):\n",
    "        try:\n",
    "            b[word] = embeddings_index[word]\n",
    "            k += vocab[word]\n",
    "        except:\n",
    "\n",
    "            oov[word] = vocab[word]\n",
    "            i += vocab[word]\n",
    "            pass\n",
    "\n",
    "    print('Found embeddings for {:.2%} of vocab'.format(len(b) / len(vocab)))\n",
    "    print('Found embeddings for  {:.2%} of all text'.format(k / (k + i)))\n",
    "    sorted_x = sorted(oov.items(), key=operator.itemgetter(1))[::-1]\n",
    "\n",
    "    return sorted_x"
   ]
  },
  {
   "cell_type": "code",
   "execution_count": 11,
   "metadata": {},
   "outputs": [
    {
     "data": {
      "text/plain": [
       "{'How': 263104,\n",
       " 'did': 34675,\n",
       " 'Quebec': 161,\n",
       " 'nationalists': 131,\n",
       " 'see': 9560,\n",
       " 'their': 34879,\n",
       " 'province': 170,\n",
       " 'as': 55724,\n",
       " 'nation': 1422,\n",
       " 'in': 367573,\n",
       " 'the': 655258,\n",
       " '####s': 1117,\n",
       " 'Do': 40147,\n",
       " 'you': 199466,\n",
       " 'have': 85520,\n",
       " 'an': 67001,\n",
       " 'adopted': 363,\n",
       " 'dog': 3490,\n",
       " 'how': 26987,\n",
       " 'would': 51616,\n",
       " 'encourage': 392,\n",
       " 'people': 56357,\n",
       " 'adopt': 485,\n",
       " 'not': 49277,\n",
       " 'shop': 868,\n",
       " 'Why': 145159,\n",
       " 'does': 64104,\n",
       " 'velocity': 810,\n",
       " 'affect': 4420,\n",
       " 'time': 23781,\n",
       " 'Does': 23211,\n",
       " 'space': 3427,\n",
       " 'geometry': 219,\n",
       " 'Otto': 55,\n",
       " 'von': 87,\n",
       " 'Guericke': 4,\n",
       " 'used': 13172,\n",
       " 'Magdeburg': 7,\n",
       " 'hemispheres': 15,\n",
       " 'Can': 53043,\n",
       " 'I': 325901,\n",
       " 'convert': 1557,\n",
       " 'montra': 3,\n",
       " 'helicon': 1,\n",
       " 'D': 1029,\n",
       " 'mountain': 346,\n",
       " 'bike': 1072,\n",
       " 'by': 42278,\n",
       " 'just': 16202,\n",
       " 'changing': 1141,\n",
       " 'tyres': 92,\n",
       " 'Is': 108970,\n",
       " 'Gaza': 105,\n",
       " 'slowly': 361,\n",
       " 'becoming': 2271,\n",
       " ...}"
      ]
     },
     "execution_count": 11,
     "metadata": {},
     "output_type": "execute_result"
    }
   ],
   "source": [
    "vocab"
   ]
  },
  {
   "cell_type": "code",
   "execution_count": 21,
   "metadata": {},
   "outputs": [
    {
     "name": "stderr",
     "output_type": "stream",
     "text": [
      "\n",
      "  0%|          | 0/166252 [00:00<?, ?it/s]\n",
      "  0%|          | 5/166252 [00:00<1:44:11, 26.59it/s]\n",
      "  0%|          | 16/166252 [00:00<1:21:18, 34.07it/s]\n",
      "  0%|          | 28/166252 [00:00<1:03:58, 43.30it/s]\n",
      "  0%|          | 49/166252 [00:00<48:51, 56.70it/s]  \n",
      "  0%|          | 61/166252 [00:00<41:19, 67.02it/s]\n",
      "  0%|          | 80/166252 [00:00<33:41, 82.20it/s]\n",
      "  0%|          | 110/166252 [00:00<27:02, 102.39it/s]\n",
      "  0%|          | 140/166252 [00:00<21:41, 127.61it/s]\n",
      "  0%|          | 161/166252 [00:01<21:37, 127.97it/s]\n",
      "  0%|          | 183/166252 [00:01<19:10, 144.32it/s]\n",
      "  0%|          | 208/166252 [00:01<17:18, 159.88it/s]\n",
      "  0%|          | 228/166252 [00:01<16:23, 168.83it/s]\n",
      "  0%|          | 274/166252 [00:01<13:38, 202.88it/s]\n",
      "  0%|          | 300/166252 [00:01<13:28, 205.36it/s]\n",
      "  0%|          | 330/166252 [00:01<12:49, 215.57it/s]\n",
      "  0%|          | 365/166252 [00:01<12:07, 227.94it/s]\n",
      "  0%|          | 411/166252 [00:02<10:53, 253.91it/s]\n",
      "  0%|          | 439/166252 [00:02<14:54, 185.43it/s]\n",
      "  0%|          | 470/166252 [00:02<13:12, 209.14it/s]\n",
      "  0%|          | 498/166252 [00:02<12:23, 223.07it/s]\n",
      "  0%|          | 528/166252 [00:02<11:39, 237.08it/s]\n",
      "  0%|          | 555/166252 [00:02<12:52, 214.42it/s]\n",
      "  0%|          | 579/166252 [00:03<19:05, 144.62it/s]\n",
      "  0%|          | 614/166252 [00:03<16:10, 170.63it/s]\n",
      "  0%|          | 637/166252 [00:03<15:40, 176.04it/s]\n",
      "  0%|          | 659/166252 [00:03<19:24, 142.22it/s]\n",
      "  0%|          | 685/166252 [00:03<16:49, 163.97it/s]\n",
      "  0%|          | 738/166252 [00:03<13:30, 204.18it/s]\n",
      "  0%|          | 783/166252 [00:03<11:53, 231.75it/s]\n",
      "  1%|          | 839/166252 [00:04<10:04, 273.77it/s]\n",
      "  1%|          | 875/166252 [00:04<11:53, 231.73it/s]\n",
      "  1%|          | 911/166252 [00:04<11:13, 245.65it/s]\n",
      "  1%|          | 941/166252 [00:04<10:44, 256.44it/s]\n",
      "  1%|          | 971/166252 [00:04<11:45, 234.20it/s]\n",
      "  1%|          | 1003/166252 [00:04<11:04, 248.75it/s]\n",
      "  1%|          | 1031/166252 [00:04<12:38, 217.73it/s]\n",
      "  1%|          | 1066/166252 [00:04<11:14, 245.05it/s]\n",
      "  1%|          | 1094/166252 [00:05<11:01, 249.81it/s]\n",
      "  1%|          | 1121/166252 [00:05<12:08, 226.59it/s]\n",
      "  1%|          | 1156/166252 [00:05<11:14, 244.88it/s]\n",
      "  1%|          | 1183/166252 [00:05<14:46, 186.23it/s]\n",
      "  1%|          | 1205/166252 [00:05<14:16, 192.65it/s]\n",
      "  1%|          | 1237/166252 [00:05<12:54, 213.08it/s]\n",
      "  1%|          | 1261/166252 [00:05<15:38, 175.89it/s]\n",
      "  1%|          | 1307/166252 [00:06<12:51, 213.79it/s]\n",
      "  1%|          | 1343/166252 [00:06<11:31, 238.61it/s]\n",
      "  1%|          | 1372/166252 [00:06<11:33, 237.75it/s]\n",
      "  1%|          | 1400/166252 [00:06<13:03, 210.30it/s]\n",
      "  1%|          | 1425/166252 [00:06<13:15, 207.10it/s]\n",
      "  1%|          | 1456/166252 [00:06<12:15, 224.01it/s]\n",
      "  1%|          | 1488/166252 [00:06<11:34, 237.40it/s]\n",
      "  1%|          | 1514/166252 [00:06<12:33, 218.55it/s]\n",
      "  1%|          | 1570/166252 [00:07<10:17, 266.71it/s]\n",
      "  1%|          | 1625/166252 [00:07<08:50, 310.11it/s]\n",
      "  1%|          | 1663/166252 [00:07<08:46, 312.82it/s]\n",
      "  1%|          | 1717/166252 [00:07<08:05, 339.11it/s]\n",
      "  1%|          | 1755/166252 [00:07<10:40, 256.68it/s]\n",
      "  1%|          | 1788/166252 [00:07<09:59, 274.32it/s]\n",
      "  1%|          | 1821/166252 [00:07<09:54, 276.59it/s]\n",
      "  1%|          | 1852/166252 [00:08<10:34, 259.29it/s]\n",
      "  1%|          | 1881/166252 [00:08<18:55, 144.71it/s]\n",
      "  1%|          | 1911/166252 [00:08<16:15, 168.43it/s]\n",
      "  1%|          | 1942/166252 [00:08<14:09, 193.34it/s]\n",
      "  1%|          | 2015/166252 [00:08<11:06, 246.28it/s]\n",
      "  1%|          | 2054/166252 [00:08<11:39, 234.87it/s]\n",
      "  1%|▏         | 2141/166252 [00:09<09:17, 294.62it/s]\n",
      "  1%|▏         | 2186/166252 [00:09<08:47, 310.95it/s]\n",
      "  1%|▏         | 2250/166252 [00:09<07:26, 367.02it/s]\n",
      "  1%|▏         | 2325/166252 [00:09<06:37, 411.98it/s]\n",
      "  1%|▏         | 2377/166252 [00:09<08:03, 338.86it/s]\n",
      "  1%|▏         | 2421/166252 [00:10<13:29, 202.30it/s]\n",
      "  1%|▏         | 2464/166252 [00:10<11:38, 234.60it/s]\n",
      "  2%|▏         | 2553/166252 [00:10<09:04, 300.51it/s]\n",
      "  2%|▏         | 2604/166252 [00:10<09:54, 275.08it/s]\n",
      "  2%|▏         | 2707/166252 [00:10<07:50, 347.26it/s]\n",
      "  2%|▏         | 2764/166252 [00:10<09:00, 302.54it/s]\n",
      "  2%|▏         | 2811/166252 [00:11<11:44, 231.93it/s]\n",
      "  2%|▏         | 2849/166252 [00:11<11:38, 234.00it/s]\n",
      "  2%|▏         | 2908/166252 [00:11<09:39, 282.03it/s]\n",
      "  2%|▏         | 2948/166252 [00:11<08:50, 307.97it/s]\n",
      "  2%|▏         | 3016/166252 [00:11<08:26, 322.33it/s]\n",
      "  2%|▏         | 3055/166252 [00:12<23:37, 115.11it/s]\n",
      "  2%|▏         | 3099/166252 [00:12<18:47, 144.65it/s]\n",
      "  2%|▏         | 3130/166252 [00:12<16:36, 163.75it/s]\n",
      "  2%|▏         | 3159/166252 [00:12<16:07, 168.63it/s]\n",
      "  2%|▏         | 3185/166252 [00:13<15:32, 174.81it/s]\n",
      "  2%|▏         | 3230/166252 [00:13<12:58, 209.31it/s]\n",
      "  2%|▏         | 3274/166252 [00:13<11:33, 234.85it/s]\n",
      "  2%|▏         | 3307/166252 [00:13<10:56, 248.38it/s]\n",
      "  2%|▏         | 3358/166252 [00:13<09:20, 290.54it/s]\n",
      "  2%|▏         | 3393/166252 [00:13<09:42, 279.71it/s]\n",
      "  2%|▏         | 3426/166252 [00:13<10:47, 251.55it/s]\n",
      "  2%|▏         | 3455/166252 [00:14<11:08, 243.49it/s]\n",
      "  2%|▏         | 3507/166252 [00:14<09:25, 287.78it/s]\n",
      "  2%|▏         | 3552/166252 [00:14<08:30, 318.56it/s]\n",
      "  2%|▏         | 3589/166252 [00:14<10:59, 246.65it/s]\n",
      "  2%|▏         | 3620/166252 [00:14<11:48, 229.49it/s]\n",
      "  2%|▏         | 3649/166252 [00:14<11:47, 229.69it/s]\n",
      "  2%|▏         | 3694/166252 [00:14<10:20, 262.17it/s]\n",
      "  2%|▏         | 3773/166252 [00:14<08:38, 313.08it/s]\n",
      "  2%|▏         | 3812/166252 [00:15<08:14, 328.56it/s]\n",
      "  2%|▏         | 3850/166252 [00:15<08:28, 319.16it/s]\n",
      "  2%|▏         | 3893/166252 [00:15<07:51, 344.24it/s]\n",
      "  2%|▏         | 3931/166252 [00:15<08:05, 334.59it/s]\n",
      "  2%|▏         | 3967/166252 [00:15<08:36, 314.08it/s]\n",
      "  2%|▏         | 4033/166252 [00:15<07:39, 352.95it/s]\n",
      "  2%|▏         | 4078/166252 [00:15<07:15, 372.67it/s]\n",
      "  2%|▏         | 4140/166252 [00:15<06:31, 414.00it/s]\n",
      "  3%|▎         | 4185/166252 [00:16<07:13, 373.48it/s]\n",
      "  3%|▎         | 4253/166252 [00:16<06:27, 417.55it/s]\n",
      "  3%|▎         | 4345/166252 [00:16<05:27, 493.74it/s]\n",
      "  3%|▎         | 4403/166252 [00:16<08:46, 307.31it/s]\n",
      "  3%|▎         | 4449/166252 [00:16<08:24, 320.60it/s]\n",
      "  3%|▎         | 4492/166252 [00:16<09:20, 288.41it/s]\n",
      "  3%|▎         | 4575/166252 [00:17<07:38, 352.67it/s]\n",
      "  3%|▎         | 4623/166252 [00:17<07:03, 381.33it/s]\n",
      "  3%|▎         | 4674/166252 [00:17<06:31, 412.55it/s]\n",
      "  3%|▎         | 4754/166252 [00:17<05:47, 464.19it/s]\n",
      "  3%|▎         | 4808/166252 [00:17<05:59, 449.50it/s]\n",
      "  3%|▎         | 4859/166252 [00:17<07:16, 369.76it/s]\n",
      "  3%|▎         | 4930/166252 [00:17<06:17, 427.17it/s]\n",
      "  3%|▎         | 4981/166252 [00:17<06:03, 443.19it/s]\n",
      "  3%|▎         | 5044/166252 [00:18<05:42, 471.17it/s]\n",
      "  3%|▎         | 5096/166252 [00:18<07:16, 369.17it/s]\n",
      "  3%|▎         | 5143/166252 [00:18<06:58, 384.86it/s]\n",
      "  3%|▎         | 5197/166252 [00:18<06:37, 405.04it/s]\n",
      "  3%|▎         | 5242/166252 [00:18<07:35, 353.57it/s]\n",
      "  3%|▎         | 5282/166252 [00:18<09:14, 290.50it/s]\n",
      "  3%|▎         | 5316/166252 [00:18<09:19, 287.57it/s]\n",
      "  3%|▎         | 5348/166252 [00:19<10:49, 247.69it/s]\n",
      "  3%|▎         | 5423/166252 [00:19<08:45, 305.79it/s]\n",
      "  3%|▎         | 5463/166252 [00:19<09:21, 286.60it/s]\n",
      "  3%|▎         | 5499/166252 [00:19<09:26, 283.62it/s]\n",
      "  3%|▎         | 5537/166252 [00:19<09:01, 296.90it/s]\n",
      "  3%|▎         | 5599/166252 [00:19<07:41, 347.77it/s]\n",
      "  3%|▎         | 5640/166252 [00:19<08:37, 310.54it/s]\n",
      "  3%|▎         | 5701/166252 [00:20<07:24, 360.94it/s]\n",
      "  3%|▎         | 5744/166252 [00:20<11:04, 241.71it/s]\n",
      "  3%|▎         | 5802/166252 [00:20<09:10, 291.64it/s]\n",
      "  4%|▎         | 5855/166252 [00:20<08:00, 333.94it/s]\n",
      "  4%|▎         | 5899/166252 [00:20<07:40, 348.01it/s]\n",
      "  4%|▎         | 5942/166252 [00:20<07:50, 341.01it/s]\n",
      "  4%|▎         | 6033/166252 [00:20<06:33, 407.34it/s]\n",
      "  4%|▎         | 6083/166252 [00:21<12:39, 210.85it/s]\n",
      "  4%|▎         | 6188/166252 [00:21<09:40, 275.60it/s]\n",
      "  4%|▍         | 6335/166252 [00:21<07:20, 362.81it/s]\n",
      "  4%|▍         | 6469/166252 [00:21<05:45, 462.01it/s]\n",
      "  4%|▍         | 6564/166252 [00:21<05:05, 521.87it/s]\n",
      "  4%|▍         | 6653/166252 [00:22<04:52, 545.41it/s]\n",
      "  4%|▍         | 6734/166252 [00:22<05:16, 504.16it/s]\n",
      "  4%|▍         | 6804/166252 [00:22<06:04, 436.97it/s]\n",
      "  4%|▍         | 6878/166252 [00:22<05:21, 496.16it/s]\n",
      "  4%|▍         | 6941/166252 [00:22<05:27, 486.92it/s]\n",
      "  4%|▍         | 7065/166252 [00:22<04:29, 590.29it/s]\n",
      "  4%|▍         | 7141/166252 [00:22<04:33, 581.81it/s]\n",
      "  4%|▍         | 7211/166252 [00:23<04:37, 573.67it/s]\n",
      "  4%|▍         | 7397/166252 [00:23<03:43, 710.56it/s]\n",
      "  5%|▍         | 7544/166252 [00:23<03:11, 829.49it/s]\n",
      "  5%|▍         | 7651/166252 [00:23<03:06, 849.22it/s]\n",
      "  5%|▍         | 7801/166252 [00:23<02:42, 976.28it/s]\n",
      "  5%|▍         | 7918/166252 [00:23<02:51, 920.59it/s]\n",
      "  5%|▍         | 8047/166252 [00:23<02:37, 1004.74it/s]\n",
      "  5%|▍         | 8270/166252 [00:23<02:11, 1203.03it/s]\n",
      "  5%|▌         | 8416/166252 [00:23<02:18, 1139.25it/s]\n",
      "  5%|▌         | 8549/166252 [00:24<02:13, 1180.94it/s]\n",
      "  5%|▌         | 8683/166252 [00:24<02:10, 1211.24it/s]\n",
      "  5%|▌         | 8814/166252 [00:24<02:29, 1053.82it/s]\n",
      "  5%|▌         | 8930/166252 [00:24<02:33, 1026.05it/s]\n",
      "  5%|▌         | 9041/166252 [00:24<02:30, 1046.88it/s]\n",
      "  6%|▌         | 9182/166252 [00:24<02:20, 1120.99it/s]\n",
      "  6%|▌         | 9300/166252 [00:24<02:26, 1072.85it/s]\n",
      "  6%|▌         | 9412/166252 [00:24<02:26, 1070.97it/s]\n",
      "  6%|▌         | 9572/166252 [00:24<02:15, 1152.90it/s]\n",
      "  6%|▌         | 9692/166252 [00:25<02:29, 1044.73it/s]\n",
      "  6%|▌         | 9838/166252 [00:25<02:20, 1110.89it/s]\n",
      "  6%|▌         | 10083/166252 [00:25<01:57, 1328.76it/s]\n",
      "  6%|▌         | 10247/166252 [00:25<01:52, 1387.50it/s]\n",
      "  6%|▋         | 10432/166252 [00:25<01:47, 1447.18it/s]\n",
      "  6%|▋         | 10589/166252 [00:25<02:57, 876.38it/s] \n",
      "  6%|▋         | 10713/166252 [00:26<02:50, 912.12it/s]\n",
      "  7%|▋         | 10887/166252 [00:26<02:27, 1052.40it/s]\n",
      "  7%|▋         | 11059/166252 [00:26<02:12, 1169.22it/s]\n",
      "  7%|▋         | 11198/166252 [00:26<02:33, 1008.55it/s]\n",
      "  7%|▋         | 11319/166252 [00:26<02:37, 983.87it/s] \n",
      "  7%|▋         | 11432/166252 [00:26<02:34, 1001.78it/s]\n",
      "  7%|▋         | 11542/166252 [00:26<04:00, 644.15it/s] \n",
      "  7%|▋         | 11630/166252 [00:27<03:53, 661.00it/s]\n",
      "  7%|▋         | 11811/166252 [00:27<03:09, 814.28it/s]\n",
      "  7%|▋         | 11971/166252 [00:27<02:41, 954.96it/s]\n",
      "  7%|▋         | 12097/166252 [00:27<02:39, 963.58it/s]\n",
      "  7%|▋         | 12257/166252 [00:27<02:22, 1083.02it/s]\n",
      "  8%|▊         | 12492/166252 [00:27<01:59, 1285.62it/s]\n",
      "  8%|▊         | 12710/166252 [00:27<01:45, 1457.22it/s]\n",
      "  8%|▊         | 12885/166252 [00:27<01:47, 1432.47it/s]\n",
      "  8%|▊         | 13167/166252 [00:27<01:32, 1659.75it/s]\n",
      "  8%|▊         | 13390/166252 [00:28<01:27, 1751.05it/s]\n",
      "  8%|▊         | 13586/166252 [00:28<01:46, 1432.16it/s]\n",
      "  8%|▊         | 13770/166252 [00:28<01:42, 1485.83it/s]\n",
      "  8%|▊         | 14009/166252 [00:28<01:31, 1665.52it/s]\n",
      "  9%|▊         | 14414/166252 [00:28<01:15, 1998.83it/s]\n",
      "  9%|▉         | 14657/166252 [00:28<01:15, 2001.62it/s]\n",
      "  9%|▉         | 14898/166252 [00:28<01:13, 2070.74it/s]\n",
      "  9%|▉         | 15127/166252 [00:28<01:20, 1866.12it/s]\n",
      "  9%|▉         | 15333/166252 [00:29<01:22, 1838.06it/s]\n",
      "  9%|▉         | 15692/166252 [00:29<01:10, 2122.73it/s]\n",
      " 10%|▉         | 15930/166252 [00:29<01:27, 1714.85it/s]\n",
      " 10%|▉         | 16221/166252 [00:29<01:18, 1909.60it/s]\n",
      " 10%|▉         | 16441/166252 [00:29<01:44, 1438.39it/s]\n",
      " 10%|▉         | 16622/166252 [00:29<01:49, 1369.27it/s]\n",
      " 10%|█         | 16963/166252 [00:30<01:31, 1635.27it/s]\n",
      " 10%|█         | 17250/166252 [00:30<01:20, 1844.99it/s]\n",
      " 11%|█         | 17703/166252 [00:30<01:07, 2214.37it/s]\n",
      " 11%|█         | 17984/166252 [00:30<01:11, 2076.38it/s]\n",
      " 11%|█         | 18278/166252 [00:30<01:05, 2266.48it/s]\n",
      " 11%|█         | 18540/166252 [00:30<01:03, 2330.54it/s]\n",
      " 11%|█▏        | 18869/166252 [00:30<00:58, 2512.99it/s]\n",
      " 12%|█▏        | 19142/166252 [00:30<01:00, 2443.02it/s]\n",
      " 12%|█▏        | 19402/166252 [00:30<01:03, 2309.05it/s]\n",
      " 12%|█▏        | 19646/166252 [00:31<01:04, 2287.40it/s]\n",
      " 12%|█▏        | 19884/166252 [00:31<01:10, 2077.94it/s]\n",
      " 12%|█▏        | 20332/166252 [00:31<00:59, 2455.87it/s]\n",
      " 12%|█▏        | 20630/166252 [00:31<00:57, 2539.60it/s]\n",
      " 13%|█▎        | 20920/166252 [00:31<00:55, 2637.91it/s]\n",
      " 13%|█▎        | 21231/166252 [00:31<00:54, 2678.05it/s]\n",
      " 13%|█▎        | 21512/166252 [00:31<01:01, 2372.28it/s]\n",
      " 13%|█▎        | 21807/166252 [00:31<00:58, 2463.49it/s]\n",
      " 13%|█▎        | 22086/166252 [00:32<00:57, 2525.35it/s]\n",
      " 13%|█▎        | 22348/166252 [00:32<01:10, 2040.07it/s]\n",
      " 14%|█▎        | 22614/166252 [00:32<01:05, 2182.60it/s]\n",
      " 14%|█▍        | 23030/166252 [00:32<00:57, 2472.94it/s]\n",
      " 14%|█▍        | 23460/166252 [00:32<00:50, 2800.95it/s]\n",
      " 14%|█▍        | 23773/166252 [00:32<00:52, 2690.72it/s]\n",
      " 15%|█▍        | 24108/166252 [00:32<00:50, 2809.15it/s]\n",
      " 15%|█▍        | 24407/166252 [00:32<00:56, 2501.90it/s]\n",
      " 15%|█▍        | 24899/166252 [00:32<00:48, 2934.56it/s]\n",
      " 15%|█▌        | 25235/166252 [00:33<00:52, 2678.34it/s]\n",
      " 15%|█▌        | 25537/166252 [00:33<01:02, 2251.50it/s]\n",
      " 16%|█▌        | 25798/166252 [00:33<01:00, 2304.68it/s]\n",
      " 16%|█▌        | 26245/166252 [00:33<00:53, 2639.21it/s]\n",
      " 16%|█▌        | 26692/166252 [00:33<00:46, 2984.77it/s]\n",
      " 16%|█▋        | 27076/166252 [00:33<00:43, 3198.43it/s]\n",
      " 16%|█▋        | 27428/166252 [00:33<00:47, 2898.55it/s]\n",
      " 17%|█▋        | 27915/166252 [00:34<00:41, 3299.18it/s]\n",
      " 17%|█▋        | 28284/166252 [00:34<00:41, 3288.94it/s]\n",
      " 17%|█▋        | 28640/166252 [00:34<00:44, 3126.34it/s]\n",
      " 17%|█▋        | 28974/166252 [00:34<00:48, 2802.33it/s]\n",
      " 18%|█▊        | 29275/166252 [00:34<00:50, 2707.09it/s]\n",
      " 18%|█▊        | 29561/166252 [00:35<02:08, 1065.71it/s]\n",
      " 18%|█▊        | 29775/166252 [00:35<02:39, 855.76it/s] \n",
      " 18%|█▊        | 29942/166252 [00:35<02:49, 805.18it/s]\n",
      " 18%|█▊        | 30081/166252 [00:35<02:30, 907.05it/s]\n",
      " 18%|█▊        | 30555/166252 [00:35<01:53, 1190.34it/s]\n",
      " 19%|█▊        | 31094/166252 [00:36<01:27, 1553.45it/s]\n",
      " 19%|█▉        | 31415/166252 [00:36<01:17, 1730.94it/s]\n",
      " 19%|█▉        | 31820/166252 [00:36<01:05, 2051.82it/s]\n",
      " 19%|█▉        | 32245/166252 [00:36<00:55, 2416.22it/s]\n",
      " 20%|█▉        | 32695/166252 [00:36<00:48, 2779.99it/s]\n",
      " 20%|█▉        | 33065/166252 [00:36<00:48, 2725.23it/s]\n",
      " 20%|██        | 33485/166252 [00:36<00:44, 2956.03it/s]\n",
      " 20%|██        | 33878/166252 [00:36<00:41, 3177.92it/s]\n",
      " 21%|██        | 34248/166252 [00:36<00:39, 3318.34it/s]\n",
      " 21%|██        | 34610/166252 [00:37<00:40, 3247.64it/s]\n",
      " 21%|██        | 35277/166252 [00:37<00:34, 3786.16it/s]\n",
      " 22%|██▏       | 35750/166252 [00:37<00:33, 3888.14it/s]\n",
      " 22%|██▏       | 36174/166252 [00:37<00:37, 3460.17it/s]\n",
      " 22%|██▏       | 36554/166252 [00:37<00:38, 3339.87it/s]\n",
      " 22%|██▏       | 37164/166252 [00:37<00:33, 3857.07it/s]\n",
      " 23%|██▎       | 37794/166252 [00:37<00:29, 4319.88it/s]\n",
      " 23%|██▎       | 38277/166252 [00:37<00:35, 3651.65it/s]\n",
      " 23%|██▎       | 38696/166252 [00:38<00:33, 3787.68it/s]\n",
      " 24%|██▎       | 39114/166252 [00:38<00:43, 2924.02it/s]\n",
      " 24%|██▍       | 39827/166252 [00:38<00:35, 3542.12it/s]\n",
      " 24%|██▍       | 40523/166252 [00:38<00:30, 4088.19it/s]\n",
      " 25%|██▍       | 41083/166252 [00:38<00:28, 4344.86it/s]\n",
      " 25%|██▌       | 41593/166252 [00:38<00:28, 4405.37it/s]\n",
      " 25%|██▌       | 42321/166252 [00:38<00:24, 4987.02it/s]\n",
      " 26%|██▌       | 42965/166252 [00:38<00:23, 5309.31it/s]\n",
      " 26%|██▌       | 43546/166252 [00:39<00:24, 5038.88it/s]\n",
      " 27%|██▋       | 44088/166252 [00:39<00:25, 4729.63it/s]\n",
      " 27%|██▋       | 44592/166252 [00:39<00:27, 4390.40it/s]\n",
      " 27%|██▋       | 45191/166252 [00:39<00:25, 4727.49it/s]\n",
      " 28%|██▊       | 45869/166252 [00:39<00:23, 5082.71it/s]\n",
      " 28%|██▊       | 46676/166252 [00:39<00:20, 5717.60it/s]\n",
      " 28%|██▊       | 47292/166252 [00:39<00:20, 5666.02it/s]\n",
      " 29%|██▉       | 47890/166252 [00:39<00:20, 5707.16it/s]\n",
      " 29%|██▉       | 48592/166252 [00:39<00:19, 6015.21it/s]\n",
      " 30%|██▉       | 49411/166252 [00:40<00:18, 6428.05it/s]\n",
      " 30%|███       | 50409/166252 [00:40<00:16, 7043.96it/s]\n",
      " 31%|███       | 51147/166252 [00:40<00:19, 5878.49it/s]\n",
      " 31%|███▏      | 51975/166252 [00:40<00:18, 6335.19it/s]\n",
      " 32%|███▏      | 52965/166252 [00:40<00:16, 6982.11it/s]\n",
      " 32%|███▏      | 53718/166252 [00:40<00:15, 7057.52it/s]\n"
     ]
    },
    {
     "name": "stderr",
     "output_type": "stream",
     "text": [
      " 33%|███▎      | 54463/166252 [00:40<00:19, 5678.52it/s]\n",
      " 33%|███▎      | 55216/166252 [00:40<00:18, 6130.67it/s]\n",
      " 34%|███▍      | 56391/166252 [00:41<00:15, 6905.12it/s]\n",
      " 34%|███▍      | 57284/166252 [00:41<00:15, 7229.08it/s]\n",
      " 35%|███▍      | 58063/166252 [00:41<00:16, 6583.06it/s]\n",
      " 35%|███▌      | 58772/166252 [00:41<00:16, 6382.07it/s]\n",
      " 36%|███▌      | 59716/166252 [00:41<00:15, 6913.63it/s]\n",
      " 36%|███▋      | 60652/166252 [00:41<00:14, 7377.56it/s]\n",
      " 37%|███▋      | 61745/166252 [00:41<00:13, 8030.38it/s]\n",
      " 38%|███▊      | 62634/166252 [00:41<00:13, 7959.16it/s]\n",
      " 38%|███▊      | 63700/166252 [00:42<00:11, 8572.20it/s]\n",
      " 39%|███▉      | 64592/166252 [00:42<00:12, 7869.96it/s]\n",
      " 39%|███▉      | 65643/166252 [00:42<00:11, 8490.61it/s]\n",
      " 40%|████      | 67174/166252 [00:42<00:10, 9743.93it/s]\n",
      " 41%|████      | 68535/166252 [00:42<00:09, 10651.50it/s]\n",
      " 42%|████▏     | 69691/166252 [00:42<00:09, 10268.92it/s]\n",
      " 43%|████▎     | 70936/166252 [00:42<00:09, 10562.52it/s]\n",
      " 43%|████▎     | 72041/166252 [00:42<00:09, 10460.80it/s]\n",
      " 44%|████▍     | 73122/166252 [00:42<00:09, 9923.00it/s] \n",
      " 45%|████▍     | 74562/166252 [00:43<00:08, 10844.68it/s]\n",
      " 46%|████▌     | 75693/166252 [00:43<00:08, 10491.11it/s]\n",
      " 46%|████▌     | 76777/166252 [00:43<00:08, 10146.97it/s]\n",
      " 47%|████▋     | 77819/166252 [00:43<00:09, 9030.56it/s] \n",
      " 47%|████▋     | 78764/166252 [00:43<00:09, 8969.84it/s]\n",
      " 48%|████▊     | 80051/166252 [00:43<00:08, 9866.74it/s]\n",
      " 49%|████▉     | 81086/166252 [00:43<00:09, 9205.66it/s]\n",
      " 50%|████▉     | 82496/166252 [00:43<00:08, 10034.27it/s]\n",
      " 51%|█████     | 84472/166252 [00:43<00:07, 11586.07it/s]\n",
      " 52%|█████▏    | 86468/166252 [00:44<00:06, 13227.76it/s]\n",
      " 53%|█████▎    | 88140/166252 [00:44<00:05, 13562.35it/s]\n",
      " 54%|█████▍    | 89686/166252 [00:44<00:05, 13966.14it/s]\n",
      " 55%|█████▌    | 91787/166252 [00:44<00:04, 15391.21it/s]\n",
      " 56%|█████▌    | 93432/166252 [00:44<00:05, 14191.10it/s]\n",
      " 58%|█████▊    | 95876/166252 [00:44<00:04, 16233.14it/s]\n",
      " 59%|█████▉    | 98475/166252 [00:44<00:03, 17989.27it/s]\n",
      " 61%|██████    | 101086/166252 [00:44<00:03, 19705.47it/s]\n",
      " 62%|██████▏   | 103230/166252 [00:44<00:03, 18665.58it/s]\n",
      " 63%|██████▎   | 105229/166252 [00:45<00:03, 18311.09it/s]\n",
      " 65%|██████▍   | 107585/166252 [00:45<00:03, 19285.02it/s]\n",
      " 66%|██████▌   | 109594/166252 [00:45<00:02, 19183.79it/s]\n",
      " 67%|██████▋   | 111569/166252 [00:45<00:03, 16827.34it/s]\n",
      " 68%|██████▊   | 113344/166252 [00:45<00:03, 16520.83it/s]\n",
      " 70%|██████▉   | 115831/166252 [00:45<00:02, 18289.74it/s]\n",
      " 71%|███████   | 117765/166252 [00:45<00:02, 18485.71it/s]\n",
      " 72%|███████▏  | 119688/166252 [00:45<00:02, 18648.15it/s]\n",
      " 74%|███████▎  | 122370/166252 [00:45<00:02, 20063.32it/s]\n",
      " 75%|███████▍  | 124444/166252 [00:46<00:02, 20261.31it/s]\n",
      " 77%|███████▋  | 128227/166252 [00:46<00:01, 23280.12it/s]\n",
      " 79%|███████▊  | 130749/166252 [00:46<00:01, 23695.29it/s]\n",
      " 80%|████████  | 133257/166252 [00:46<00:01, 23955.88it/s]\n",
      " 82%|████████▏ | 136407/166252 [00:46<00:01, 25558.63it/s]\n",
      " 84%|████████▍ | 140213/166252 [00:46<00:00, 28225.95it/s]\n",
      " 86%|████████▋ | 143635/166252 [00:46<00:00, 29791.01it/s]\n",
      " 88%|████████▊ | 146746/166252 [00:46<00:00, 24827.97it/s]\n",
      " 90%|████████▉ | 149460/166252 [00:46<00:00, 22783.56it/s]\n",
      " 91%|█████████▏| 151933/166252 [00:47<00:00, 22880.75it/s]\n",
      " 93%|█████████▎| 154358/166252 [00:47<00:00, 22944.30it/s]\n",
      " 95%|█████████▌| 158517/166252 [00:47<00:00, 25253.86it/s]\n",
      " 97%|█████████▋| 161238/166252 [00:47<00:00, 25736.85it/s]\n",
      " 99%|█████████▉| 164622/166252 [00:47<00:00, 27325.35it/s]\n",
      "100%|██████████| 166252/166252 [00:47<00:00, 3495.35it/s] "
     ]
    },
    {
     "name": "stdout",
     "output_type": "stream",
     "text": [
      "Found embeddings for 38.94% of vocab\n",
      "Found embeddings for  95.86% of all text\n"
     ]
    }
   ],
   "source": [
    "oov = check_coverage(vocab,model) #cleaned w stopwords +mispells + short namesupd2"
   ]
  },
  {
   "cell_type": "code",
   "execution_count": 12,
   "metadata": {},
   "outputs": [
    {
     "name": "stderr",
     "output_type": "stream",
     "text": [
      "100%|██████████| 214527/214527 [00:48<00:00, 4423.44it/s] \n"
     ]
    },
    {
     "name": "stdout",
     "output_type": "stream",
     "text": [
      "Found embeddings for 30.79% of vocab\n",
      "Found embeddings for  94.75% of all text\n"
     ]
    }
   ],
   "source": [
    "oov = check_coverage(vocab,model) #cleaned w stopwords + some regex replacing [^a-zA-Z] upd"
   ]
  },
  {
   "cell_type": "code",
   "execution_count": 29,
   "metadata": {},
   "outputs": [
    {
     "name": "stderr",
     "output_type": "stream",
     "text": [
      "100%|██████████| 508823/508823 [05:54<00:00, 1437.28it/s]\n"
     ]
    },
    {
     "name": "stdout",
     "output_type": "stream",
     "text": [
      "Found embeddings for 24.31% of vocab\n",
      "Found embeddings for  78.75% of all text\n"
     ]
    }
   ],
   "source": [
    "oov = check_coverage(vocab,model) #uncleaned"
   ]
  },
  {
   "cell_type": "code",
   "execution_count": 37,
   "metadata": {},
   "outputs": [
    {
     "name": "stderr",
     "output_type": "stream",
     "text": [
      "100%|██████████| 165531/165531 [00:30<00:00, 5347.68it/s]\n"
     ]
    },
    {
     "name": "stdout",
     "output_type": "stream",
     "text": [
      "Found embeddings for 39.08% of vocab\n",
      "Found embeddings for  95.78% of all text\n"
     ]
    }
   ],
   "source": [
    "oov = check_coverage(vocab,model) #cleaned w stopwords"
   ]
  },
  {
   "cell_type": "code",
   "execution_count": 44,
   "metadata": {},
   "outputs": [
    {
     "name": "stderr",
     "output_type": "stream",
     "text": [
      "100%|██████████| 165639/165639 [07:18<00:00, 377.49it/s] \n"
     ]
    },
    {
     "name": "stdout",
     "output_type": "stream",
     "text": [
      "Found embeddings for 39.12% of vocab\n",
      "Found embeddings for  89.15% of all text\n"
     ]
    }
   ],
   "source": [
    "oov = check_coverage(vocab,model) #cleaned wout stopwords"
   ]
  },
  {
   "cell_type": "markdown",
   "metadata": {},
   "source": [
    "best"
   ]
  },
  {
   "cell_type": "code",
   "execution_count": 16,
   "metadata": {
    "scrolled": false
   },
   "outputs": [
    {
     "name": "stderr",
     "output_type": "stream",
     "text": [
      "100%|██████████| 178635/178635 [00:31<00:00, 5641.79it/s] \n"
     ]
    },
    {
     "name": "stdout",
     "output_type": "stream",
     "text": [
      "Found embeddings for 42.36% of vocab\n",
      "Found embeddings for  95.88% of all text\n"
     ]
    }
   ],
   "source": [
    "oov = check_coverage(vocab,model) #cleaned w stopwords wout lemm + misspels + contractions"
   ]
  },
  {
   "cell_type": "code",
   "execution_count": 15,
   "metadata": {},
   "outputs": [
    {
     "name": "stderr",
     "output_type": "stream",
     "text": [
      "100%|██████████| 242920/242920 [03:26<00:00, 1177.75it/s] \n"
     ]
    },
    {
     "name": "stdout",
     "output_type": "stream",
     "text": [
      "Found embeddings for 60.43% of vocab\n",
      "Found embeddings for  98.99% of all text\n"
     ]
    }
   ],
   "source": [
    "oov = check_coverage(vocab,model) #final"
   ]
  },
  {
   "cell_type": "code",
   "execution_count": null,
   "metadata": {},
   "outputs": [],
   "source": [
    "def build_matrix(word_index, path):\n",
    "    embedding_matrix = np.zeros((len(word_index) + 1, 300))\n",
    "    for word, i in word_index.items():\n",
    "        for candidate in [word, word.lower()]:\n",
    "            if candidate in embedding_index:\n",
    "                embedding_matrix[i] = embedding_index[candidate]\n",
    "                break\n",
    "    return embedding_matrix"
   ]
  },
  {
   "cell_type": "code",
   "execution_count": null,
   "metadata": {},
   "outputs": [
    {
     "name": "stderr",
     "output_type": "stream",
     "text": [
      "Using TensorFlow backend.\n"
     ]
    }
   ],
   "source": [
    "from keras.preprocessing.sequence import pad_sequences\n",
    "from keras.models import Sequential\n",
    "from keras.layers import Dense\n",
    "from keras.layers import Flatten\n",
    "from keras.layers.embeddings import Embedding"
   ]
  },
  {
   "cell_type": "code",
   "execution_count": null,
   "metadata": {},
   "outputs": [],
   "source": [
    "from keras.preprocessing.text import Tokenizer\n",
    "tokenizer = Tokenizer(num_words=50000)\n",
    "tokenizer.fit_on_texts(sentences)\n",
    "sequences = tokenizer.texts_to_sequences(sentences)\n",
    "\n",
    "word_index = tokenizer.word_index"
   ]
  },
  {
   "cell_type": "code",
   "execution_count": 16,
   "metadata": {},
   "outputs": [],
   "source": [
    "data = pad_sequences(sequences, maxlen=120)"
   ]
  },
  {
   "cell_type": "code",
   "execution_count": null,
   "metadata": {},
   "outputs": [],
   "source": [
    "embedding_matrix = np.zeros((len(word_index) + 1, 300))\n",
    "for word, i in word_index.items():\n",
    "    if word in model.vocab:\n",
    "        embedding_vector = model[word]\n",
    "        if embedding_vector is not None:\n",
    "            # words not found in embedding index will be all-zeros.\n",
    "            embedding_matrix[i] = embedding_vector"
   ]
  },
  {
   "cell_type": "code",
   "execution_count": null,
   "metadata": {},
   "outputs": [],
   "source": [
    "#uncleaned\n",
    "#Found embeddings for 24.31% of vocab\n",
    "#Found embeddings for  78.75% of all text\n",
    "\n",
    "#cleaned no stop\n",
    "#Found embeddings for 39.12% of vocab\n",
    "#Found embeddings for  89.15% of all text\n",
    "\n",
    "#cleaned stop\n",
    "#Found embeddings for 39.08% of vocab\n",
    "#Found embeddings for  95.78% of all text"
   ]
  },
  {
   "cell_type": "code",
   "execution_count": 19,
   "metadata": {},
   "outputs": [
    {
     "data": {
      "text/plain": [
       "300"
      ]
     },
     "execution_count": 19,
     "metadata": {},
     "output_type": "execute_result"
    }
   ],
   "source": [
    "model['did']"
   ]
  },
  {
   "cell_type": "code",
   "execution_count": null,
   "metadata": {
    "scrolled": true
   },
   "outputs": [
    {
     "name": "stderr",
     "output_type": "stream",
     "text": [
      " 94%|█████████▍| 1226273/1306122 [02:35<00:12, 6599.78it/s] "
     ]
    }
   ],
   "source": [
    "vector_list=[[model[word] if word in model.vocab else np.random.normal(scale=0.6, size=(300, )) for word in sentence ] for sentence in tqdm(sentences)]"
   ]
  },
  {
   "cell_type": "code",
   "execution_count": null,
   "metadata": {},
   "outputs": [],
   "source": [
    "vector_list[0]"
   ]
  },
  {
   "cell_type": "code",
   "execution_count": null,
   "metadata": {},
   "outputs": [],
   "source": [
    "for i in vector_list:\n",
    "    if len(i)!=118:\n",
    "        i.append(np.zeros(300))"
   ]
  },
  {
   "cell_type": "code",
   "execution_count": 21,
   "metadata": {},
   "outputs": [
    {
     "data": {
      "text/plain": [
       "[array([ 0.12792969, -0.0559082 ,  0.01123047,  0.28320312, -0.03125   ,\n",
       "         0.20996094,  0.09814453, -0.13964844,  0.02172852,  0.00320435,\n",
       "        -0.31640625, -0.02978516, -0.12695312, -0.07470703,  0.15527344,\n",
       "         0.26171875, -0.00163269,  0.140625  , -0.1796875 , -0.06542969,\n",
       "         0.03710938,  0.15917969,  0.2890625 , -0.08935547, -0.09814453,\n",
       "         0.15625   , -0.34179688,  0.20703125,  0.00866699,  0.30273438,\n",
       "         0.01470947,  0.09423828,  0.00366211,  0.2578125 ,  0.0625    ,\n",
       "         0.24023438,  0.03588867,  0.06201172,  0.0088501 ,  0.1328125 ,\n",
       "        -0.11425781, -0.16015625,  0.08740234, -0.23925781,  0.10302734,\n",
       "         0.0534668 , -0.06591797, -0.00318909,  0.09716797,  0.03417969,\n",
       "        -0.49414062,  0.26367188,  0.18066406, -0.12792969,  0.27929688,\n",
       "         0.19140625, -0.01904297, -0.07324219,  0.11279297,  0.03637695,\n",
       "         0.203125  ,  0.21582031, -0.15625   , -0.14257812, -0.01989746,\n",
       "         0.00753784, -0.05224609,  0.08447266, -0.20800781,  0.09814453,\n",
       "        -0.03710938, -0.04418945,  0.13378906,  0.17285156, -0.12792969,\n",
       "        -0.16796875,  0.0390625 , -0.02429199,  0.22949219,  0.55078125,\n",
       "         0.03491211, -0.02893066,  0.03955078, -0.06103516, -0.24609375,\n",
       "        -0.17871094,  0.0625    ,  0.16699219,  0.53515625,  0.15429688,\n",
       "         0.01312256, -0.03686523,  0.01794434,  0.11621094,  0.04956055,\n",
       "        -0.05639648,  0.36328125,  0.30859375,  0.22070312,  0.11328125,\n",
       "        -0.02124023, -0.05249023, -0.1953125 ,  0.17089844, -0.18652344,\n",
       "         0.07568359, -0.03039551, -0.04858398, -0.44921875,  0.03417969,\n",
       "        -0.10400391, -0.01916504,  0.01495361,  0.08056641,  0.00159454,\n",
       "         0.05688477,  0.11181641,  0.23632812,  0.09179688, -0.09716797,\n",
       "         0.28320312,  0.08300781, -0.33398438, -0.0324707 , -0.00747681,\n",
       "         0.16894531,  0.15332031,  0.171875  ,  0.171875  , -0.07958984,\n",
       "        -0.07568359, -0.24902344,  0.19140625, -0.04394531,  0.19433594,\n",
       "        -0.2578125 ,  0.21972656,  0.06689453, -0.02563477, -0.00195312,\n",
       "         0.26953125, -0.04370117,  0.33984375,  0.0859375 ,  0.00320435,\n",
       "        -0.26171875,  0.08349609, -0.22363281,  0.16308594, -0.22460938,\n",
       "        -0.02453613, -0.1484375 ,  0.23339844, -0.05102539,  0.07275391,\n",
       "         0.0098877 ,  0.03540039, -0.28125   ,  0.00390625, -0.42773438,\n",
       "        -0.0112915 ,  0.00202942,  0.0625    , -0.09960938, -0.11083984,\n",
       "        -0.03735352,  0.0703125 , -0.265625  ,  0.09570312,  0.32617188,\n",
       "        -0.04003906, -0.19042969,  0.12011719, -0.22265625, -0.14746094,\n",
       "         0.05371094,  0.08837891, -0.11230469, -0.01074219, -0.02722168,\n",
       "        -0.05395508, -0.04882812,  0.06298828, -0.17675781, -0.02392578,\n",
       "         0.23046875, -0.26367188, -0.11328125,  0.08447266,  0.15136719,\n",
       "        -0.07666016,  0.18847656,  0.0703125 ,  0.2734375 , -0.0612793 ,\n",
       "         0.08056641, -0.27734375, -0.25390625,  0.13378906, -0.1328125 ,\n",
       "         0.1953125 , -0.09130859, -0.375     ,  0.25976562, -0.18164062,\n",
       "         0.34179688, -0.31054688,  0.07861328, -0.03222656,  0.02746582,\n",
       "        -0.21386719,  0.21191406, -0.10595703,  0.11523438, -0.38671875,\n",
       "         0.04052734,  0.20410156, -0.00622559, -0.01239014, -0.10498047,\n",
       "        -0.26953125, -0.13769531, -0.33398438,  0.05029297,  0.10400391,\n",
       "        -0.05761719,  0.09130859,  0.04931641, -0.12988281,  0.17285156,\n",
       "        -0.0135498 ,  0.16601562,  0.02600098, -0.0324707 ,  0.09472656,\n",
       "        -0.12792969,  0.21484375,  0.03955078, -0.04052734,  0.00683594,\n",
       "         0.01287842,  0.15429688,  0.3671875 , -0.10302734, -0.15917969,\n",
       "        -0.07226562, -0.00558472,  0.29882812,  0.1875    ,  0.01672363,\n",
       "        -0.06396484, -0.10742188,  0.18359375,  0.37304688,  0.06201172,\n",
       "        -0.02844238, -0.22949219,  0.01623535, -0.07177734,  0.06445312,\n",
       "         0.10595703, -0.09423828,  0.07714844,  0.10302734, -0.00787354,\n",
       "         0.359375  , -0.17871094, -0.20898438, -0.19824219,  0.0612793 ,\n",
       "        -0.20214844,  0.25195312,  0.42578125,  0.09082031,  0.11083984,\n",
       "         0.41015625, -0.17578125, -0.33203125,  0.09521484, -0.04418945,\n",
       "         0.03637695, -0.20214844, -0.28515625,  0.234375  ,  0.12207031,\n",
       "         0.13183594, -0.21289062, -0.24804688,  0.12597656,  0.09082031,\n",
       "        -0.37890625,  0.25195312, -0.15625   ,  0.25390625,  0.02441406,\n",
       "        -0.07373047, -0.01538086, -0.14746094,  0.06225586,  0.18554688],\n",
       "       dtype=float32),\n",
       " array([ 0.16796875, -0.26171875,  0.01062012,  0.14550781, -0.09326172,\n",
       "         0.24414062, -0.20996094,  0.12011719,  0.05078125, -0.19628906,\n",
       "        -0.20996094, -0.29101562, -0.15722656, -0.20507812, -0.23828125,\n",
       "         0.03637695, -0.03125   , -0.14941406,  0.11035156, -0.07275391,\n",
       "        -0.09179688, -0.04956055, -0.11230469, -0.14941406,  0.04101562,\n",
       "        -0.125     , -0.12890625,  0.13085938,  0.03393555, -0.01330566,\n",
       "        -0.09521484,  0.20507812, -0.29882812, -0.26171875, -0.07421875,\n",
       "         0.16113281,  0.05395508, -0.08544922,  0.08984375,  0.12060547,\n",
       "         0.04101562, -0.07617188,  0.18945312, -0.18945312,  0.10839844,\n",
       "         0.12695312, -0.13574219,  0.0703125 ,  0.03515625, -0.1015625 ,\n",
       "         0.07421875,  0.15234375,  0.07421875,  0.05786133,  0.05615234,\n",
       "         0.11083984,  0.05761719, -0.17285156, -0.04077148, -0.015625  ,\n",
       "         0.24023438,  0.0625    ,  0.01501465, -0.06787109, -0.09033203,\n",
       "         0.09570312, -0.13769531,  0.03295898, -0.00408936,  0.21582031,\n",
       "         0.0703125 , -0.203125  ,  0.1953125 , -0.2109375 , -0.20996094,\n",
       "        -0.24804688, -0.03564453, -0.04785156,  0.20117188,  0.16308594,\n",
       "         0.15820312, -0.1171875 , -0.10058594, -0.20898438, -0.30078125,\n",
       "         0.01324463, -0.02966309,  0.14648438,  0.12597656, -0.1171875 ,\n",
       "         0.15820312, -0.05224609,  0.01953125, -0.09716797,  0.1015625 ,\n",
       "        -0.20117188,  0.27148438,  0.16015625,  0.14550781,  0.06079102,\n",
       "        -0.29101562,  0.04467773,  0.08544922,  0.23046875, -0.203125  ,\n",
       "        -0.03149414,  0.08544922,  0.06201172,  0.10009766, -0.34570312,\n",
       "         0.0402832 , -0.10595703, -0.02819824,  0.07861328,  0.12158203,\n",
       "        -0.01019287,  0.09375   , -0.23632812,  0.01391602,  0.01501465,\n",
       "        -0.11621094,  0.13671875, -0.02685547,  0.07177734, -0.20996094,\n",
       "         0.09814453,  0.0703125 ,  0.03491211,  0.04833984, -0.07275391,\n",
       "        -0.16210938, -0.13769531, -0.10205078, -0.04492188, -0.00062943,\n",
       "        -0.19628906,  0.01538086, -0.09667969, -0.10644531,  0.09765625,\n",
       "         0.05834961, -0.24609375,  0.07519531, -0.04638672,  0.11523438,\n",
       "         0.03564453,  0.04833984, -0.19726562, -0.15234375, -0.01672363,\n",
       "         0.375     , -0.08837891, -0.34765625, -0.25390625, -0.02185059,\n",
       "         0.10693359, -0.06640625, -0.10791016, -0.13867188,  0.01116943,\n",
       "         0.00811768,  0.34765625,  0.04443359,  0.01531982, -0.00772095,\n",
       "         0.05664062, -0.05322266,  0.11523438,  0.01281738,  0.07226562,\n",
       "         0.0402832 , -0.00338745,  0.08837891, -0.19726562, -0.14160156,\n",
       "        -0.08154297,  0.17089844, -0.13867188, -0.0324707 , -0.07519531,\n",
       "         0.05737305, -0.01379395,  0.12988281, -0.20117188, -0.07519531,\n",
       "         0.00460815,  0.13085938, -0.01965332, -0.07910156,  0.0189209 ,\n",
       "         0.11621094,  0.21191406,  0.20214844,  0.18652344,  0.19042969,\n",
       "        -0.09033203, -0.03515625,  0.06396484, -0.17871094, -0.22167969,\n",
       "        -0.17382812, -0.01708984, -0.0612793 ,  0.22558594,  0.05151367,\n",
       "        -0.10839844, -0.03173828, -0.1484375 , -0.109375  , -0.078125  ,\n",
       "        -0.03393555, -0.13476562, -0.11767578, -0.10888672, -0.3125    ,\n",
       "         0.10009766,  0.04370117, -0.10986328, -0.34375   , -0.265625  ,\n",
       "        -0.06982422, -0.21777344, -0.06347656, -0.03979492,  0.22851562,\n",
       "        -0.18652344,  0.17089844,  0.10351562,  0.03613281, -0.04272461,\n",
       "         0.03759766,  0.14257812, -0.05981445,  0.12792969,  0.09228516,\n",
       "        -0.10400391,  0.07568359, -0.03149414,  0.08837891, -0.10742188,\n",
       "         0.08544922, -0.29101562, -0.07617188, -0.04321289,  0.02844238,\n",
       "         0.18554688,  0.08398438, -0.01989746, -0.04711914, -0.03808594,\n",
       "         0.06542969,  0.1484375 , -0.03759766, -0.02246094,  0.375     ,\n",
       "         0.02075195,  0.04736328,  0.01965332, -0.04931641,  0.05371094,\n",
       "         0.02148438, -0.04760742, -0.31054688, -0.03564453, -0.00671387,\n",
       "         0.08056641, -0.05371094,  0.0402832 , -0.1484375 , -0.18457031,\n",
       "         0.0534668 ,  0.20703125,  0.22753906,  0.23730469, -0.234375  ,\n",
       "         0.02404785,  0.16796875, -0.22363281,  0.14746094, -0.03637695,\n",
       "        -0.01806641,  0.07470703,  0.05932617,  0.29492188, -0.02612305,\n",
       "         0.14257812, -0.1015625 , -0.234375  ,  0.03833008,  0.04394531,\n",
       "        -0.04980469,  0.20898438, -0.00616455,  0.10595703, -0.06298828,\n",
       "        -0.05541992,  0.18457031, -0.25976562, -0.12353516, -0.14355469],\n",
       "       dtype=float32),\n",
       " array([ 0.23242188,  0.02099609,  0.02868652,  0.05126953, -0.12011719,\n",
       "         0.16796875, -0.00500488, -0.13378906,  0.296875  , -0.04077148,\n",
       "        -0.21386719, -0.03588867, -0.09472656, -0.04003906, -0.23730469,\n",
       "         0.03979492,  0.12011719,  0.10302734, -0.10107422, -0.09277344,\n",
       "        -0.22363281,  0.03588867,  0.06542969, -0.03295898,  0.07763672,\n",
       "        -0.08496094, -0.16992188, -0.00769043,  0.03198242, -0.10351562,\n",
       "        -0.05859375,  0.09912109, -0.06542969, -0.03686523,  0.0559082 ,\n",
       "        -0.00360107,  0.07275391,  0.0213623 ,  0.04418945,  0.01623535,\n",
       "         0.08544922, -0.09814453,  0.05078125,  0.04663086,  0.04833984,\n",
       "         0.10839844, -0.09277344,  0.04101562,  0.04663086,  0.04760742,\n",
       "         0.10742188,  0.03149414, -0.05395508,  0.01794434,  0.05615234,\n",
       "        -0.02734375,  0.05297852, -0.04101562,  0.04345703, -0.07958984,\n",
       "        -0.05053711,  0.19140625, -0.07177734, -0.04418945, -0.1484375 ,\n",
       "        -0.05029297,  0.02319336,  0.08349609, -0.1953125 ,  0.17480469,\n",
       "        -0.0168457 ,  0.14257812,  0.13671875, -0.04541016, -0.12255859,\n",
       "         0.01434326,  0.14941406, -0.00231934, -0.01531982,  0.17578125,\n",
       "         0.11230469, -0.1015625 ,  0.10888672, -0.05957031, -0.11621094,\n",
       "        -0.11035156, -0.14257812,  0.17675781,  0.03735352, -0.06689453,\n",
       "         0.04418945,  0.11962891,  0.04321289, -0.08056641, -0.06689453,\n",
       "        -0.06054688,  0.06347656,  0.01098633, -0.03344727, -0.00830078,\n",
       "        -0.140625  ,  0.05712891,  0.14746094,  0.05883789, -0.00288391,\n",
       "        -0.12890625,  0.03417969, -0.12890625, -0.04321289,  0.07958984,\n",
       "         0.21972656,  0.18457031, -0.05712891, -0.00448608, -0.15039062,\n",
       "         0.16992188,  0.07373047, -0.15234375,  0.06787109,  0.09960938,\n",
       "        -0.16503906,  0.16503906,  0.07617188,  0.03063965,  0.02478027,\n",
       "        -0.01135254, -0.06445312, -0.02258301, -0.16113281,  0.08935547,\n",
       "         0.28125   , -0.16015625,  0.04882812, -0.13378906, -0.22167969,\n",
       "        -0.07177734,  0.15332031,  0.15820312,  0.12597656,  0.07861328,\n",
       "         0.07714844, -0.16699219,  0.16601562,  0.06445312,  0.03710938,\n",
       "         0.01928711, -0.20117188, -0.15820312, -0.06738281,  0.01708984,\n",
       "        -0.03613281,  0.18847656, -0.18164062,  0.04858398,  0.05322266,\n",
       "         0.07080078, -0.08007812, -0.16015625, -0.1328125 ,  0.14257812,\n",
       "        -0.01611328,  0.14746094,  0.0111084 ,  0.0213623 ,  0.140625  ,\n",
       "        -0.08007812, -0.03491211,  0.11425781, -0.02001953, -0.09667969,\n",
       "        -0.16894531,  0.08642578, -0.01977539, -0.11279297, -0.08105469,\n",
       "        -0.03222656, -0.04467773, -0.140625  ,  0.0234375 ,  0.01239014,\n",
       "        -0.06445312, -0.07666016, -0.02282715, -0.00238037, -0.08886719,\n",
       "         0.03735352,  0.07568359,  0.06982422, -0.00521851,  0.05126953,\n",
       "         0.0098877 , -0.00799561, -0.06347656, -0.06201172, -0.0378418 ,\n",
       "         0.13964844,  0.08349609, -0.25585938, -0.19726562, -0.05566406,\n",
       "         0.03173828, -0.08398438, -0.05249023,  0.01361084,  0.07910156,\n",
       "        -0.05957031, -0.20703125,  0.00704956,  0.03320312,  0.01855469,\n",
       "        -0.06079102,  0.0859375 , -0.06884766, -0.02978516, -0.13574219,\n",
       "         0.03637695,  0.07421875, -0.06030273, -0.09082031,  0.08496094,\n",
       "        -0.14941406,  0.00759888, -0.16308594, -0.14941406,  0.17773438,\n",
       "        -0.05004883, -0.02172852, -0.08447266, -0.00340271,  0.0859375 ,\n",
       "        -0.08251953, -0.05297852,  0.09570312,  0.06152344, -0.05639648,\n",
       "         0.06152344,  0.11962891, -0.1875    ,  0.07080078,  0.0859375 ,\n",
       "         0.06933594, -0.06933594, -0.02880859, -0.16308594, -0.07568359,\n",
       "        -0.16699219,  0.12255859, -0.07470703, -0.07958984,  0.08496094,\n",
       "        -0.02624512,  0.07373047,  0.24707031,  0.05493164,  0.1484375 ,\n",
       "        -0.12158203,  0.14257812,  0.12060547, -0.02111816,  0.06933594,\n",
       "         0.05859375, -0.12011719, -0.00872803,  0.22558594,  0.0008812 ,\n",
       "         0.2578125 , -0.07177734, -0.06445312,  0.04125977, -0.03051758,\n",
       "         0.10107422,  0.0559082 ,  0.23632812, -0.05688477, -0.08349609,\n",
       "         0.02282715,  0.00500488, -0.16210938, -0.12695312, -0.00150299,\n",
       "         0.1484375 , -0.04174805, -0.00463867,  0.04516602,  0.04980469,\n",
       "        -0.07373047, -0.08740234,  0.0032959 ,  0.04541016,  0.06445312,\n",
       "        -0.14746094, -0.10253906,  0.01623535, -0.0456543 , -0.06738281,\n",
       "         0.06933594,  0.05615234,  0.0144043 ,  0.11035156, -0.03564453],\n",
       "       dtype=float32),\n",
       " array([ 0.13476562, -0.00141907,  0.08544922,  0.05834961, -0.06005859,\n",
       "         0.17578125, -0.05102539, -0.08007812, -0.08056641,  0.1875    ,\n",
       "         0.00080109, -0.12988281, -0.26367188, -0.02966309, -0.07519531,\n",
       "        -0.20898438, -0.04296875, -0.01867676, -0.18554688, -0.10351562,\n",
       "        -0.1640625 ,  0.00189972, -0.13476562,  0.03271484, -0.12255859,\n",
       "        -0.17675781, -0.05297852,  0.29101562, -0.07373047, -0.00393677,\n",
       "         0.10742188, -0.07226562, -0.01879883, -0.15234375,  0.140625  ,\n",
       "        -0.0112915 , -0.07714844, -0.11914062,  0.08837891, -0.29296875,\n",
       "         0.265625  ,  0.18945312,  0.19238281, -0.08398438,  0.00488281,\n",
       "        -0.06201172, -0.125     ,  0.23339844, -0.02539062,  0.13476562,\n",
       "        -0.18457031, -0.06787109, -0.04638672, -0.23046875, -0.00201416,\n",
       "         0.01965332, -0.08105469, -0.15820312,  0.12207031, -0.02197266,\n",
       "        -0.02355957,  0.08789062, -0.03393555, -0.08496094,  0.1328125 ,\n",
       "         0.09472656, -0.20117188,  0.15136719,  0.07080078, -0.00909424,\n",
       "        -0.03881836,  0.08886719,  0.1328125 ,  0.03564453, -0.02612305,\n",
       "        -0.04760742,  0.24316406,  0.03637695, -0.08251953,  0.10205078,\n",
       "        -0.05786133,  0.02172852,  0.13769531,  0.17773438,  0.16015625,\n",
       "        -0.01263428, -0.10400391,  0.15234375, -0.05151367,  0.19824219,\n",
       "        -0.12792969,  0.04248047,  0.05786133, -0.10449219,  0.05834961,\n",
       "         0.07568359, -0.02404785, -0.02258301,  0.09960938,  0.21875   ,\n",
       "         0.00271606, -0.2734375 ,  0.19726562, -0.02319336, -0.0300293 ,\n",
       "         0.18066406, -0.19238281,  0.07861328,  0.1171875 , -0.11523438,\n",
       "        -0.24023438,  0.15429688, -0.125     , -0.1171875 ,  0.04223633,\n",
       "         0.16601562,  0.01611328,  0.05224609,  0.015625  ,  0.00115967,\n",
       "        -0.00497437, -0.10546875, -0.08496094, -0.00213623,  0.0456543 ,\n",
       "        -0.01177979, -0.03027344, -0.04980469,  0.00463867, -0.02990723,\n",
       "         0.01092529,  0.01391602, -0.13183594,  0.006073  ,  0.00537109,\n",
       "        -0.14257812,  0.14160156, -0.09277344, -0.12304688,  0.09863281,\n",
       "         0.04882812, -0.13574219, -0.31640625,  0.08056641,  0.20898438,\n",
       "         0.01409912, -0.17285156, -0.28320312,  0.02856445, -0.02648926,\n",
       "         0.109375  , -0.09423828, -0.12597656, -0.14453125,  0.0402832 ,\n",
       "        -0.08251953, -0.31835938, -0.01208496, -0.05297852,  0.07910156,\n",
       "         0.05126953,  0.23144531, -0.078125  , -0.15136719, -0.21875   ,\n",
       "        -0.02587891,  0.02966309, -0.15722656,  0.00202942, -0.16601562,\n",
       "        -0.10351562, -0.05688477, -0.11181641,  0.13085938,  0.01239014,\n",
       "         0.00491333,  0.03759766, -0.12695312, -0.3046875 ,  0.10791016,\n",
       "         0.07275391, -0.08935547,  0.02441406, -0.01293945,  0.14550781,\n",
       "        -0.25585938, -0.25585938, -0.09863281,  0.00506592, -0.00286865,\n",
       "        -0.17578125,  0.12451172,  0.16601562, -0.2578125 , -0.04467773,\n",
       "        -0.03112793, -0.0402832 , -0.17089844,  0.02001953, -0.15234375,\n",
       "         0.08544922,  0.14648438,  0.01574707,  0.0324707 , -0.22167969,\n",
       "         0.18554688,  0.12792969,  0.0378418 , -0.23046875, -0.15625   ,\n",
       "         0.06982422,  0.0255127 , -0.01550293,  0.18359375,  0.06542969,\n",
       "         0.01989746,  0.11816406, -0.04614258, -0.12011719,  0.09082031,\n",
       "         0.0111084 ,  0.03027344,  0.02062988, -0.00982666, -0.04223633,\n",
       "         0.22265625, -0.07373047, -0.01403809,  0.03173828, -0.07714844,\n",
       "         0.05126953, -0.0612793 ,  0.04272461,  0.12255859,  0.03112793,\n",
       "        -0.1640625 ,  0.04956055, -0.02172852,  0.02868652, -0.03588867,\n",
       "        -0.03564453,  0.12792969,  0.06738281, -0.11035156,  0.12304688,\n",
       "         0.00427246, -0.10498047,  0.21972656,  0.1953125 , -0.11474609,\n",
       "         0.02258301,  0.00309753,  0.06079102,  0.00439453,  0.13867188,\n",
       "         0.07519531, -0.00101471, -0.04418945,  0.04858398,  0.01586914,\n",
       "        -0.06640625,  0.03442383,  0.06689453, -0.00151825, -0.15039062,\n",
       "        -0.08447266,  0.11669922,  0.01708984,  0.08447266,  0.1640625 ,\n",
       "         0.14453125,  0.02819824,  0.05322266,  0.20019531,  0.0168457 ,\n",
       "        -0.17675781, -0.18554688, -0.04956055, -0.16992188, -0.10839844,\n",
       "        -0.04150391,  0.125     ,  0.06542969, -0.00350952, -0.07226562,\n",
       "        -0.08691406,  0.00196838, -0.08740234,  0.04345703, -0.08496094,\n",
       "        -0.125     ,  0.09130859, -0.06176758,  0.06347656, -0.01361084,\n",
       "        -0.05541992,  0.22460938, -0.05664062, -0.26757812,  0.10839844],\n",
       "       dtype=float32),\n",
       " array([ 7.32421875e-02, -1.68945312e-01, -2.17773438e-01, -2.06054688e-01,\n",
       "        -1.17675781e-01,  5.54199219e-02,  2.83203125e-02,  1.75781250e-01,\n",
       "        -8.10546875e-02, -7.61718750e-02,  2.53906250e-01,  5.83496094e-02,\n",
       "         1.16699219e-01, -1.14257812e-01,  1.72851562e-01, -2.07031250e-01,\n",
       "         3.14453125e-01,  1.17675781e-01, -9.22851562e-02, -2.50000000e-01,\n",
       "        -2.35351562e-01,  2.96875000e-01, -2.07031250e-01,  9.21630859e-03,\n",
       "        -6.78710938e-02, -2.89062500e-01,  1.06933594e-01,  5.93261719e-02,\n",
       "         1.04492188e-01, -1.29882812e-01, -3.65234375e-01,  2.38281250e-01,\n",
       "        -4.29687500e-01, -2.40234375e-01, -8.74023438e-02, -1.79687500e-01,\n",
       "        -2.45117188e-01, -1.62109375e-01, -7.37304688e-02,  3.03955078e-02,\n",
       "         6.44531250e-02,  2.13867188e-01,  1.14746094e-01,  2.30468750e-01,\n",
       "         7.17773438e-02,  1.57226562e-01, -2.11914062e-01, -2.35351562e-01,\n",
       "        -9.17968750e-02,  1.55273438e-01, -5.19531250e-01,  1.28906250e-01,\n",
       "        -5.20019531e-02, -2.77343750e-01,  6.71386719e-04,  2.13867188e-01,\n",
       "        -5.67626953e-03,  3.44238281e-02,  1.35742188e-01,  1.14257812e-01,\n",
       "         1.40625000e-01,  4.68750000e-02,  1.15722656e-01, -1.60156250e-01,\n",
       "        -1.69921875e-01,  1.33056641e-02, -4.07714844e-02,  2.00195312e-01,\n",
       "        -6.59179688e-02, -1.30859375e-01, -3.35937500e-01, -3.16406250e-01,\n",
       "        -1.25000000e-01,  8.30078125e-02,  2.60009766e-02, -5.51757812e-02,\n",
       "         1.86523438e-01,  1.15722656e-01, -1.04980469e-01,  9.91210938e-02,\n",
       "         7.32421875e-02, -4.88281250e-02,  2.94189453e-02,  1.46484375e-01,\n",
       "         5.78613281e-02, -4.25781250e-01, -4.32128906e-02,  9.76562500e-02,\n",
       "         1.63574219e-02,  7.61718750e-02, -7.71484375e-02, -2.81250000e-01,\n",
       "        -3.39843750e-01, -5.02929688e-02,  8.25195312e-02,  4.58984375e-02,\n",
       "         3.82812500e-01,  6.49414062e-02,  3.34472656e-02, -7.42187500e-02,\n",
       "        -4.71191406e-02, -8.97216797e-03, -2.53906250e-01, -2.51953125e-01,\n",
       "         1.16699219e-01,  2.87109375e-01,  2.30468750e-01, -5.88989258e-03,\n",
       "        -3.68652344e-02, -1.07421875e-01, -1.78710938e-01, -7.32421875e-02,\n",
       "        -7.51953125e-02,  2.11181641e-02,  1.96289062e-01, -5.41992188e-02,\n",
       "        -2.15820312e-01, -9.32617188e-02,  1.00585938e-01, -5.61523438e-02,\n",
       "        -4.22363281e-02,  1.34765625e-01, -1.54296875e-01, -2.18750000e-01,\n",
       "        -3.93066406e-02,  2.45117188e-01, -4.80468750e-01,  1.38671875e-01,\n",
       "         1.80664062e-01,  5.44433594e-02,  1.61132812e-02, -6.34765625e-02,\n",
       "        -3.80859375e-01, -1.37695312e-01,  1.39160156e-02,  8.39843750e-02,\n",
       "         2.94921875e-01,  4.76074219e-02,  3.22265625e-01,  8.39843750e-02,\n",
       "         2.61718750e-01, -2.04101562e-01, -9.17968750e-02, -3.61328125e-02,\n",
       "        -2.02148438e-01, -7.71484375e-02,  1.76757812e-01,  2.31445312e-01,\n",
       "         2.95410156e-02,  9.96093750e-02,  2.00195312e-01,  1.79443359e-02,\n",
       "         8.83789062e-02,  1.27929688e-01, -3.80859375e-02, -1.64062500e-01,\n",
       "        -5.24902344e-02, -1.88476562e-01, -1.81640625e-01,  2.65625000e-01,\n",
       "         1.99218750e-01,  3.82812500e-01, -1.80664062e-01,  1.16699219e-01,\n",
       "         1.25000000e-01,  4.34570312e-02,  1.01074219e-01,  5.76171875e-02,\n",
       "        -2.65625000e-01, -1.30859375e-01, -5.10253906e-02, -1.16699219e-01,\n",
       "         1.02539062e-01, -2.43164062e-01,  2.40234375e-01,  1.93359375e-01,\n",
       "         1.01562500e-01, -1.53320312e-01, -9.57031250e-02, -2.65625000e-01,\n",
       "        -1.05957031e-01,  1.00097656e-01,  1.38671875e-01, -1.63085938e-01,\n",
       "         6.12792969e-02, -2.66113281e-02,  1.44531250e-01, -1.33789062e-01,\n",
       "        -1.43432617e-03, -1.30859375e-01, -1.34765625e-01, -6.03027344e-02,\n",
       "         1.14746094e-01, -3.32031250e-02, -1.96289062e-01, -2.81250000e-01,\n",
       "         1.42578125e-01, -1.53320312e-01, -1.09863281e-02, -2.57568359e-02,\n",
       "         2.81250000e-01,  3.12500000e-01, -2.49023438e-01, -5.24902344e-02,\n",
       "        -1.47460938e-01,  1.24023438e-01, -9.32617188e-02,  1.27929688e-01,\n",
       "         1.11816406e-01, -1.76757812e-01, -1.76757812e-01, -5.68847656e-02,\n",
       "        -3.08837891e-02,  1.70898438e-01, -1.27929688e-01,  1.66015625e-02,\n",
       "         4.71191406e-02,  1.98242188e-01, -1.27929688e-01,  1.18164062e-01,\n",
       "        -1.23291016e-02,  4.10156250e-02, -1.93359375e-01, -3.03955078e-02,\n",
       "        -1.78710938e-01,  1.52587891e-04, -4.37500000e-01,  2.47070312e-01,\n",
       "        -2.50000000e-01, -1.51367188e-01, -1.01318359e-02,  3.28125000e-01,\n",
       "        -1.80664062e-01,  9.42382812e-02,  1.51977539e-02,  1.75781250e-01,\n",
       "        -1.69921875e-01, -2.07031250e-01, -2.05078125e-02, -1.30859375e-01,\n",
       "         2.51953125e-01, -1.93359375e-01,  1.47705078e-02, -9.52148438e-02,\n",
       "        -1.95312500e-01, -2.73437500e-01,  9.91821289e-04,  2.06054688e-01,\n",
       "        -1.71875000e-01, -3.39843750e-01,  4.17480469e-02, -2.89306641e-02,\n",
       "        -3.78906250e-01, -1.89453125e-01, -1.10839844e-01, -8.88671875e-02,\n",
       "        -2.63671875e-01,  1.57226562e-01,  2.79541016e-02, -1.94335938e-01,\n",
       "         2.00195312e-01,  1.65039062e-01,  2.16796875e-01, -1.97265625e-01,\n",
       "        -1.57226562e-01, -6.20117188e-02, -1.78710938e-01, -8.15429688e-02,\n",
       "         8.30078125e-03, -3.06640625e-01,  2.24609375e-01, -8.25195312e-02,\n",
       "        -4.10156250e-01,  5.34667969e-02,  1.59179688e-01,  3.82812500e-01,\n",
       "        -4.49218750e-02, -3.75976562e-02, -1.70898438e-01,  3.12500000e-01,\n",
       "        -6.64062500e-02, -1.72424316e-03,  2.57812500e-01,  2.09960938e-01,\n",
       "         8.10546875e-02,  2.61718750e-01,  1.01074219e-01, -3.99780273e-03,\n",
       "         2.11914062e-01,  1.62109375e-01, -3.22265625e-01,  7.22656250e-02,\n",
       "        -2.08984375e-01,  2.92968750e-01,  1.81640625e-01, -4.54101562e-02,\n",
       "        -4.07714844e-02, -1.58203125e-01,  1.35742188e-01, -5.54199219e-02],\n",
       "       dtype=float32),\n",
       " array([ 2.02636719e-02, -2.18750000e-01, -5.54199219e-02, -9.76562500e-03,\n",
       "        -6.98242188e-02,  2.81250000e-01,  3.24218750e-01,  8.64257812e-02,\n",
       "        -2.37304688e-01,  2.24609375e-01, -6.39648438e-02,  2.71484375e-01,\n",
       "        -1.63574219e-02,  1.45507812e-01, -5.54687500e-01,  2.13867188e-01,\n",
       "         2.46582031e-02,  1.13769531e-01, -3.11279297e-02, -1.04492188e-01,\n",
       "         2.45361328e-02,  2.45117188e-01,  2.92968750e-02,  2.94921875e-01,\n",
       "         7.51953125e-02,  1.95312500e-02, -8.98437500e-02, -1.46484375e-01,\n",
       "         1.52343750e-01,  1.26953125e-02, -3.95507812e-02, -2.42187500e-01,\n",
       "         1.43554688e-01, -3.10058594e-02, -8.59375000e-02,  2.90527344e-02,\n",
       "        -2.53906250e-01,  9.76562500e-02, -2.59765625e-01, -5.22460938e-02,\n",
       "         4.27246094e-02, -1.31835938e-01,  4.19921875e-01,  2.46093750e-01,\n",
       "        -7.56835938e-02,  9.96093750e-02, -3.49609375e-01,  9.71679688e-02,\n",
       "         1.69677734e-02, -7.27539062e-02, -1.18164062e-01, -2.16796875e-01,\n",
       "         2.12890625e-01,  7.91015625e-02,  1.21582031e-01,  8.05664062e-02,\n",
       "        -2.57812500e-01, -9.37500000e-02, -1.31835938e-01,  3.49426270e-03,\n",
       "        -2.89062500e-01,  2.42187500e-01,  2.46093750e-01,  9.13085938e-02,\n",
       "         1.43554688e-01, -1.63085938e-01, -1.93359375e-01,  1.36718750e-01,\n",
       "        -4.15039062e-02, -1.71875000e-01, -1.61132812e-01, -2.40234375e-01,\n",
       "         1.46484375e-01,  1.26953125e-01, -6.49414062e-02, -7.32421875e-02,\n",
       "        -2.02636719e-02, -2.39257812e-01, -1.29882812e-01, -1.20162964e-04,\n",
       "         1.76757812e-01, -9.19342041e-04,  3.95507812e-02,  8.05664062e-02,\n",
       "         3.46679688e-02, -2.40478516e-02, -1.06445312e-01,  1.57226562e-01,\n",
       "         6.78710938e-02, -8.59375000e-02,  1.76757812e-01,  1.23291016e-02,\n",
       "         9.08203125e-02, -2.65625000e-01,  1.65039062e-01,  3.33984375e-01,\n",
       "         9.13085938e-02, -2.91748047e-02, -1.87500000e-01,  1.39648438e-01,\n",
       "         3.63281250e-01, -4.73022461e-03, -4.16015625e-01,  8.30078125e-02,\n",
       "        -2.92968750e-01,  2.53906250e-01,  2.07031250e-01, -5.61523438e-02,\n",
       "         2.02148438e-01,  8.34960938e-02,  7.42187500e-02, -5.12695312e-02,\n",
       "        -1.89453125e-01,  8.05664062e-02,  2.13867188e-01,  9.42382812e-02,\n",
       "        -1.43554688e-01, -4.56542969e-02, -2.30468750e-01,  1.68945312e-01,\n",
       "         1.36718750e-01, -4.19921875e-02, -4.82421875e-01, -1.44531250e-01,\n",
       "        -3.78417969e-02, -1.00585938e-01, -2.77343750e-01,  2.28515625e-01,\n",
       "        -8.69140625e-02,  3.35937500e-01,  7.56835938e-02, -2.04101562e-01,\n",
       "        -3.53515625e-01,  1.09863281e-01, -6.83593750e-02, -2.31445312e-01,\n",
       "        -2.86865234e-02, -1.22070312e-01, -1.19628906e-01, -8.83789062e-02,\n",
       "        -1.07910156e-01, -4.76074219e-03, -8.44726562e-02, -4.30297852e-03,\n",
       "        -1.52343750e-01, -3.22265625e-02,  1.34765625e-01,  2.12890625e-01,\n",
       "        -3.71093750e-02,  1.24511719e-01,  1.40625000e-01, -1.98242188e-01,\n",
       "        -1.18164062e-01,  1.79443359e-02,  1.34765625e-01, -1.89453125e-01,\n",
       "        -3.18359375e-01,  1.63574219e-02, -1.80664062e-01,  8.15429688e-02,\n",
       "        -5.05371094e-02,  1.89453125e-01, -8.25195312e-02, -1.67968750e-01,\n",
       "        -3.02734375e-01,  4.39453125e-02, -1.42578125e-01,  6.39648438e-02,\n",
       "        -1.71875000e-01, -1.64062500e-01, -1.68945312e-01, -8.78906250e-02,\n",
       "        -1.31835938e-01,  5.41992188e-02,  1.39648438e-01,  3.10546875e-01,\n",
       "         1.59179688e-01, -1.89208984e-02, -2.38281250e-01, -1.66992188e-01,\n",
       "        -2.30468750e-01, -7.81250000e-02,  1.53320312e-01,  2.33398438e-01,\n",
       "         5.22460938e-02,  2.67578125e-01,  3.28125000e-01, -2.26562500e-01,\n",
       "         2.92968750e-02,  7.75146484e-03, -5.37109375e-02, -1.22070312e-01,\n",
       "        -8.64257812e-02,  2.67578125e-01, -2.84423828e-02,  1.49414062e-01,\n",
       "         1.60156250e-01, -3.59375000e-01,  2.32421875e-01, -2.07031250e-01,\n",
       "         1.53350830e-03, -2.00195312e-02, -4.41894531e-02,  2.39257812e-02,\n",
       "        -1.17187500e-01, -3.41796875e-02, -1.61132812e-01, -1.69921875e-01,\n",
       "        -1.84570312e-01, -1.47094727e-02, -1.14746094e-01,  1.30859375e-01,\n",
       "         2.50000000e-01,  1.69921875e-01,  1.44531250e-01,  4.80468750e-01,\n",
       "         4.35546875e-01,  3.41796875e-01, -1.60156250e-01,  1.27929688e-01,\n",
       "         2.18200684e-03,  1.25000000e-01,  4.05273438e-02, -8.00781250e-02,\n",
       "         7.56835938e-02, -1.72851562e-01, -8.15429688e-02,  7.91015625e-02,\n",
       "        -1.00708008e-02, -5.49316406e-02,  1.21582031e-01, -4.85229492e-03,\n",
       "        -3.64303589e-04,  2.85156250e-01,  1.22558594e-01,  2.61718750e-01,\n",
       "         2.28271484e-02,  2.23632812e-01, -1.59179688e-01,  6.39648438e-02,\n",
       "        -1.60156250e-01, -1.04492188e-01,  8.74023438e-02,  2.02148438e-01,\n",
       "         1.91406250e-01, -4.68750000e-02, -2.91015625e-01,  1.22558594e-01,\n",
       "        -5.19531250e-01,  7.56835938e-02, -1.87500000e-01,  4.00390625e-01,\n",
       "        -1.31225586e-02,  6.25000000e-02,  4.88281250e-02,  2.07031250e-01,\n",
       "        -1.22070312e-01, -4.54101562e-02, -6.10351562e-02, -1.15234375e-01,\n",
       "         2.03125000e-01,  2.38037109e-02,  1.63574219e-02,  4.17480469e-02,\n",
       "        -6.93359375e-02,  7.66601562e-02,  2.92968750e-01, -2.23632812e-01,\n",
       "         1.35742188e-01, -7.47070312e-02, -1.37695312e-01, -6.03027344e-02,\n",
       "        -2.65625000e-01,  4.06250000e-01, -7.50732422e-03,  2.00195312e-01,\n",
       "         2.08984375e-01, -3.41796875e-01, -2.67578125e-01, -9.27734375e-02,\n",
       "        -1.36718750e-01,  1.93359375e-01,  7.81250000e-02,  3.06640625e-01,\n",
       "         9.03320312e-02, -1.95312500e-01,  2.22167969e-02, -1.33056641e-02,\n",
       "         1.08398438e-01,  1.63085938e-01,  4.24804688e-02, -3.45703125e-01,\n",
       "        -1.61132812e-01,  8.78906250e-02,  4.90722656e-02, -6.22558594e-02,\n",
       "        -1.73828125e-01, -2.69531250e-01,  2.59765625e-01,  1.85546875e-01],\n",
       "       dtype=float32),\n",
       " array([ 1.68945312e-01, -6.29882812e-02, -2.65121460e-04,  6.34765625e-02,\n",
       "         8.74023438e-02, -3.00292969e-02,  1.44958496e-03, -7.76367188e-02,\n",
       "         1.99218750e-01, -1.77001953e-03, -1.66992188e-01, -4.05273438e-02,\n",
       "         2.44140625e-02,  1.89208984e-02, -8.30078125e-02, -5.54199219e-02,\n",
       "         4.93164062e-02, -3.29589844e-02, -1.69921875e-01,  6.64062500e-02,\n",
       "        -2.55859375e-01, -2.03125000e-01, -5.12695312e-02, -1.02539062e-01,\n",
       "         1.63085938e-01,  8.25195312e-02, -5.46875000e-02,  2.78320312e-02,\n",
       "         1.43554688e-01,  1.85546875e-02, -1.26953125e-01, -1.91406250e-01,\n",
       "        -3.58886719e-02, -2.50000000e-01, -7.76367188e-02,  1.39160156e-02,\n",
       "        -6.00585938e-02,  6.12792969e-02,  1.05468750e-01,  1.55273438e-01,\n",
       "         3.73535156e-02,  7.62939453e-03, -6.03027344e-02,  1.28906250e-01,\n",
       "         5.56640625e-02,  1.97753906e-02,  8.10546875e-02, -2.51464844e-02,\n",
       "        -8.69140625e-02,  1.29882812e-01, -1.51367188e-01,  5.32226562e-02,\n",
       "         6.59179688e-02, -6.25000000e-02, -2.20703125e-01,  5.90820312e-02,\n",
       "        -1.36718750e-01, -3.88183594e-02, -1.99218750e-01,  2.03857422e-02,\n",
       "        -1.59179688e-01, -1.23291016e-02, -6.54296875e-02, -1.32812500e-01,\n",
       "         6.98242188e-02,  2.08984375e-01,  9.82666016e-03,  1.64794922e-02,\n",
       "         1.83593750e-01,  1.59179688e-01,  1.33056641e-02, -7.03125000e-02,\n",
       "         1.17187500e-01,  5.51757812e-02,  6.93359375e-02,  1.94091797e-02,\n",
       "        -5.22460938e-02, -4.29687500e-02,  9.27734375e-02,  5.07812500e-02,\n",
       "         8.83789062e-02, -1.56250000e-01,  1.40991211e-02,  6.34765625e-02,\n",
       "        -6.05468750e-02, -8.25195312e-02, -9.37500000e-02,  2.62451172e-02,\n",
       "         1.15234375e-01, -6.64062500e-02, -6.44531250e-02,  1.37695312e-01,\n",
       "        -1.52343750e-01, -1.08886719e-01, -5.12695312e-02,  6.73828125e-02,\n",
       "        -3.44238281e-02,  9.15527344e-03, -2.08740234e-02,  5.90820312e-02,\n",
       "         5.49316406e-02, -7.59887695e-03, -6.78710938e-02, -1.70898438e-02,\n",
       "         6.98852539e-03, -1.51367188e-01,  4.85839844e-02, -1.76757812e-01,\n",
       "         9.46044922e-04, -1.10351562e-01,  5.83496094e-02, -9.13085938e-02,\n",
       "        -1.06445312e-01, -1.20605469e-01, -3.27148438e-02, -6.15234375e-02,\n",
       "         3.54003906e-02,  8.78906250e-02,  1.32446289e-02,  5.93261719e-02,\n",
       "        -1.25976562e-01,  9.81445312e-02,  8.30078125e-02, -9.61914062e-02,\n",
       "         1.45507812e-01, -4.85839844e-02,  1.88476562e-01, -2.86865234e-03,\n",
       "         2.05078125e-01,  2.28515625e-01,  7.50732422e-03,  6.83593750e-03,\n",
       "        -3.27148438e-02, -1.00585938e-01, -7.76367188e-02, -2.23388672e-02,\n",
       "        -6.88476562e-02,  3.88183594e-02, -1.38671875e-01,  1.52343750e-01,\n",
       "        -1.06933594e-01,  7.32421875e-02,  1.00097656e-01,  4.61425781e-02,\n",
       "         8.78906250e-02, -6.68945312e-02,  1.08886719e-01,  1.00585938e-01,\n",
       "        -4.95605469e-02, -1.19140625e-01,  1.78710938e-01, -5.93261719e-02,\n",
       "        -8.05664062e-02, -2.88085938e-02, -1.42578125e-01,  1.31835938e-01,\n",
       "         2.20947266e-02,  6.00585938e-02, -1.39160156e-02,  3.22265625e-02,\n",
       "        -4.78515625e-02,  6.03027344e-02,  1.95312500e-01,  1.57226562e-01,\n",
       "         7.71484375e-02,  1.96289062e-01,  6.49414062e-02,  8.10546875e-02,\n",
       "        -3.96728516e-03, -1.69921875e-01, -8.39843750e-02, -6.03027344e-02,\n",
       "        -4.63867188e-02, -1.85546875e-01, -1.01074219e-01, -1.16699219e-01,\n",
       "        -3.01513672e-02, -1.57470703e-02,  6.83593750e-02,  4.85229492e-03,\n",
       "        -4.88281250e-02, -2.67333984e-02, -2.64892578e-02,  2.67578125e-01,\n",
       "         4.73632812e-02,  1.02996826e-03,  1.27929688e-01,  8.25195312e-02,\n",
       "         2.63671875e-01, -1.18164062e-01,  9.81445312e-02, -8.88671875e-02,\n",
       "         4.51660156e-02, -8.88671875e-02, -3.19824219e-02,  7.22656250e-02,\n",
       "         6.64062500e-02,  1.59179688e-01, -5.29785156e-02, -1.51367188e-01,\n",
       "        -2.27539062e-01,  2.91442871e-03,  6.22558594e-02, -5.39550781e-02,\n",
       "         5.63964844e-02, -6.83593750e-02, -2.30712891e-02,  3.22265625e-02,\n",
       "        -7.91015625e-02, -1.00097656e-01, -4.60815430e-03, -3.58886719e-02,\n",
       "         1.09252930e-02, -7.66601562e-02, -9.03320312e-02,  1.42578125e-01,\n",
       "         5.85937500e-02, -6.93359375e-02, -2.78320312e-02, -6.12792969e-02,\n",
       "        -1.42578125e-01, -7.22656250e-02,  2.06298828e-02, -2.56347656e-02,\n",
       "         7.81250000e-02, -1.13281250e-01, -1.34765625e-01,  5.88378906e-02,\n",
       "        -8.49609375e-02, -1.25000000e-01, -5.12695312e-02, -4.56542969e-02,\n",
       "         5.95703125e-02,  2.11914062e-01, -1.71875000e-01,  1.58203125e-01,\n",
       "         5.00488281e-02, -1.45507812e-01, -1.26953125e-01, -2.74658203e-03,\n",
       "        -6.93359375e-02,  2.81250000e-01,  1.25000000e-01, -2.59765625e-01,\n",
       "         1.49536133e-02, -2.67333984e-02,  1.00585938e-01, -5.98144531e-02,\n",
       "         2.18505859e-02, -3.80859375e-02,  6.54296875e-02, -3.39355469e-02,\n",
       "        -1.42578125e-01,  1.31835938e-01,  2.03125000e-01,  3.75976562e-02,\n",
       "         1.61132812e-01, -1.78710938e-01,  3.19824219e-02, -7.32421875e-02,\n",
       "         8.34960938e-02, -9.61914062e-02, -5.17578125e-02,  3.68118286e-04,\n",
       "         1.63085938e-01, -6.34765625e-02, -2.91748047e-02,  8.30078125e-02,\n",
       "        -3.12500000e-02, -9.88769531e-03,  2.15820312e-01, -1.84326172e-02,\n",
       "         1.07421875e-01, -4.90722656e-02,  2.20703125e-01, -5.52368164e-03,\n",
       "        -2.59765625e-01,  4.85839844e-02,  4.93164062e-02, -4.00390625e-02,\n",
       "        -1.50756836e-02,  2.46582031e-02, -1.21582031e-01,  5.55419922e-03,\n",
       "         4.34570312e-02, -1.97265625e-01,  1.19018555e-02,  1.79687500e-01,\n",
       "         2.73437500e-02,  1.40625000e-01,  2.11181641e-02,  1.52587891e-03,\n",
       "        -9.86328125e-02,  5.66406250e-02, -9.13085938e-02,  1.03515625e-01,\n",
       "         2.30407715e-03,  2.38037109e-02, -1.23535156e-01,  1.63574219e-02],\n",
       "       dtype=float32)]",
       "...}"
      ]
     },
     "execution_count": 64,
     "metadata": {},
     "output_type": "execute_result"
    }
   ],
   "source": [
    "vector_list[33]"
   ]
  },
  {
   "cell_type": "code",
   "execution_count": 32,
   "metadata": {
    "scrolled": false
   },
   "outputs": [
    {
     "data": {
      "text/plain": [
       "[('programr', 687),\n",
       " ('Brexit', 493),\n",
       " ('blockchain', 474),\n",
       " ('behaviour', 468),\n",
       " ('Redmi', 379),\n",
       " ('realise', 371),\n",
       " ('defence', 364),\n",
       " ('KVPY', 349),\n",
       " ('Paytm', 334),\n",
       " ('programrs', 334),\n",
       " ('grey', 299),\n",
       " ('mtech', 281),\n",
       " ('Btech', 262),\n",
       " ('honours', 252),\n",
       " ('learnt', 248),\n",
       " ('upvote', 247),\n",
       " ('Ethereum', 243),\n",
       " ('licence', 242),\n",
       " ('…', 210),\n",
       " ('Whatis', 209)]"
      ]
     },
     "execution_count": 32,
     "metadata": {},
     "output_type": "execute_result"
    }
   ],
   "source": [
    "oov[:20]"
   ]
  },
  {
   "cell_type": "code",
   "execution_count": 57,
   "metadata": {},
   "outputs": [
    {
     "data": {
      "text/plain": [
       "'What is the strangest phenomenon you know of have witnessed or have generated in the area of electronics that has no explanation in terms of modern physics'"
      ]
     },
     "execution_count": 57,
     "metadata": {},
     "output_type": "execute_result"
    }
   ],
   "source": [
    "df['question_text'][23]"
   ]
  },
  {
   "cell_type": "code",
   "execution_count": 63,
   "metadata": {},
   "outputs": [
    {
     "data": {
      "text/plain": [
       "'Is anyone still using Visual Basic Is it worth learning in #### Would there be professional jobs for Visual Basic programrs in #### ## ##'"
      ]
     },
     "execution_count": 63,
     "metadata": {},
     "output_type": "execute_result"
    }
   ],
   "source": [
    "df['question_text'][33]"
   ]
  }
 ],
 "metadata": {
  "kernelspec": {
   "display_name": "Python 3",
   "language": "python",
   "name": "python3"
  },
  "language_info": {
   "codemirror_mode": {
    "name": "ipython",
    "version": 3
   },
   "file_extension": ".py",
   "mimetype": "text/x-python",
   "name": "python",
   "nbconvert_exporter": "python",
   "pygments_lexer": "ipython3",
   "version": "3.7.3"
  }
 },
 "nbformat": 4,
 "nbformat_minor": 2
}
