{
 "cells": [{
   "cell_type": "markdown",
   "metadata": {},
   "source": [
    "# ADM HW 2. Questions 1,2,4,7"
   ]
  },
  {
   "cell_type": "code",
   "execution_count": 1,
   "metadata": {},
   "outputs": [
    {
     "data": {
      "text/html": [
       "<div>\n",
       "<style scoped>\n",
       "    .dataframe tbody tr th:only-of-type {\n",
       "        vertical-align: middle;\n",
       "    }\n",
       "\n",
       "    .dataframe tbody tr th {\n",
       "        vertical-align: top;\n",
       "    }\n",
       "\n",
       "    .dataframe thead th {\n",
       "        text-align: right;\n",
       "    }\n",
       "</style>\n",
       "<table border=\"1\" class=\"dataframe\">\n",
       "  <thead>\n",
       "    <tr style=\"text-align: right;\">\n",
       "      <th></th>\n",
       "      <th>event_time</th>\n",
       "      <th>event_type</th>\n",
       "      <th>product_id</th>\n",
       "      <th>category_id</th>\n",
       "      <th>category_code</th>\n",
       "      <th>brand</th>\n",
       "      <th>price</th>\n",
       "      <th>user_id</th>\n",
       "      <th>user_session</th>\n",
       "    </tr>\n",
       "  </thead>\n",
       "  <tbody>\n",
       "    <tr>\n",
       "      <th>0</th>\n",
       "      <td>2020-01-01 00:00:00 UTC</td>\n",
       "      <td>view</td>\n",
       "      <td>1005073</td>\n",
       "      <td>2232732093077520756</td>\n",
       "      <td>construction.tools.light</td>\n",
       "      <td>samsung</td>\n",
       "      <td>1130.02</td>\n",
       "      <td>519698804</td>\n",
       "      <td>69b5d72f-fd6e-4fed-aa23-1286b2ca89a0</td>\n",
       "    </tr>\n",
       "    <tr>\n",
       "      <th>1</th>\n",
       "      <td>2020-01-01 00:00:01 UTC</td>\n",
       "      <td>view</td>\n",
       "      <td>1005192</td>\n",
       "      <td>2232732093077520756</td>\n",
       "      <td>construction.tools.light</td>\n",
       "      <td>meizu</td>\n",
       "      <td>205.67</td>\n",
       "      <td>527767423</td>\n",
       "      <td>7f596032-ccbf-4643-9bad-e36a209512b4</td>\n",
       "    </tr>\n",
       "    <tr>\n",
       "      <th>2</th>\n",
       "      <td>2020-01-01 00:00:01 UTC</td>\n",
       "      <td>view</td>\n",
       "      <td>100063693</td>\n",
       "      <td>2053013552427434207</td>\n",
       "      <td>apparel.shirt</td>\n",
       "      <td>turtle</td>\n",
       "      <td>136.43</td>\n",
       "      <td>519046195</td>\n",
       "      <td>d1e2f343-84bb-49bd-b13d-ca0f1ed9910e</td>\n",
       "    </tr>\n",
       "    <tr>\n",
       "      <th>3</th>\n",
       "      <td>2020-01-01 00:00:01 UTC</td>\n",
       "      <td>view</td>\n",
       "      <td>5100816</td>\n",
       "      <td>2232732103831716449</td>\n",
       "      <td>apparel.shoes</td>\n",
       "      <td>xiaomi</td>\n",
       "      <td>29.95</td>\n",
       "      <td>518269232</td>\n",
       "      <td>0444841c-38ef-410c-b11f-7b35ea4e5991</td>\n",
       "    </tr>\n",
       "    <tr>\n",
       "      <th>4</th>\n",
       "      <td>2020-01-01 00:00:02 UTC</td>\n",
       "      <td>view</td>\n",
       "      <td>100014325</td>\n",
       "      <td>2232732103294845523</td>\n",
       "      <td>apparel.shoes.step_ins</td>\n",
       "      <td>intel</td>\n",
       "      <td>167.20</td>\n",
       "      <td>587748686</td>\n",
       "      <td>31b7d4cf-dfac-4895-9927-90fa3254f860</td>\n",
       "    </tr>\n",
       "  </tbody>\n",
       "</table>\n",
       "</div>"
      ],
      "text/plain": [
       "                event_time event_type  product_id          category_id  \\\n",
       "0  2020-01-01 00:00:00 UTC       view     1005073  2232732093077520756   \n",
       "1  2020-01-01 00:00:01 UTC       view     1005192  2232732093077520756   \n",
       "2  2020-01-01 00:00:01 UTC       view   100063693  2053013552427434207   \n",
       "3  2020-01-01 00:00:01 UTC       view     5100816  2232732103831716449   \n",
       "4  2020-01-01 00:00:02 UTC       view   100014325  2232732103294845523   \n",
       "\n",
       "              category_code    brand    price    user_id  \\\n",
       "0  construction.tools.light  samsung  1130.02  519698804   \n",
       "1  construction.tools.light    meizu   205.67  527767423   \n",
       "2             apparel.shirt   turtle   136.43  519046195   \n",
       "3             apparel.shoes   xiaomi    29.95  518269232   \n",
       "4    apparel.shoes.step_ins    intel   167.20  587748686   \n",
       "\n",
       "                           user_session  \n",
       "0  69b5d72f-fd6e-4fed-aa23-1286b2ca89a0  \n",
       "1  7f596032-ccbf-4643-9bad-e36a209512b4  \n",
       "2  d1e2f343-84bb-49bd-b13d-ca0f1ed9910e  \n",
       "3  0444841c-38ef-410c-b11f-7b35ea4e5991  \n",
       "4  31b7d4cf-dfac-4895-9927-90fa3254f860  "
      ]
     },
     "execution_count": 1,
     "metadata": {},
     "output_type": "execute_result"
    }
   ],
   "source": [
    "#Loading datasets\n",
    "import pandas as pd\n",
    "import numpy as np\n",
    "import matplotlib.pyplot as plt\n",
    "df=pd.read_csv('/home/dias/Desktop/HW/2020-Jan.csv')\n",
    "name ='January'\n",
    "df.head()"
   ]
  },
  {
   "cell_type": "code",
   "execution_count": 2,
   "metadata": {},
   "outputs": [],
   "source": [
    "#Setting numbers to show in float \n",
    "pd.set_option('float_format', '{:f}'.format)"
   ]
  },
  {
   "cell_type": "code",
   "execution_count": 3,
   "metadata": {},
   "outputs": [
    {
     "name": "stdout",
     "output_type": "stream",
     "text": [
      "<class 'pandas.core.frame.DataFrame'>\n",
      "RangeIndex: 55967041 entries, 0 to 55967040\n",
      "Data columns (total 9 columns):\n",
      " #   Column         Dtype  \n",
      "---  ------         -----  \n",
      " 0   event_time     object \n",
      " 1   event_type     object \n",
      " 2   product_id     int64  \n",
      " 3   category_id    int64  \n",
      " 4   category_code  object \n",
      " 5   brand          object \n",
      " 6   price          float64\n",
      " 7   user_id        int64  \n",
      " 8   user_session   object \n",
      "dtypes: float64(1), int64(3), object(5)\n",
      "memory usage: 3.8+ GB\n"
     ]
    }
   ],
   "source": [
    "#Getting information about dataset\n",
    "df.info()"
   ]
  },
  {
   "cell_type": "code",
   "execution_count": 4,
   "metadata": {},
   "outputs": [
    {
     "data": {
      "text/html": [
       "<div>\n",
       "<style scoped>\n",
       "    .dataframe tbody tr th:only-of-type {\n",
       "        vertical-align: middle;\n",
       "    }\n",
       "\n",
       "    .dataframe tbody tr th {\n",
       "        vertical-align: top;\n",
       "    }\n",
       "\n",
       "    .dataframe thead th {\n",
       "        text-align: right;\n",
       "    }\n",
       "</style>\n",
       "<table border=\"1\" class=\"dataframe\">\n",
       "  <thead>\n",
       "    <tr style=\"text-align: right;\">\n",
       "      <th></th>\n",
       "      <th>product_id</th>\n",
       "      <th>category_id</th>\n",
       "      <th>price</th>\n",
       "      <th>user_id</th>\n",
       "    </tr>\n",
       "  </thead>\n",
       "  <tbody>\n",
       "    <tr>\n",
       "      <th>count</th>\n",
       "      <td>55967041.000000</td>\n",
       "      <td>55967041.000000</td>\n",
       "      <td>55967041.000000</td>\n",
       "      <td>55967041.000000</td>\n",
       "    </tr>\n",
       "    <tr>\n",
       "      <th>mean</th>\n",
       "      <td>21511983.785403</td>\n",
       "      <td>2184717820909243648.000000</td>\n",
       "      <td>291.091033</td>\n",
       "      <td>557482102.198503</td>\n",
       "    </tr>\n",
       "    <tr>\n",
       "      <th>std</th>\n",
       "      <td>32203756.237081</td>\n",
       "      <td>79286872914928800.000000</td>\n",
       "      <td>360.219409</td>\n",
       "      <td>33754742.462473</td>\n",
       "    </tr>\n",
       "    <tr>\n",
       "      <th>min</th>\n",
       "      <td>1000544.000000</td>\n",
       "      <td>2053013551857008896.000000</td>\n",
       "      <td>0.000000</td>\n",
       "      <td>22165363.000000</td>\n",
       "    </tr>\n",
       "    <tr>\n",
       "      <th>25%</th>\n",
       "      <td>1005239.000000</td>\n",
       "      <td>2053013563835941632.000000</td>\n",
       "      <td>64.330000</td>\n",
       "      <td>522084631.000000</td>\n",
       "    </tr>\n",
       "    <tr>\n",
       "      <th>50%</th>\n",
       "      <td>5800192.000000</td>\n",
       "      <td>2232732093077520640.000000</td>\n",
       "      <td>166.730000</td>\n",
       "      <td>558259891.000000</td>\n",
       "    </tr>\n",
       "    <tr>\n",
       "      <th>75%</th>\n",
       "      <td>25800005.000000</td>\n",
       "      <td>2232732097993245184.000000</td>\n",
       "      <td>357.540000</td>\n",
       "      <td>591530886.000000</td>\n",
       "    </tr>\n",
       "    <tr>\n",
       "      <th>max</th>\n",
       "      <td>100099553.000000</td>\n",
       "      <td>2236178430586520064.000000</td>\n",
       "      <td>2574.070000</td>\n",
       "      <td>608822162.000000</td>\n",
       "    </tr>\n",
       "  </tbody>\n",
       "</table>\n",
       "</div>"
      ],
      "text/plain": [
       "            product_id                category_id           price  \\\n",
       "count  55967041.000000            55967041.000000 55967041.000000   \n",
       "mean   21511983.785403 2184717820909243648.000000      291.091033   \n",
       "std    32203756.237081   79286872914928800.000000      360.219409   \n",
       "min     1000544.000000 2053013551857008896.000000        0.000000   \n",
       "25%     1005239.000000 2053013563835941632.000000       64.330000   \n",
       "50%     5800192.000000 2232732093077520640.000000      166.730000   \n",
       "75%    25800005.000000 2232732097993245184.000000      357.540000   \n",
       "max   100099553.000000 2236178430586520064.000000     2574.070000   \n",
       "\n",
       "               user_id  \n",
       "count  55967041.000000  \n",
       "mean  557482102.198503  \n",
       "std    33754742.462473  \n",
       "min    22165363.000000  \n",
       "25%   522084631.000000  \n",
       "50%   558259891.000000  \n",
       "75%   591530886.000000  \n",
       "max   608822162.000000  "
      ]
     },
     "execution_count": 4,
     "metadata": {},
     "output_type": "execute_result"
    }
   ],
   "source": [
    "df.describe()"
   ]
  },
  {
   "cell_type": "code",
   "execution_count": 5,
   "metadata": {},
   "outputs": [
    {
     "data": {
      "text/plain": [
       "event_time        object\n",
       "event_type        object\n",
       "product_id         int64\n",
       "category_id        int64\n",
       "category_code     object\n",
       "brand             object\n",
       "price            float64\n",
       "user_id            int64\n",
       "user_session      object\n",
       "dtype: object"
      ]
     },
     "execution_count": 5,
     "metadata": {},
     "output_type": "execute_result"
    }
   ],
   "source": [
    "df.dtypes"
   ]
  },
  {
   "cell_type": "markdown",
   "metadata": {},
   "source": [
    "## [RQ1] A marketing funnel describes your customer’s journey with your e-commerce. It may involve different stages, beginning when someone learns about your business, when he/she visits your website for the first time, to the purchasing stage, marketing funnels map routes to conversion and beyond. Suppose your funnel involves just three simple steps: 1) view, 2) cart, 3) purchase. Which is the rate of complete funnels? "
   ]
  },
  {
   "cell_type": "code",
   "execution_count": 6,
   "metadata": {},
   "outputs": [
    {
     "data": {
      "text/plain": [
       "array(['view', 'cart', 'purchase'], dtype=object)"
      ]
     },
     "execution_count": 6,
     "metadata": {},
     "output_type": "execute_result"
    }
   ],
   "source": [
    "df.event_type.unique()"
   ]
  },
  {
   "cell_type": "code",
   "execution_count": 7,
   "metadata": {},
   "outputs": [
    {
     "name": "stdout",
     "output_type": "stream",
     "text": [
      "Rate of complete funnels in January = 0.027439008924898062\n"
     ]
    }
   ],
   "source": [
    "#Here I group all event_time values by product_id and user_id \n",
    "table1 = pd.pivot_table(df, values='event_time', index=['product_id','user_id'],\n",
    "                    columns=['event_type'], aggfunc=len)\n",
    "a=table1.dropna()\n",
    "complete_funnels = a.min(axis=1).sum()\n",
    "#I drop rows where at least one of them wasn't made, count sum and divide by total length\n",
    "print('Rate of complete funnels in {} = {}'.format(name,complete_funnels/len(table1)))"
   ]
  },
  {
   "cell_type": "markdown",
   "metadata": {},
   "source": [
    "### What’s the operation users repeat more on average within a session? Produce a plot that shows the average number of times users perform each operation (view/removefromchart etc etc)."
   ]
  },
  {
   "cell_type": "code",
   "execution_count": 8,
   "metadata": {
    "scrolled": true
   },
   "outputs": [
    {
     "data": {
      "text/plain": [
       "[3.815561953579211, 1.7112130737992748, 1.208526189339007]"
      ]
     },
     "execution_count": 8,
     "metadata": {},
     "output_type": "execute_result"
    }
   ],
   "source": [
    "#Here I grouped by session and took all average numbers of events in event_type\n",
    "mean=[]\n",
    "for i in df.event_type.unique():\n",
    "    mean.append(df[df.event_type == i].groupby(['user_session']).event_type.count())\n",
    "for i in range(len(mean)):\n",
    "    mean[i]=mean[i].mean()\n",
    "mean"
   ]
  },
  {
   "cell_type": "code",
   "execution_count": 9,
   "metadata": {
    "scrolled": true
   },
   "outputs": [
    {
     "name": "stdout",
     "output_type": "stream",
     "text": [
      "The operation users repeat more on average within a session in January: \n"
     ]
    },
    {
     "data": {
      "image/png": "[encoded data removed]",
      "text/plain": [
       "<Figure size 432x288 with 1 Axes>"
      ]
     },
     "metadata": {
      "needs_background": "light"
     },
     "output_type": "display_data"
    }
   ],
   "source": [
    "#and then plot a bar, and took tha name of event with highest number\n",
    "plt.bar(df.event_type.unique(),mean);\n",
    "print('The operation users repeat more on average within a session in {}: '.format(name, df.event_type.unique()[0]))"
   ]
  },
  {
   "cell_type": "markdown",
   "metadata": {},
   "source": [
    "### How many times, on average, a user views a product before adding it to the cart?"
   ]
  },
  {
   "cell_type": "code",
   "execution_count": null,
   "metadata": {
    "scrolled": true
   },
   "outputs": [],
   "source": [
    "#I made a pivot table of the times of first events that users made\n",
    "table = pd.pivot_table(df, values='event_time', index=['product_id','user_id'],\n",
    "                    columns=['event_type'], aggfunc=min)\n",
    "table"
   ]
  },
  {
   "cell_type": "code",
   "execution_count": null,
   "metadata": {},
   "outputs": [],
   "source": [
    "#and then counted probability of user to view a product before buying\n",
    "answer = len(table[table['view']<table['cart']])/len(table)\n",
    "answer"
   ]
  },
  {
   "cell_type": "markdown",
   "metadata": {},
   "source": [
    "### What’s the probability that products added once to the cart are effectively bought?"
   ]
  },
  {
   "cell_type": "code",
   "execution_count": null,
   "metadata": {},
   "outputs": [],
   "source": [
    "# the same pivot from above, counting all rows with time of 'cart' before the 'purchase' and divide by total length\n",
    "answer = len(table[table['cart']<table['purchase']])/len(table['cart'].dropna())\n",
    "answer"
   ]
  },
  {
   "cell_type": "markdown",
   "metadata": {},
   "source": [
    "## [RQ2] What are the categories of the most trending products overall? For each month visualize this information through a plot showing the number of sold products per category. "
   ]
  },
  {
   "cell_type": "code",
   "execution_count": 10,
   "metadata": {},
   "outputs": [],
   "source": [
    "import seaborn as sns\n",
    "#split category_code into 'category' and 'subcategory' columns\n",
    "df[['category', 'subcategory']] = df['category_code'].str.split('.', 1, expand=True)\n",
    "#count number of purchases of products and sort in descending order\n",
    "group_purchase_by_cat=df[df['event_type']=='purchase'].groupby(['product_id','category']).count()"
   ]
  },
  {
   "cell_type": "code",
   "execution_count": 11,
   "metadata": {},
   "outputs": [
    {
     "data": {
      "text/plain": [
       "product_id  category    \n",
       "1004767     construction    36854\n",
       "1005100     construction    26997\n",
       "1005115     construction    26401\n",
       "1005212     construction    16553\n",
       "4804056     sport           15442\n",
       "1002544     construction    14992\n",
       "1005160     construction    11894\n",
       "1005105     construction    10629\n",
       "1004873     construction     9795\n",
       "1004856     construction     9008\n",
       "Name: user_id, dtype: int64"
      ]
     },
     "execution_count": 11,
     "metadata": {},
     "output_type": "execute_result"
    }
   ],
   "source": [
    "group_purchase_by_cat['user_id'].sort_values(ascending=False).head(10)\n",
    "#As you can see the category of most trending products is electronics"
   ]
  },
  {
   "cell_type": "code",
   "execution_count": 12,
   "metadata": {},
   "outputs": [
    {
     "name": "stderr",
     "output_type": "stream",
     "text": [
      "/home/dias/TTS/lib/python3.6/site-packages/seaborn/_decorators.py:43: FutureWarning: Pass the following variables as keyword args: x, y. From version 0.12, the only valid positional argument will be `data`, and passing other arguments without an explicit keyword will result in an error or misinterpretation.\n",
      "  FutureWarning\n"
     ]
    },
    {
     "data": {
      "text/plain": [
       "Text(0, 0.5, 'Number of purchases')"
      ]
     },
     "execution_count": 12,
     "metadata": {},
     "output_type": "execute_result"
    },
    {
     "data": {
      "image/png": "[encoded data removed]",
      "text/plain": [
       "<Figure size 1152x864 with 1 Axes>"
      ]
     },
     "metadata": {
      "needs_background": "light"
     },
     "output_type": "display_data"
    }
   ],
   "source": [
    "group_purchase_by_cat=df[df['event_type']=='purchase'].groupby(['category'])['price'].count()\n",
    "sorted_group_purchase_by_cat = group_purchase_by_cat.dropna().sort_values(ascending=False)\n",
    "plt.figure(figsize =(16, 12)) \n",
    "index_category = [str(i) for i in sorted_group_purchase_by_cat.index]\n",
    "ax= sns.barplot(index_category,sorted_group_purchase_by_cat)\n",
    "for p in ax.patches:\n",
    "    ax.annotate(format(p.get_height(),',.0f'), (p.get_x() , p.get_height()),)\n",
    "plt.title('Total number of purchases by category in {}'.format(name))\n",
    "plt.xlabel('Category')\n",
    "plt.ylabel('Number of purchases')"
   ]
  },
  {
   "cell_type": "markdown",
   "metadata": {},
   "source": [
    "### Plot the most visited subcategories."
   ]
  },
  {
   "cell_type": "code",
   "execution_count": 13,
   "metadata": {},
   "outputs": [
    {
     "name": "stderr",
     "output_type": "stream",
     "text": [
      "/home/dias/TTS/lib/python3.6/site-packages/seaborn/_decorators.py:43: FutureWarning: Pass the following variables as keyword args: x, y. From version 0.12, the only valid positional argument will be `data`, and passing other arguments without an explicit keyword will result in an error or misinterpretation.\n",
      "  FutureWarning\n"
     ]
    },
    {
     "data": {
      "text/plain": [
       "Text(0, 0.5, 'Number of views')"
      ]
     },
     "execution_count": 13,
     "metadata": {},
     "output_type": "execute_result"
    },
    {
     "data": {
      "image/png": "[encoded data removed]",
      "text/plain": [
       "<Figure size 1152x864 with 1 Axes>"
      ]
     },
     "metadata": {
      "needs_background": "light"
     },
     "output_type": "display_data"
    }
   ],
   "source": [
    "group_view_by_subcat=df[df['event_type']=='view'].groupby(['subcategory'])['price'].count()\n",
    "sorted_group_view_by_subcat = group_view_by_subcat.dropna().sort_values(ascending=False)\n",
    "plt.figure(figsize =(16, 12)) \n",
    "index_category = [str(i) for i in sorted_group_view_by_subcat.index]\n",
    "ax= sns.barplot(index_category[:10],sorted_group_view_by_subcat[:10])\n",
    "for p in ax.patches:\n",
    "    ax.annotate(format(p.get_height(),',.0f'), (p.get_x() , p.get_height()),)\n",
    "plt.title('10 most visited subcategories in {}'.format(name))\n",
    "plt.xlabel('Subcategory')\n",
    "plt.ylabel('Number of views')"
   ]
  },
  {
   "cell_type": "markdown",
   "metadata": {},
   "source": [
    "### What are the 10 most sold products per category?"
   ]
  },
  {
   "cell_type": "code",
   "execution_count": 14,
   "metadata": {},
   "outputs": [
    {
     "name": "stdout",
     "output_type": "stream",
     "text": [
      "category      product_id\n",
      "construction  1004767      36854.000000\n",
      "              1005100      26997.000000\n",
      "              1005115      26401.000000\n",
      "              1005212      16553.000000\n",
      "              1002544      14992.000000\n",
      "              1005160      11894.000000\n",
      "              1005105      10629.000000\n",
      "              1004873       9795.000000\n",
      "              1004856       9008.000000\n",
      "Name: purchase, dtype: float64\n",
      "category  product_id\n",
      "apparel   5100816      6188.000000\n",
      "          4100346      2587.000000\n",
      "          16500007     1139.000000\n",
      "          1200947       959.000000\n",
      "          4100126       884.000000\n",
      "          1201504       738.000000\n",
      "          100057088     671.000000\n",
      "          5100503       617.000000\n",
      "          4100129       516.000000\n",
      "Name: purchase, dtype: float64\n",
      "category    product_id\n",
      "appliances  1005174      5475.000000\n",
      "            1801690      2614.000000\n",
      "            1801766      1999.000000\n",
      "            3700926      1817.000000\n",
      "            1005186      1728.000000\n",
      "            1801881      1624.000000\n",
      "            3601603      1232.000000\n",
      "            3600661      1224.000000\n",
      "            1801805      1069.000000\n",
      "Name: purchase, dtype: float64\n",
      "category  product_id\n",
      "sport     4804056      15442.000000\n",
      "          4804055       4696.000000\n",
      "          4804718       3386.000000\n",
      "          4804295       2552.000000\n",
      "          4804660       2225.000000\n",
      "          4803977       1732.000000\n",
      "          4803976        510.000000\n",
      "          4804409        442.000000\n",
      "          4803879        435.000000\n",
      "Name: purchase, dtype: float64\n",
      "No purchases in nan\n",
      "category     product_id\n",
      "electronics  5100562      1752.000000\n",
      "             1307545      1690.000000\n",
      "             5100855      1585.000000\n",
      "             1307589      1459.000000\n",
      "             1307188      1020.000000\n",
      "             5100610       840.000000\n",
      "             1307582       693.000000\n",
      "             5100337       689.000000\n",
      "             4804572       679.000000\n",
      "Name: purchase, dtype: float64\n",
      "category   product_id\n",
      "furniture  2900561      527.000000\n",
      "           2900958      446.000000\n",
      "           11400317     438.000000\n",
      "           3801134      379.000000\n",
      "           2900934      370.000000\n",
      "           3800979      280.000000\n",
      "           15200181     250.000000\n",
      "           2900090      226.000000\n",
      "           11400666     211.000000\n",
      "Name: purchase, dtype: float64\n",
      "category  product_id\n",
      "kids      22300003     436.000000\n",
      "          1500440      300.000000\n",
      "          7004492      291.000000\n",
      "          1500258      233.000000\n",
      "          11200532     216.000000\n",
      "          26500136     204.000000\n",
      "          11200192     186.000000\n",
      "          48400005     185.000000\n",
      "          26500139     152.000000\n",
      "Name: purchase, dtype: float64\n",
      "category   product_id\n",
      "computers  3300349      507.000000\n",
      "           26400293     449.000000\n",
      "           100063161    348.000000\n",
      "           26400266     282.000000\n",
      "           26400194     247.000000\n",
      "           26400402     239.000000\n",
      "           1307136      228.000000\n",
      "           26401414     220.000000\n",
      "           26402266     157.000000\n",
      "Name: purchase, dtype: float64\n",
      "category     product_id\n",
      "accessories  4700478      347.000000\n",
      "             4700630      286.000000\n",
      "             16000973     158.000000\n",
      "             4700419      113.000000\n",
      "             4700589       95.000000\n",
      "             4700407       80.000000\n",
      "             4700542       71.000000\n",
      "             4700738       68.000000\n",
      "             100017531     64.000000\n",
      "Name: purchase, dtype: float64\n",
      "category  product_id\n",
      "auto      27900026     165.000000\n",
      "          100023264    153.000000\n",
      "          27900034     141.000000\n",
      "          100016665    116.000000\n",
      "          100019294     92.000000\n",
      "          100017086     83.000000\n",
      "          27900038      76.000000\n",
      "          24400436      71.000000\n",
      "          5701167       69.000000\n",
      "Name: purchase, dtype: float64\n",
      "category    product_id\n",
      "stationery  12900142     10.000000\n",
      "            12900132      9.000000\n",
      "            12900111      8.000000\n",
      "            16600280      8.000000\n",
      "            16600214      7.000000\n",
      "            16600211      6.000000\n",
      "            12900361      6.000000\n",
      "            12900110      6.000000\n",
      "            100010207     6.000000\n",
      "Name: purchase, dtype: float64\n",
      "category      product_id\n",
      "country_yard  26800030     109.000000\n",
      "              21700002      91.000000\n",
      "              40500104      91.000000\n",
      "              26800031      47.000000\n",
      "              29501872      46.000000\n",
      "              40500183      42.000000\n",
      "              21700003      33.000000\n",
      "              21700001      33.000000\n",
      "              40500173      26.000000\n",
      "Name: purchase, dtype: float64\n",
      "category  product_id\n",
      "medicine  29501042     38.000000\n",
      "          29501031     37.000000\n",
      "          29502182     25.000000\n",
      "          29501041     23.000000\n",
      "          29501859     20.000000\n",
      "          29501001     15.000000\n",
      "          29501929     12.000000\n",
      "          100009497    11.000000\n",
      "          29501795      9.000000\n",
      "Name: purchase, dtype: float64\n"
     ]
    }
   ],
   "source": [
    "#Delete nan in order to avoid error\n",
    "bf = df['category'].unique()\n",
    "for i in bf:\n",
    "    try:\n",
    "        #make pivot table for each category, and sort values in descending order\n",
    "        table4 = pd.pivot_table(df[df['category']==i], values='event_time', index=['category','product_id'],\n",
    "                        columns=['event_type'], aggfunc=len)\n",
    "        print(table4['purchase'].dropna().sort_values(ascending =False)[:9])\n",
    "    except:\n",
    "        print('No purchases in {}'.format(i))"
   ]
  },
  {
   "cell_type": "markdown",
   "metadata": {},
   "source": [
    "## [RQ4] How much does each brand earn per month? "
   ]
  },
  {
   "cell_type": "code",
   "execution_count": 15,
   "metadata": {},
   "outputs": [
    {
     "data": {
      "text/html": [
       "<div>\n",
       "<style scoped>\n",
       "    .dataframe tbody tr th:only-of-type {\n",
       "        vertical-align: middle;\n",
       "    }\n",
       "\n",
       "    .dataframe tbody tr th {\n",
       "        vertical-align: top;\n",
       "    }\n",
       "\n",
       "    .dataframe thead th {\n",
       "        text-align: right;\n",
       "    }\n",
       "</style>\n",
       "<table border=\"1\" class=\"dataframe\">\n",
       "  <thead>\n",
       "    <tr style=\"text-align: right;\">\n",
       "      <th>event_type</th>\n",
       "      <th>cart</th>\n",
       "      <th>purchase</th>\n",
       "      <th>view</th>\n",
       "    </tr>\n",
       "    <tr>\n",
       "      <th>brand</th>\n",
       "      <th></th>\n",
       "      <th></th>\n",
       "      <th></th>\n",
       "    </tr>\n",
       "  </thead>\n",
       "  <tbody>\n",
       "    <tr>\n",
       "      <th>a-case</th>\n",
       "      <td>4228.100000</td>\n",
       "      <td>861.960000</td>\n",
       "      <td>222118.360000</td>\n",
       "    </tr>\n",
       "    <tr>\n",
       "      <th>a-derma</th>\n",
       "      <td>420.980000</td>\n",
       "      <td>34.190000</td>\n",
       "      <td>11682.700000</td>\n",
       "    </tr>\n",
       "    <tr>\n",
       "      <th>a-elita</th>\n",
       "      <td>90.260000</td>\n",
       "      <td>nan</td>\n",
       "      <td>8755.720000</td>\n",
       "    </tr>\n",
       "    <tr>\n",
       "      <th>a-mega</th>\n",
       "      <td>626.440000</td>\n",
       "      <td>296.690000</td>\n",
       "      <td>21878.030000</td>\n",
       "    </tr>\n",
       "    <tr>\n",
       "      <th>aardwolf</th>\n",
       "      <td>255.140000</td>\n",
       "      <td>47.500000</td>\n",
       "      <td>10682.710000</td>\n",
       "    </tr>\n",
       "    <tr>\n",
       "      <th>...</th>\n",
       "      <td>...</td>\n",
       "      <td>...</td>\n",
       "      <td>...</td>\n",
       "    </tr>\n",
       "    <tr>\n",
       "      <th>zwerg</th>\n",
       "      <td>nan</td>\n",
       "      <td>nan</td>\n",
       "      <td>511.760000</td>\n",
       "    </tr>\n",
       "    <tr>\n",
       "      <th>zwilling</th>\n",
       "      <td>nan</td>\n",
       "      <td>nan</td>\n",
       "      <td>366376.800000</td>\n",
       "    </tr>\n",
       "    <tr>\n",
       "      <th>zwillingjahenckels</th>\n",
       "      <td>1081.440000</td>\n",
       "      <td>nan</td>\n",
       "      <td>1467693.150000</td>\n",
       "    </tr>\n",
       "    <tr>\n",
       "      <th>zx</th>\n",
       "      <td>nan</td>\n",
       "      <td>nan</td>\n",
       "      <td>2736.830000</td>\n",
       "    </tr>\n",
       "    <tr>\n",
       "      <th>zyxel</th>\n",
       "      <td>782.490000</td>\n",
       "      <td>688.240000</td>\n",
       "      <td>252850.050000</td>\n",
       "    </tr>\n",
       "  </tbody>\n",
       "</table>\n",
       "<p>5083 rows × 3 columns</p>\n",
       "</div>"
      ],
      "text/plain": [
       "event_type                cart   purchase           view\n",
       "brand                                                   \n",
       "a-case             4228.100000 861.960000  222118.360000\n",
       "a-derma             420.980000  34.190000   11682.700000\n",
       "a-elita              90.260000        nan    8755.720000\n",
       "a-mega              626.440000 296.690000   21878.030000\n",
       "aardwolf            255.140000  47.500000   10682.710000\n",
       "...                        ...        ...            ...\n",
       "zwerg                      nan        nan     511.760000\n",
       "zwilling                   nan        nan  366376.800000\n",
       "zwillingjahenckels 1081.440000        nan 1467693.150000\n",
       "zx                         nan        nan    2736.830000\n",
       "zyxel               782.490000 688.240000  252850.050000\n",
       "\n",
       "[5083 rows x 3 columns]"
      ]
     },
     "execution_count": 15,
     "metadata": {},
     "output_type": "execute_result"
    }
   ],
   "source": [
    "#made a pivot table to sum the selling price per each brand\n",
    "brand_sum = pd.pivot_table(df, values='price', index=['brand'],\n",
    "                    columns=['event_type'], aggfunc=sum)\n",
    "brand_sum"
   ]
  },
  {
   "cell_type": "code",
   "execution_count": 16,
   "metadata": {},
   "outputs": [
    {
     "data": {
      "text/plain": [
       "brand\n",
       "apple                125844143.839979\n",
       "samsung               55786627.060015\n",
       "xiaomi                12004205.120002\n",
       "huawei                 5380149.959999\n",
       "lg                     4200411.050000\n",
       "                           ...       \n",
       "zvezda                            nan\n",
       "zwerg                             nan\n",
       "zwilling                          nan\n",
       "zwillingjahenckels                nan\n",
       "zx                                nan\n",
       "Name: purchase, Length: 5083, dtype: float64"
      ]
     },
     "execution_count": 16,
     "metadata": {},
     "output_type": "execute_result"
    }
   ],
   "source": [
    "#How much does each brand earn per month?\n",
    "brand_revenue = brand_sum['purchase'].sort_values(ascending=False)\n",
    "brand_revenue"
   ]
  },
  {
   "cell_type": "markdown",
   "metadata": {},
   "source": [
    "### Write a function that given the name of a brand in input returns, for each month, its profit."
   ]
  },
  {
   "cell_type": "code",
   "execution_count": 17,
   "metadata": {},
   "outputs": [],
   "source": [
    "# Function that given the name of a brand in input returns, for each month, its profit. \n",
    "def profit_of_brand(brand_name,month):\n",
    "    return month['purchase'][brand_name]\n",
    "\n",
    "def profit_of_brand_for_each_month(brand_name,list_of_months):\n",
    "    return [i['purchase'][brand_name] for i  in list_of_months]"
   ]
  },
  {
   "cell_type": "markdown",
   "metadata": {},
   "source": [
    "### Is the average price of products of different brands significantly different? "
   ]
  },
  {
   "cell_type": "code",
   "execution_count": 18,
   "metadata": {
    "scrolled": true
   },
   "outputs": [
    {
     "data": {
      "text/html": [
       "<div>\n",
       "<style scoped>\n",
       "    .dataframe tbody tr th:only-of-type {\n",
       "        vertical-align: middle;\n",
       "    }\n",
       "\n",
       "    .dataframe tbody tr th {\n",
       "        vertical-align: top;\n",
       "    }\n",
       "\n",
       "    .dataframe thead th {\n",
       "        text-align: right;\n",
       "    }\n",
       "</style>\n",
       "<table border=\"1\" class=\"dataframe\">\n",
       "  <thead>\n",
       "    <tr style=\"text-align: right;\">\n",
       "      <th></th>\n",
       "      <th>event_type</th>\n",
       "      <th>cart</th>\n",
       "      <th>purchase</th>\n",
       "      <th>view</th>\n",
       "    </tr>\n",
       "    <tr>\n",
       "      <th>subcategory</th>\n",
       "      <th>brand</th>\n",
       "      <th></th>\n",
       "      <th></th>\n",
       "      <th></th>\n",
       "    </tr>\n",
       "  </thead>\n",
       "  <tbody>\n",
       "    <tr>\n",
       "      <th rowspan=\"27\" valign=\"top\">accessories.alarm</th>\n",
       "      <th>absolutechampion</th>\n",
       "      <td>45.050000</td>\n",
       "      <td>45.050000</td>\n",
       "      <td>45.050000</td>\n",
       "    </tr>\n",
       "    <tr>\n",
       "      <th>appollo</th>\n",
       "      <td>nan</td>\n",
       "      <td>nan</td>\n",
       "      <td>54.060000</td>\n",
       "    </tr>\n",
       "    <tr>\n",
       "      <th>asrock</th>\n",
       "      <td>137.980000</td>\n",
       "      <td>nan</td>\n",
       "      <td>129.521818</td>\n",
       "    </tr>\n",
       "    <tr>\n",
       "      <th>asus</th>\n",
       "      <td>181.110000</td>\n",
       "      <td>nan</td>\n",
       "      <td>181.220976</td>\n",
       "    </tr>\n",
       "    <tr>\n",
       "      <th>autoline</th>\n",
       "      <td>nan</td>\n",
       "      <td>nan</td>\n",
       "      <td>353.557872</td>\n",
       "    </tr>\n",
       "    <tr>\n",
       "      <th>body-solid</th>\n",
       "      <td>nan</td>\n",
       "      <td>nan</td>\n",
       "      <td>341.320000</td>\n",
       "    </tr>\n",
       "    <tr>\n",
       "      <th>cenmax</th>\n",
       "      <td>nan</td>\n",
       "      <td>nan</td>\n",
       "      <td>100.390000</td>\n",
       "    </tr>\n",
       "    <tr>\n",
       "      <th>centurion</th>\n",
       "      <td>38.286250</td>\n",
       "      <td>39.895000</td>\n",
       "      <td>41.302401</td>\n",
       "    </tr>\n",
       "    <tr>\n",
       "      <th>dds</th>\n",
       "      <td>244.845441</td>\n",
       "      <td>244.196000</td>\n",
       "      <td>244.992986</td>\n",
       "    </tr>\n",
       "    <tr>\n",
       "      <th>dsk</th>\n",
       "      <td>nan</td>\n",
       "      <td>nan</td>\n",
       "      <td>72.229184</td>\n",
       "    </tr>\n",
       "    <tr>\n",
       "      <th>kenwood</th>\n",
       "      <td>113.260000</td>\n",
       "      <td>113.260000</td>\n",
       "      <td>113.260000</td>\n",
       "    </tr>\n",
       "    <tr>\n",
       "      <th>kgb</th>\n",
       "      <td>84.940000</td>\n",
       "      <td>84.940000</td>\n",
       "      <td>84.940000</td>\n",
       "    </tr>\n",
       "    <tr>\n",
       "      <th>mydean</th>\n",
       "      <td>128.700000</td>\n",
       "      <td>128.700000</td>\n",
       "      <td>128.700000</td>\n",
       "    </tr>\n",
       "    <tr>\n",
       "      <th>pandora</th>\n",
       "      <td>109.395000</td>\n",
       "      <td>nan</td>\n",
       "      <td>184.578506</td>\n",
       "    </tr>\n",
       "    <tr>\n",
       "      <th>pioneer</th>\n",
       "      <td>nan</td>\n",
       "      <td>nan</td>\n",
       "      <td>64.350000</td>\n",
       "    </tr>\n",
       "    <tr>\n",
       "      <th>romana</th>\n",
       "      <td>nan</td>\n",
       "      <td>nan</td>\n",
       "      <td>68.518923</td>\n",
       "    </tr>\n",
       "    <tr>\n",
       "      <th>scher-khan</th>\n",
       "      <td>72.070000</td>\n",
       "      <td>72.070000</td>\n",
       "      <td>75.776362</td>\n",
       "    </tr>\n",
       "    <tr>\n",
       "      <th>silapro</th>\n",
       "      <td>15.960000</td>\n",
       "      <td>15.960000</td>\n",
       "      <td>15.960000</td>\n",
       "    </tr>\n",
       "    <tr>\n",
       "      <th>sparta</th>\n",
       "      <td>29.320000</td>\n",
       "      <td>29.320000</td>\n",
       "      <td>29.320000</td>\n",
       "    </tr>\n",
       "    <tr>\n",
       "      <th>spektrsport</th>\n",
       "      <td>39.380000</td>\n",
       "      <td>nan</td>\n",
       "      <td>39.380000</td>\n",
       "    </tr>\n",
       "    <tr>\n",
       "      <th>starline</th>\n",
       "      <td>211.973077</td>\n",
       "      <td>214.163000</td>\n",
       "      <td>139.114353</td>\n",
       "    </tr>\n",
       "    <tr>\n",
       "      <th>swat</th>\n",
       "      <td>42.071429</td>\n",
       "      <td>40.673333</td>\n",
       "      <td>42.555847</td>\n",
       "    </tr>\n",
       "    <tr>\n",
       "      <th>tec</th>\n",
       "      <td>352.650000</td>\n",
       "      <td>nan</td>\n",
       "      <td>352.650000</td>\n",
       "    </tr>\n",
       "    <tr>\n",
       "      <th>tomahawk</th>\n",
       "      <td>89.506364</td>\n",
       "      <td>86.230000</td>\n",
       "      <td>92.869683</td>\n",
       "    </tr>\n",
       "    <tr>\n",
       "      <th>torneo</th>\n",
       "      <td>22.650000</td>\n",
       "      <td>22.650000</td>\n",
       "      <td>22.650000</td>\n",
       "    </tr>\n",
       "    <tr>\n",
       "      <th>tuka</th>\n",
       "      <td>16.730000</td>\n",
       "      <td>16.730000</td>\n",
       "      <td>16.730000</td>\n",
       "    </tr>\n",
       "    <tr>\n",
       "      <th>uralsport</th>\n",
       "      <td>47.620000</td>\n",
       "      <td>47.620000</td>\n",
       "      <td>47.620000</td>\n",
       "    </tr>\n",
       "    <tr>\n",
       "      <th rowspan=\"23\" valign=\"top\">accessories.anti_freeze</th>\n",
       "      <th>adel</th>\n",
       "      <td>34.354000</td>\n",
       "      <td>33.400000</td>\n",
       "      <td>28.908511</td>\n",
       "    </tr>\n",
       "    <tr>\n",
       "      <th>alexrojo</th>\n",
       "      <td>46.330000</td>\n",
       "      <td>nan</td>\n",
       "      <td>43.242000</td>\n",
       "    </tr>\n",
       "    <tr>\n",
       "      <th>alvitek</th>\n",
       "      <td>17.286176</td>\n",
       "      <td>16.855714</td>\n",
       "      <td>17.871762</td>\n",
       "    </tr>\n",
       "    <tr>\n",
       "      <th>barokko</th>\n",
       "      <td>12.727000</td>\n",
       "      <td>12.790000</td>\n",
       "      <td>12.318347</td>\n",
       "    </tr>\n",
       "    <tr>\n",
       "      <th>bartek</th>\n",
       "      <td>nan</td>\n",
       "      <td>nan</td>\n",
       "      <td>60.490000</td>\n",
       "    </tr>\n",
       "    <tr>\n",
       "      <th>belezza</th>\n",
       "      <td>nan</td>\n",
       "      <td>nan</td>\n",
       "      <td>17.533846</td>\n",
       "    </tr>\n",
       "    <tr>\n",
       "      <th>biomecanics</th>\n",
       "      <td>35.780000</td>\n",
       "      <td>nan</td>\n",
       "      <td>38.280188</td>\n",
       "    </tr>\n",
       "    <tr>\n",
       "      <th>boarteks</th>\n",
       "      <td>nan</td>\n",
       "      <td>nan</td>\n",
       "      <td>26.351236</td>\n",
       "    </tr>\n",
       "    <tr>\n",
       "      <th>bugaboo</th>\n",
       "      <td>nan</td>\n",
       "      <td>nan</td>\n",
       "      <td>141.550000</td>\n",
       "    </tr>\n",
       "    <tr>\n",
       "      <th>burton</th>\n",
       "      <td>nan</td>\n",
       "      <td>nan</td>\n",
       "      <td>643.260000</td>\n",
       "    </tr>\n",
       "    <tr>\n",
       "      <th>butterfly</th>\n",
       "      <td>33.130000</td>\n",
       "      <td>nan</td>\n",
       "      <td>29.604118</td>\n",
       "    </tr>\n",
       "    <tr>\n",
       "      <th>casaconforte</th>\n",
       "      <td>nan</td>\n",
       "      <td>nan</td>\n",
       "      <td>15.833462</td>\n",
       "    </tr>\n",
       "    <tr>\n",
       "      <th>ekonomia</th>\n",
       "      <td>nan</td>\n",
       "      <td>nan</td>\n",
       "      <td>25.980000</td>\n",
       "    </tr>\n",
       "    <tr>\n",
       "      <th>elegant</th>\n",
       "      <td>14.410000</td>\n",
       "      <td>nan</td>\n",
       "      <td>14.404260</td>\n",
       "    </tr>\n",
       "    <tr>\n",
       "      <th>garvalin</th>\n",
       "      <td>37.903333</td>\n",
       "      <td>41.440000</td>\n",
       "      <td>37.399758</td>\n",
       "    </tr>\n",
       "    <tr>\n",
       "      <th>intex</th>\n",
       "      <td>37.680603</td>\n",
       "      <td>37.210469</td>\n",
       "      <td>39.031532</td>\n",
       "    </tr>\n",
       "    <tr>\n",
       "      <th>kroskaa</th>\n",
       "      <td>nan</td>\n",
       "      <td>nan</td>\n",
       "      <td>25.809697</td>\n",
       "    </tr>\n",
       "    <tr>\n",
       "      <th>lealelo</th>\n",
       "      <td>nan</td>\n",
       "      <td>nan</td>\n",
       "      <td>52.770000</td>\n",
       "    </tr>\n",
       "    <tr>\n",
       "      <th>merry</th>\n",
       "      <td>nan</td>\n",
       "      <td>nan</td>\n",
       "      <td>25.680000</td>\n",
       "    </tr>\n",
       "    <tr>\n",
       "      <th>minimen</th>\n",
       "      <td>41.482857</td>\n",
       "      <td>nan</td>\n",
       "      <td>41.915055</td>\n",
       "    </tr>\n",
       "    <tr>\n",
       "      <th>neposeda</th>\n",
       "      <td>25.230000</td>\n",
       "      <td>25.230000</td>\n",
       "      <td>25.230000</td>\n",
       "    </tr>\n",
       "    <tr>\n",
       "      <th>pablosky</th>\n",
       "      <td>47.397143</td>\n",
       "      <td>53.540000</td>\n",
       "      <td>46.205507</td>\n",
       "    </tr>\n",
       "    <tr>\n",
       "      <th>perina</th>\n",
       "      <td>nan</td>\n",
       "      <td>nan</td>\n",
       "      <td>16.610000</td>\n",
       "    </tr>\n",
       "  </tbody>\n",
       "</table>\n",
       "</div>"
      ],
      "text/plain": [
       "event_type                                     cart   purchase       view\n",
       "subcategory             brand                                            \n",
       "accessories.alarm       absolutechampion  45.050000  45.050000  45.050000\n",
       "                        appollo                 nan        nan  54.060000\n",
       "                        asrock           137.980000        nan 129.521818\n",
       "                        asus             181.110000        nan 181.220976\n",
       "                        autoline                nan        nan 353.557872\n",
       "                        body-solid              nan        nan 341.320000\n",
       "                        cenmax                  nan        nan 100.390000\n",
       "                        centurion         38.286250  39.895000  41.302401\n",
       "                        dds              244.845441 244.196000 244.992986\n",
       "                        dsk                     nan        nan  72.229184\n",
       "                        kenwood          113.260000 113.260000 113.260000\n",
       "                        kgb               84.940000  84.940000  84.940000\n",
       "                        mydean           128.700000 128.700000 128.700000\n",
       "                        pandora          109.395000        nan 184.578506\n",
       "                        pioneer                 nan        nan  64.350000\n",
       "                        romana                  nan        nan  68.518923\n",
       "                        scher-khan        72.070000  72.070000  75.776362\n",
       "                        silapro           15.960000  15.960000  15.960000\n",
       "                        sparta            29.320000  29.320000  29.320000\n",
       "                        spektrsport       39.380000        nan  39.380000\n",
       "                        starline         211.973077 214.163000 139.114353\n",
       "                        swat              42.071429  40.673333  42.555847\n",
       "                        tec              352.650000        nan 352.650000\n",
       "                        tomahawk          89.506364  86.230000  92.869683\n",
       "                        torneo            22.650000  22.650000  22.650000\n",
       "                        tuka              16.730000  16.730000  16.730000\n",
       "                        uralsport         47.620000  47.620000  47.620000\n",
       "accessories.anti_freeze adel              34.354000  33.400000  28.908511\n",
       "                        alexrojo          46.330000        nan  43.242000\n",
       "                        alvitek           17.286176  16.855714  17.871762\n",
       "                        barokko           12.727000  12.790000  12.318347\n",
       "                        bartek                  nan        nan  60.490000\n",
       "                        belezza                 nan        nan  17.533846\n",
       "                        biomecanics       35.780000        nan  38.280188\n",
       "                        boarteks                nan        nan  26.351236\n",
       "                        bugaboo                 nan        nan 141.550000\n",
       "                        burton                  nan        nan 643.260000\n",
       "                        butterfly         33.130000        nan  29.604118\n",
       "                        casaconforte            nan        nan  15.833462\n",
       "                        ekonomia                nan        nan  25.980000\n",
       "                        elegant           14.410000        nan  14.404260\n",
       "                        garvalin          37.903333  41.440000  37.399758\n",
       "                        intex             37.680603  37.210469  39.031532\n",
       "                        kroskaa                 nan        nan  25.809697\n",
       "                        lealelo                 nan        nan  52.770000\n",
       "                        merry                   nan        nan  25.680000\n",
       "                        minimen           41.482857        nan  41.915055\n",
       "                        neposeda          25.230000  25.230000  25.230000\n",
       "                        pablosky          47.397143  53.540000  46.205507\n",
       "                        perina                  nan        nan  16.610000"
      ]
     },
     "execution_count": 18,
     "metadata": {},
     "output_type": "execute_result"
    }
   ],
   "source": [
    "#Is the average price of products of different brands significantly different? \n",
    "\n",
    "table3 = pd.pivot_table(df, values='price', index=['subcategory','brand'],\n",
    "\n",
    "                    columns=['event_type'], aggfunc='mean')\n",
    "table3[:50]\n"
   ]
  },
  {
   "cell_type": "markdown",
   "metadata": {},
   "source": [
    "##  [RQ7] The Pareto principle states that for many outcomes roughly 80% of consequences come from 20% of the causes. Also known as 80/20 rule, in e-commerce simply means that most of your business, around 80%, likely comes from about 20% of your customers.\n",
    "\n",
    "    Prove that the pareto principle applies to your store.\n"
   ]
  },
  {
   "cell_type": "code",
   "execution_count": 19,
   "metadata": {},
   "outputs": [
    {
     "data": {
      "text/plain": [
       "user_id\n",
       "562104312   294910.730000\n",
       "515428951   218647.800000\n",
       "563599039   210609.420000\n",
       "549109608   166872.390000\n",
       "538216048   158411.290000\n",
       "                 ...     \n",
       "601775709        0.830000\n",
       "543614784        0.830000\n",
       "597613355        0.830000\n",
       "604621030        0.830000\n",
       "603798830        0.800000\n",
       "Name: price, Length: 359105, dtype: float64"
      ]
     },
     "execution_count": 19,
     "metadata": {},
     "output_type": "execute_result"
    }
   ],
   "source": [
    "group_purchase_by_user=df[df['event_type']=='purchase'].groupby(['user_id'])['price'].sum()\n",
    "sorted_group_purchase_by_user = group_purchase_by_user.dropna().sort_values(ascending=False)\n",
    "sorted_group_purchase_by_user\n",
    "#Group by user and sort all purchases by descending order"
   ]
  },
  {
   "cell_type": "code",
   "execution_count": 20,
   "metadata": {},
   "outputs": [
    {
     "data": {
      "text/plain": [
       "261034870.10000002"
      ]
     },
     "execution_count": 20,
     "metadata": {},
     "output_type": "execute_result"
    }
   ],
   "source": [
    "group_purchase_by_product=df[df['event_type']=='purchase']['price'].sum()\n",
    "group_purchase_by_product\n",
    "#get all the revenue that was made in this month"
   ]
  },
  {
   "cell_type": "code",
   "execution_count": 21,
   "metadata": {},
   "outputs": [
    {
     "name": "stdout",
     "output_type": "stream",
     "text": [
      "Percent of money 20 % of customers gave out of total 261034870.10000002: 71.30879300864461%\n"
     ]
    },
    {
     "data": {
      "image/png": "[encoded data removed]",
      "text/plain": [
       "<Figure size 1152x648 with 1 Axes>"
      ]
     },
     "metadata": {
      "needs_background": "light"
     },
     "output_type": "display_data"
    }
   ],
   "source": [
    "plt.figure(figsize =(16, 9)) \n",
    "amount_of_20percent_customers = len(sorted_group_purchase_by_user) * 0.2\n",
    "#Count % of money that 20% of top customers gave\n",
    "index_user = [str(i) for i in sorted_group_purchase_by_user.index]\n",
    "plt.bar(index_user[:20],sorted_group_purchase_by_user[:20])\n",
    "print('Percent of money 20 % of customers gave out of total {}: {}%'.format(group_purchase_by_product,sum(sorted_group_purchase_by_user[:int(amount_of_20percent_customers)]) /(group_purchase_by_product/100) ))"
   ]
  },
  {
   "cell_type": "code",
   "execution_count": null,
   "metadata": {},
   "outputs": [],
   "source": []
  },
  {
   "cell_type": "markdown",
   "metadata": {},
   "source": [
    "# ADM HW 2. Questions 1,2,4,7"
   ]
  },
  {
   "cell_type": "code",
   "execution_count": 1,
   "metadata": {},
   "outputs": [
    {
     "data": {
      "text/html": [
       "<div>\n",
       "<style scoped>\n",
       "    .dataframe tbody tr th:only-of-type {\n",
       "        vertical-align: middle;\n",
       "    }\n",
       "\n",
       "    .dataframe tbody tr th {\n",
       "        vertical-align: top;\n",
       "    }\n",
       "\n",
       "    .dataframe thead th {\n",
       "        text-align: right;\n",
       "    }\n",
       "</style>\n",
       "<table border=\"1\" class=\"dataframe\">\n",
       "  <thead>\n",
       "    <tr style=\"text-align: right;\">\n",
       "      <th></th>\n",
       "      <th>event_time</th>\n",
       "      <th>event_type</th>\n",
       "      <th>product_id</th>\n",
       "      <th>category_id</th>\n",
       "      <th>category_code</th>\n",
       "      <th>brand</th>\n",
       "      <th>price</th>\n",
       "      <th>user_id</th>\n",
       "      <th>user_session</th>\n",
       "    </tr>\n",
       "  </thead>\n",
       "  <tbody>\n",
       "    <tr>\n",
       "      <th>0</th>\n",
       "      <td>2019-10-01 00:00:00 UTC</td>\n",
       "      <td>view</td>\n",
       "      <td>44600062</td>\n",
       "      <td>2103807459595387724</td>\n",
       "      <td>NaN</td>\n",
       "      <td>shiseido</td>\n",
       "      <td>35.79</td>\n",
       "      <td>541312140</td>\n",
       "      <td>72d76fde-8bb3-4e00-8c23-a032dfed738c</td>\n",
       "    </tr>\n",
       "    <tr>\n",
       "      <th>1</th>\n",
       "      <td>2019-10-01 00:00:00 UTC</td>\n",
       "      <td>view</td>\n",
       "      <td>3900821</td>\n",
       "      <td>2053013552326770905</td>\n",
       "      <td>appliances.environment.water_heater</td>\n",
       "      <td>aqua</td>\n",
       "      <td>33.20</td>\n",
       "      <td>554748717</td>\n",
       "      <td>9333dfbd-b87a-4708-9857-6336556b0fcc</td>\n",
       "    </tr>\n",
       "    <tr>\n",
       "      <th>2</th>\n",
       "      <td>2019-10-01 00:00:01 UTC</td>\n",
       "      <td>view</td>\n",
       "      <td>17200506</td>\n",
       "      <td>2053013559792632471</td>\n",
       "      <td>furniture.living_room.sofa</td>\n",
       "      <td>NaN</td>\n",
       "      <td>543.10</td>\n",
       "      <td>519107250</td>\n",
       "      <td>566511c2-e2e3-422b-b695-cf8e6e792ca8</td>\n",
       "    </tr>\n",
       "    <tr>\n",
       "      <th>3</th>\n",
       "      <td>2019-10-01 00:00:01 UTC</td>\n",
       "      <td>view</td>\n",
       "      <td>1307067</td>\n",
       "      <td>2053013558920217191</td>\n",
       "      <td>computers.notebook</td>\n",
       "      <td>lenovo</td>\n",
       "      <td>251.74</td>\n",
       "      <td>550050854</td>\n",
       "      <td>7c90fc70-0e80-4590-96f3-13c02c18c713</td>\n",
       "    </tr>\n",
       "    <tr>\n",
       "      <th>4</th>\n",
       "      <td>2019-10-01 00:00:04 UTC</td>\n",
       "      <td>view</td>\n",
       "      <td>1004237</td>\n",
       "      <td>2053013555631882655</td>\n",
       "      <td>electronics.smartphone</td>\n",
       "      <td>apple</td>\n",
       "      <td>1081.98</td>\n",
       "      <td>535871217</td>\n",
       "      <td>c6bd7419-2748-4c56-95b4-8cec9ff8b80d</td>\n",
       "    </tr>\n",
       "  </tbody>\n",
       "</table>\n",
       "</div>"
      ],
      "text/plain": [
       "                event_time event_type  product_id          category_id  \\\n",
       "0  2019-10-01 00:00:00 UTC       view    44600062  2103807459595387724   \n",
       "1  2019-10-01 00:00:00 UTC       view     3900821  2053013552326770905   \n",
       "2  2019-10-01 00:00:01 UTC       view    17200506  2053013559792632471   \n",
       "3  2019-10-01 00:00:01 UTC       view     1307067  2053013558920217191   \n",
       "4  2019-10-01 00:00:04 UTC       view     1004237  2053013555631882655   \n",
       "\n",
       "                         category_code     brand    price    user_id  \\\n",
       "0                                  NaN  shiseido    35.79  541312140   \n",
       "1  appliances.environment.water_heater      aqua    33.20  554748717   \n",
       "2           furniture.living_room.sofa       NaN   543.10  519107250   \n",
       "3                   computers.notebook    lenovo   251.74  550050854   \n",
       "4               electronics.smartphone     apple  1081.98  535871217   \n",
       "\n",
       "                           user_session  \n",
       "0  72d76fde-8bb3-4e00-8c23-a032dfed738c  \n",
       "1  9333dfbd-b87a-4708-9857-6336556b0fcc  \n",
       "2  566511c2-e2e3-422b-b695-cf8e6e792ca8  \n",
       "3  7c90fc70-0e80-4590-96f3-13c02c18c713  \n",
       "4  c6bd7419-2748-4c56-95b4-8cec9ff8b80d  "
      ]
     },
     "execution_count": 1,
     "metadata": {},
     "output_type": "execute_result"
    }
   ],
   "source": [
    "#Loading datasets\n",
    "import pandas as pd\n",
    "import numpy as np\n",
    "import matplotlib.pyplot as plt\n",
    "df_oct=pd.read_csv('/home/dias/Desktop/HW/2019-Oct.csv')\n",
    "df_nov=pd.read_csv('/home/dias/Desktop/HW/2019-Nov.csv')\n",
    "df_oct.head()"
   ]
  },
  {
   "cell_type": "code",
   "execution_count": 14,
   "metadata": {},
   "outputs": [],
   "source": [
    "#Setting numbers to show in float \n",
    "pd.set_option('float_format', '{:f}'.format)"
   ]
  },
  {
   "cell_type": "code",
   "execution_count": 7,
   "metadata": {},
   "outputs": [
    {
     "name": "stdout",
     "output_type": "stream",
     "text": [
      "<class 'pandas.core.frame.DataFrame'>\n",
      "RangeIndex: 42448764 entries, 0 to 42448763\n",
      "Data columns (total 9 columns):\n",
      " #   Column         Dtype  \n",
      "---  ------         -----  \n",
      " 0   event_time     object \n",
      " 1   event_type     object \n",
      " 2   product_id     int64  \n",
      " 3   category_id    int64  \n",
      " 4   category_code  object \n",
      " 5   brand          object \n",
      " 6   price          float64\n",
      " 7   user_id        int64  \n",
      " 8   user_session   object \n",
      "dtypes: float64(1), int64(3), object(5)\n",
      "memory usage: 2.8+ GB\n"
     ]
    }
   ],
   "source": [
    "#Getting information about dataset\n",
    "df_oct.info()"
   ]
  },
  {
   "cell_type": "code",
   "execution_count": 4,
   "metadata": {},
   "outputs": [
    {
     "data": {
      "text/html": [
       "<div>\n",
       "<style scoped>\n",
       "    .dataframe tbody tr th:only-of-type {\n",
       "        vertical-align: middle;\n",
       "    }\n",
       "\n",
       "    .dataframe tbody tr th {\n",
       "        vertical-align: top;\n",
       "    }\n",
       "\n",
       "    .dataframe thead th {\n",
       "        text-align: right;\n",
       "    }\n",
       "</style>\n",
       "<table border=\"1\" class=\"dataframe\">\n",
       "  <thead>\n",
       "    <tr style=\"text-align: right;\">\n",
       "      <th></th>\n",
       "      <th>product_id</th>\n",
       "      <th>category_id</th>\n",
       "      <th>price</th>\n",
       "      <th>user_id</th>\n",
       "    </tr>\n",
       "  </thead>\n",
       "  <tbody>\n",
       "    <tr>\n",
       "      <th>count</th>\n",
       "      <td>42448764.000000</td>\n",
       "      <td>42448764.000000</td>\n",
       "      <td>42448764.000000</td>\n",
       "      <td>42448764.000000</td>\n",
       "    </tr>\n",
       "    <tr>\n",
       "      <th>mean</th>\n",
       "      <td>10549932.375843</td>\n",
       "      <td>2057404237940798720.000000</td>\n",
       "      <td>290.323661</td>\n",
       "      <td>533537147.508169</td>\n",
       "    </tr>\n",
       "    <tr>\n",
       "      <th>std</th>\n",
       "      <td>11881906.970608</td>\n",
       "      <td>18439264661404152.000000</td>\n",
       "      <td>358.269155</td>\n",
       "      <td>18523738.174654</td>\n",
       "    </tr>\n",
       "    <tr>\n",
       "      <th>min</th>\n",
       "      <td>1000978.000000</td>\n",
       "      <td>2053013552226107648.000000</td>\n",
       "      <td>0.000000</td>\n",
       "      <td>33869381.000000</td>\n",
       "    </tr>\n",
       "    <tr>\n",
       "      <th>25%</th>\n",
       "      <td>1005157.000000</td>\n",
       "      <td>2053013555464110592.000000</td>\n",
       "      <td>65.980000</td>\n",
       "      <td>515904318.000000</td>\n",
       "    </tr>\n",
       "    <tr>\n",
       "      <th>50%</th>\n",
       "      <td>5000470.000000</td>\n",
       "      <td>2053013555631882752.000000</td>\n",
       "      <td>162.930000</td>\n",
       "      <td>529696452.000000</td>\n",
       "    </tr>\n",
       "    <tr>\n",
       "      <th>75%</th>\n",
       "      <td>16000305.000000</td>\n",
       "      <td>2053013563424899840.000000</td>\n",
       "      <td>358.570000</td>\n",
       "      <td>551578838.250000</td>\n",
       "    </tr>\n",
       "    <tr>\n",
       "      <th>max</th>\n",
       "      <td>60500010.000000</td>\n",
       "      <td>2175419595093967616.000000</td>\n",
       "      <td>2574.070000</td>\n",
       "      <td>566280860.000000</td>\n",
       "    </tr>\n",
       "  </tbody>\n",
       "</table>\n",
       "</div>"
      ],
      "text/plain": [
       "           product_id                category_id           price  \\\n",
       "count 42448764.000000            42448764.000000 42448764.000000   \n",
       "mean  10549932.375843 2057404237940798720.000000      290.323661   \n",
       "std   11881906.970608   18439264661404152.000000      358.269155   \n",
       "min    1000978.000000 2053013552226107648.000000        0.000000   \n",
       "25%    1005157.000000 2053013555464110592.000000       65.980000   \n",
       "50%    5000470.000000 2053013555631882752.000000      162.930000   \n",
       "75%   16000305.000000 2053013563424899840.000000      358.570000   \n",
       "max   60500010.000000 2175419595093967616.000000     2574.070000   \n",
       "\n",
       "               user_id  \n",
       "count  42448764.000000  \n",
       "mean  533537147.508169  \n",
       "std    18523738.174654  \n",
       "min    33869381.000000  \n",
       "25%   515904318.000000  \n",
       "50%   529696452.000000  \n",
       "75%   551578838.250000  \n",
       "max   566280860.000000  "
      ]
     },
     "execution_count": 4,
     "metadata": {},
     "output_type": "execute_result"
    }
   ],
   "source": [
    "df_oct.describe()"
   ]
  },
  {
   "cell_type": "code",
   "execution_count": 6,
   "metadata": {},
   "outputs": [
    {
     "data": {
      "text/plain": [
       "event_time        object\n",
       "event_type        object\n",
       "product_id         int64\n",
       "category_id        int64\n",
       "category_code     object\n",
       "brand             object\n",
       "price            float64\n",
       "user_id            int64\n",
       "user_session      object\n",
       "dtype: object"
      ]
     },
     "execution_count": 6,
     "metadata": {},
     "output_type": "execute_result"
    }
   ],
   "source": [
    "df_oct.dtypes"
   ]
  },
  {
   "cell_type": "markdown",
   "metadata": {},
   "source": [
    "## [RQ1] A marketing funnel describes your customer’s journey with your e-commerce. It may involve different stages, beginning when someone learns about your business, when he/she visits your website for the first time, to the purchasing stage, marketing funnels map routes to conversion and beyond. Suppose your funnel involves just three simple steps: 1) view, 2) cart, 3) purchase. Which is the rate of complete funnels? "
   ]
  },
  {
   "cell_type": "code",
   "execution_count": 5,
   "metadata": {},
   "outputs": [
    {
     "data": {
      "text/plain": [
       "array(['view', 'purchase', 'cart'], dtype=object)"
      ]
     },
     "execution_count": 5,
     "metadata": {},
     "output_type": "execute_result"
    }
   ],
   "source": [
    "df_oct.event_type.unique()"
   ]
  },
  {
   "cell_type": "code",
   "execution_count": 8,
   "metadata": {},
   "outputs": [
    {
     "name": "stdout",
     "output_type": "stream",
     "text": [
      "Rate of complete funnels in October = 0.015003799185073729\n"
     ]
    }
   ],
   "source": [
    "#Here I group all event_time values by product_id and user_id \n",
    "table1_oct = pd.pivot_table(df_oct, values='event_time', index=['product_id','user_id'],\n",
    "                    columns=['event_type'], aggfunc=len)\n",
    "a=table1_oct.dropna()\n",
    "complete_funnels_oct = a.min(axis=1).sum()\n",
    "#I drop rows where at least one of them wasn't made, count sum and divide by total length\n",
    "print('Rate of complete funnels in October = {}'.format(complete_funnels_oct/len(table1_oct)))"
   ]
  },
  {
   "cell_type": "code",
   "execution_count": 9,
   "metadata": {},
   "outputs": [
    {
     "name": "stdout",
     "output_type": "stream",
     "text": [
      "Rate of complete funnels in November = 0.03352365727446334\n"
     ]
    }
   ],
   "source": [
    "#Same operations held for November dataset\n",
    "table1_nov = pd.pivot_table(df_nov, values='event_time', index=['product_id','user_id'],\n",
    "                    columns=['event_type'], aggfunc=len)\n",
    "a=table1_nov.dropna()\n",
    "complete_funnels_nov = a.min(axis=1).sum()\n",
    "\n",
    "print('Rate of complete funnels in November = {}'.format(complete_funnels_nov/len(table1_oct)))"
   ]
  },
  {
   "cell_type": "markdown",
   "metadata": {},
   "source": [
    "### What’s the operation users repeat more on average within a session? Produce a plot that shows the average number of times users perform each operation (view/removefromchart etc etc)."
   ]
  },
  {
   "cell_type": "code",
   "execution_count": 46,
   "metadata": {
    "scrolled": true
   },
   "outputs": [
    {
     "data": {
      "text/plain": [
       "[4.412088066056358, 1.1799494885316728, 1.616679200903163]"
      ]
     },
     "execution_count": 46,
     "metadata": {},
     "output_type": "execute_result"
    }
   ],
   "source": [
    "#Here I grouped by session and took all average numbers of events in event_type\n",
    "mean_october=[]\n",
    "for i in df_oct.event_type.unique():\n",
    "    mean_october.append(df_oct[df_oct.event_type == i].groupby(['user_session']).event_type.count())\n",
    "for i in range(len(mean_october)):\n",
    "    mean_october[i]=mean_october[i].mean()\n",
    "mean_october"
   ]
  },
  {
   "cell_type": "code",
   "execution_count": 51,
   "metadata": {
    "scrolled": true
   },
   "outputs": [
    {
     "name": "stdout",
     "output_type": "stream",
     "text": [
      "The operation users repeat more on average within a session in October:  view\n"
     ]
    },
    {
     "data": {
      "image/png": "[encoded data removed]",
      "text/plain": [
       "<Figure size 432x288 with 1 Axes>"
      ]
     },
     "metadata": {
      "needs_background": "light"
     },
     "output_type": "display_data"
    }
   ],
   "source": [
    "#and then plot a bar, and took tha name of event with highest number\n",
    "plt.bar(df_oct.event_type.unique(),mean_october);\n",
    "print('The operation users repeat more on average within a session in October: ', df_oct.event_type.unique()[0])"
   ]
  },
  {
   "cell_type": "code",
   "execution_count": 52,
   "metadata": {},
   "outputs": [
    {
     "name": "stdout",
     "output_type": "stream",
     "text": [
      "The operation users repeat more on average within a session in November:  view\n"
     ]
    },
    {
     "data": {
      "image/png": "[encoded data removed]",
      "text/plain": [
       "<Figure size 432x288 with 1 Axes>"
      ]
     },
     "metadata": {
      "needs_background": "light"
     },
     "output_type": "display_data"
    }
   ],
   "source": [
    "#same for November\n",
    "mean_november=[]\n",
    "for i in df_nov.event_type.unique():\n",
    "    mean_november.append(df_oct[df_oct.event_type == i].groupby(['user_session']).event_type.count())\n",
    "for i in range(len(b)):\n",
    "    mean_november[i]=mean_november[i].mean()\n",
    "plt.bar(df_nov.event_type.unique(),mean_november);\n",
    "print('The operation users repeat more on average within a session in November: ', df_nov.event_type.unique()[0])"
   ]
  },
  {
   "cell_type": "markdown",
   "metadata": {},
   "source": [
    "### How many times, on average, a user views a product before adding it to the cart?"
   ]
  },
  {
   "cell_type": "code",
   "execution_count": null,
   "metadata": {
    "scrolled": true
   },
   "outputs": [],
   "source": [
    "#I made a pivot table of the times of first events that users made\n",
    "table_oct = pd.pivot_table(df_oct, values='event_time', index=['product_id','user_id'],\n",
    "                    columns=['event_type'], aggfunc=min)\n",
    "table_nov = pd.pivot_table(df_nov, values='event_time', index=['product_id','user_id'],\n",
    "                    columns=['event_type'], aggfunc=min)\n",
    "table_oct"
   ]
  },
  {
   "cell_type": "code",
   "execution_count": 52,
   "metadata": {},
   "outputs": [
    {
     "data": {
      "text/plain": [
       "0.021312849054150936"
      ]
     },
     "execution_count": 52,
     "metadata": {},
     "output_type": "execute_result"
    }
   ],
   "source": [
    "#and then counted probability of user to view a product before buying\n",
    "answer = len(table_oct[table_oct['view']<table_oct['cart']])/len(table_oct)\n",
    "answer"
   ]
  },
  {
   "cell_type": "markdown",
   "metadata": {},
   "source": [
    "### What’s the probability that products added once to the cart are effectively bought?"
   ]
  },
  {
   "cell_type": "code",
   "execution_count": 53,
   "metadata": {},
   "outputs": [
    {
     "data": {
      "text/plain": [
       "0.4929111834196227"
      ]
     },
     "execution_count": 53,
     "metadata": {},
     "output_type": "execute_result"
    }
   ],
   "source": [
    "# the same pivot from above, counting all rows with time of 'cart' before the 'purchase' and divide by total length\n",
    "answer = len(table_oct[table_oct['cart']<table_oct['purchase']])/len(table_oct['cart'].dropna())\n",
    "answer"
   ]
  },
  {
   "cell_type": "code",
   "execution_count": 62,
   "metadata": {},
   "outputs": [
    {
     "data": {
      "text/plain": [
       "0.3704014963453317"
      ]
     },
     "execution_count": 62,
     "metadata": {},
     "output_type": "execute_result"
    }
   ],
   "source": [
    "answer = len(table_nov[table_nov['cart']<table_nov['purchase']])/len(table_nov['cart'].dropna())\n",
    "answer"
   ]
  },
  {
   "cell_type": "markdown",
   "metadata": {},
   "source": [
    "## [RQ2] What are the categories of the most trending products overall? For each month visualize this information through a plot showing the number of sold products per category. "
   ]
  },
  {
   "cell_type": "code",
   "execution_count": 153,
   "metadata": {},
   "outputs": [],
   "source": [
    "import seaborn as sns\n",
    "#split category_code into 'category' and 'subcategory' columns\n",
    "df_oct[['category', 'subcategory']] = df_oct['category_code'].str.split('.', 1, expand=True)\n",
    "df_nov[['category', 'subcategory']] = df_nov['category_code'].str.split('.', 1, expand=True)\n",
    "#count number of purchases of products and sort in descending order\n",
    "group_purchase_by_cat_oct=df_oct[df_oct['event_type']=='purchase'].groupby(['product_id','category']).count()\n",
    "group_purchase_by_cat_nov=df_nov[df_nov['event_type']=='purchase'].groupby(['product_id','category']).count()"
   ]
  },
  {
   "cell_type": "code",
   "execution_count": 68,
   "metadata": {},
   "outputs": [
    {
     "data": {
      "text/plain": [
       "product_id  category   \n",
       "1004856     electronics    28944\n",
       "1004767     electronics    21806\n",
       "1004833     electronics    12697\n",
       "1005115     electronics    12543\n",
       "4804056     electronics    12381\n",
       "1004870     electronics    10615\n",
       "1002544     electronics    10549\n",
       "1004249     electronics     9090\n",
       "1004836     electronics     7691\n",
       "1005105     electronics     7293\n",
       "Name: user_id, dtype: int64"
      ]
     },
     "execution_count": 68,
     "metadata": {},
     "output_type": "execute_result"
    }
   ],
   "source": [
    "group_purchase_by_cat['user_id'].sort_values(ascending=False).head(10)\n",
    "#As you can see the category of most trending products is electronics"
   ]
  },
  {
   "cell_type": "code",
   "execution_count": 154,
   "metadata": {},
   "outputs": [
    {
     "name": "stderr",
     "output_type": "stream",
     "text": [
      "/home/dias/TTS/lib/python3.6/site-packages/seaborn/_decorators.py:43: FutureWarning: Pass the following variables as keyword args: x, y. From version 0.12, the only valid positional argument will be `data`, and passing other arguments without an explicit keyword will result in an error or misinterpretation.\n",
      "  FutureWarning\n"
     ]
    },
    {
     "data": {
      "text/plain": [
       "Text(0, 0.5, 'Number of purchases')"
      ]
     },
     "execution_count": 154,
     "metadata": {},
     "output_type": "execute_result"
    },
    {
     "data": {
      "image/png": "[encoded data removed]",
      "text/plain": [
       "<Figure size 1152x864 with 1 Axes>"
      ]
     },
     "metadata": {
      "needs_background": "light"
     },
     "output_type": "display_data"
    }
   ],
   "source": [
    "group_purchase_by_cat_oct=df_oct[df_oct['event_type']=='purchase'].groupby(['category'])['price'].count()\n",
    "sorted_group_purchase_by_cat_oct = group_purchase_by_cat_oct.dropna().sort_values(ascending=False)\n",
    "plt.figure(figsize =(16, 12)) \n",
    "index_category_oct = [str(i) for i in sorted_group_purchase_by_cat_oct.index]\n",
    "ax= sns.barplot(index_category_oct,sorted_group_purchase_by_cat_oct)\n",
    "for p in ax.patches:\n",
    "    ax.annotate(format(p.get_height(),',.0f'), (p.get_x() , p.get_height()),)\n",
    "plt.title('Total number of purchases by category in October')\n",
    "plt.xlabel('Category')\n",
    "plt.ylabel('Number of purchases')"
   ]
  },
  {
   "cell_type": "code",
   "execution_count": 155,
   "metadata": {},
   "outputs": [
    {
     "name": "stderr",
     "output_type": "stream",
     "text": [
      "/home/dias/TTS/lib/python3.6/site-packages/seaborn/_decorators.py:43: FutureWarning: Pass the following variables as keyword args: x, y. From version 0.12, the only valid positional argument will be `data`, and passing other arguments without an explicit keyword will result in an error or misinterpretation.\n",
      "  FutureWarning\n"
     ]
    },
    {
     "data": {
      "text/plain": [
       "Text(0, 0.5, 'Number of purchases')"
      ]
     },
     "execution_count": 155,
     "metadata": {},
     "output_type": "execute_result"
    },
    {
     "data": {
      "image/png": "[encoded data removed]",
      "text/plain": [
       "<Figure size 1152x864 with 1 Axes>"
      ]
     },
     "metadata": {
      "needs_background": "light"
     },
     "output_type": "display_data"
    }
   ],
   "source": [
    "group_purchase_by_cat_nov=df_nov[df_nov['event_type']=='purchase'].groupby(['category'])['price'].count()\n",
    "sorted_group_purchase_by_cat_nov = group_purchase_by_cat_nov.dropna().sort_values(ascending=False)\n",
    "plt.figure(figsize =(16, 12)) \n",
    "index_category_nov = [str(i) for i in sorted_group_purchase_by_cat_nov.index]\n",
    "ax= sns.barplot(index_category_oct,sorted_group_purchase_by_cat_nov)\n",
    "for p in ax.patches:\n",
    "    ax.annotate(format(p.get_height(),',.0f'), (p.get_x() , p.get_height()),)\n",
    "plt.title('Total number of purchases by category in November')\n",
    "plt.xlabel('Category')\n",
    "plt.ylabel('Number of purchases')"
   ]
  },
  {
   "cell_type": "markdown",
   "metadata": {},
   "source": [
    "### Plot the most visited subcategories."
   ]
  },
  {
   "cell_type": "code",
   "execution_count": 161,
   "metadata": {},
   "outputs": [
    {
     "name": "stderr",
     "output_type": "stream",
     "text": [
      "/home/dias/TTS/lib/python3.6/site-packages/seaborn/_decorators.py:43: FutureWarning: Pass the following variables as keyword args: x, y. From version 0.12, the only valid positional argument will be `data`, and passing other arguments without an explicit keyword will result in an error or misinterpretation.\n",
      "  FutureWarning\n"
     ]
    },
    {
     "data": {
      "text/plain": [
       "Text(0, 0.5, 'Number of views')"
      ]
     },
     "execution_count": 161,
     "metadata": {},
     "output_type": "execute_result"
    },
    {
     "data": {
      "image/png": "[encoded data removed]",
      "text/plain": [
       "<Figure size 1152x864 with 1 Axes>"
      ]
     },
     "metadata": {
      "needs_background": "light"
     },
     "output_type": "display_data"
    }
   ],
   "source": [
    "group_view_by_subcat_oct=df_oct[df_oct['event_type']=='view'].groupby(['subcategory'])['price'].count()\n",
    "sorted_group_view_by_subcat_oct = group_view_by_subcat_oct.dropna().sort_values(ascending=False)\n",
    "plt.figure(figsize =(16, 12)) \n",
    "index_category_oct = [str(i) for i in sorted_group_view_by_subcat_oct.index]\n",
    "ax= sns.barplot(index_category_oct[:10],sorted_group_view_by_subcat_oct[:10])\n",
    "for p in ax.patches:\n",
    "    ax.annotate(format(p.get_height(),',.0f'), (p.get_x() , p.get_height()),)\n",
    "plt.title('10 most visited subcategories in October')\n",
    "plt.xlabel('Subcategory')\n",
    "plt.ylabel('Number of views')"
   ]
  },
  {
   "cell_type": "code",
   "execution_count": 162,
   "metadata": {},
   "outputs": [
    {
     "name": "stderr",
     "output_type": "stream",
     "text": [
      "/home/dias/TTS/lib/python3.6/site-packages/seaborn/_decorators.py:43: FutureWarning: Pass the following variables as keyword args: x, y. From version 0.12, the only valid positional argument will be `data`, and passing other arguments without an explicit keyword will result in an error or misinterpretation.\n",
      "  FutureWarning\n"
     ]
    },
    {
     "data": {
      "text/plain": [
       "Text(0, 0.5, 'Number of views')"
      ]
     },
     "execution_count": 162,
     "metadata": {},
     "output_type": "execute_result"
    },
    {
     "data": {
      "image/png": "[encoded data removed]",
      "text/plain": [
       "<Figure size 1152x864 with 1 Axes>"
      ]
     },
     "metadata": {
      "needs_background": "light"
     },
     "output_type": "display_data"
    }
   ],
   "source": [
    "group_view_by_subcat_nov=df_nov[df_nov['event_type']=='view'].groupby(['subcategory'])['price'].count()\n",
    "sorted_group_view_by_subcat_nov = group_view_by_subcat_nov.dropna().sort_values(ascending=False)\n",
    "plt.figure(figsize =(16, 12)) \n",
    "index_category_nov = [str(i) for i in sorted_group_view_by_subcat_nov.index]\n",
    "ax= sns.barplot(index_category_nov[:10],sorted_group_view_by_subcat_nov[:10])\n",
    "for p in ax.patches:\n",
    "    ax.annotate(format(p.get_height(),',.0f'), (p.get_x() , p.get_height()),)\n",
    "plt.title('10 most visited subcategories in November')\n",
    "plt.xlabel('Subcategory')\n",
    "plt.ylabel('Number of views')"
   ]
  },
  {
   "cell_type": "markdown",
   "metadata": {},
   "source": [
    "### What are the 10 most sold products per category?"
   ]
  },
  {
   "cell_type": "code",
   "execution_count": 13,
   "metadata": {},
   "outputs": [
    {
     "name": "stdout",
     "output_type": "stream",
     "text": [
      "category    product_id\n",
      "appliances  3700926      1675.000000\n",
      "            3600661      1482.000000\n",
      "            3600163      1017.000000\n",
      "            3600666       877.000000\n",
      "            2900536       831.000000\n",
      "            3601405       768.000000\n",
      "            3601485       627.000000\n",
      "            2701657       566.000000\n",
      "            3601244       559.000000\n",
      "Name: purchase, dtype: float64\n",
      "category   product_id\n",
      "furniture  14701435     207.000000\n",
      "           17200570     200.000000\n",
      "           13201002     133.000000\n",
      "           17200651     130.000000\n",
      "           7101172       98.000000\n",
      "           7900440       94.000000\n",
      "           7100133       84.000000\n",
      "           14701260      77.000000\n",
      "           14701406      72.000000\n",
      "Name: purchase, dtype: float64\n",
      "category   product_id\n",
      "computers  1307310      1003.000000\n",
      "           1307073       864.000000\n",
      "           1307366       722.000000\n",
      "           1307067       651.000000\n",
      "           1306650       649.000000\n",
      "           1307074       416.000000\n",
      "           1307188       378.000000\n",
      "           1307187       356.000000\n",
      "           1306359       350.000000\n",
      "Name: purchase, dtype: float64\n",
      "category     product_id\n",
      "electronics  1004856      28944.000000\n",
      "             1004767      21806.000000\n",
      "             1004833      12697.000000\n",
      "             1005115      12543.000000\n",
      "             4804056      12381.000000\n",
      "             1004870      10615.000000\n",
      "             1002544      10549.000000\n",
      "             1004249       9090.000000\n",
      "             1004836       7691.000000\n",
      "Name: purchase, dtype: float64\n",
      "category  product_id\n",
      "apparel   28718083     72.000000\n",
      "          28715756     46.000000\n",
      "          28712682     45.000000\n",
      "          28715827     40.000000\n",
      "          28717034     39.000000\n",
      "          28715757     39.000000\n",
      "          28715829     38.000000\n",
      "          28703609     38.000000\n",
      "          28716983     38.000000\n",
      "Name: purchase, dtype: float64\n",
      "category      product_id\n",
      "construction  19200005     404.000000\n",
      "              4000169      272.000000\n",
      "              12300396     267.000000\n",
      "              30000048     181.000000\n",
      "              12400121     123.000000\n",
      "              4000170      116.000000\n",
      "              19200010     113.000000\n",
      "              12300394     113.000000\n",
      "              12300066     111.000000\n",
      "Name: purchase, dtype: float64\n",
      "category  product_id\n",
      "auto      6000094      785.000000\n",
      "          4700478      411.000000\n",
      "          5701128      382.000000\n",
      "          6000227      360.000000\n",
      "          5701166      304.000000\n",
      "          4700630      300.000000\n",
      "          4700589      235.000000\n",
      "          6000229      214.000000\n",
      "          6000004      206.000000\n",
      "Name: purchase, dtype: float64\n",
      "category  product_id\n",
      "kids      7004492      209.000000\n",
      "          7004508      127.000000\n",
      "          7002254      123.000000\n",
      "          12100045     106.000000\n",
      "          7005751      102.000000\n",
      "          7004509       82.000000\n",
      "          8900305       82.000000\n",
      "          7005059       76.000000\n",
      "          12100230      66.000000\n",
      "Name: purchase, dtype: float64\n",
      "category  product_id\n",
      "sport     12202301     62.000000\n",
      "          12201562     61.000000\n",
      "          26900073     50.000000\n",
      "          12200545     35.000000\n",
      "          26900059     33.000000\n",
      "          12202338     33.000000\n",
      "          12201563     33.000000\n",
      "          26900065     30.000000\n",
      "          27000036     28.000000\n",
      "Name: purchase, dtype: float64\n",
      "category     product_id\n",
      "accessories  18300155     63.000000\n",
      "             18300021     34.000000\n",
      "             52900016     31.000000\n",
      "             28300780     24.000000\n",
      "             49800017     23.000000\n",
      "             28300432     21.000000\n",
      "             18300595     17.000000\n",
      "             18300214     16.000000\n",
      "             28400774     16.000000\n",
      "Name: purchase, dtype: float64\n",
      "category  product_id\n",
      "medicine  25800005     106.000000\n",
      "          25800007      90.000000\n",
      "          25800003      45.000000\n",
      "          25800001      23.000000\n",
      "          25800002      11.000000\n",
      "          25800006      10.000000\n",
      "          25800019       6.000000\n",
      "          25800014       6.000000\n",
      "          25800004       5.000000\n",
      "Name: purchase, dtype: float64\n",
      "category    product_id\n",
      "stationery  12900125     9.000000\n",
      "            53400013     8.000000\n",
      "            12900132     7.000000\n",
      "            12901271     7.000000\n",
      "            12900360     5.000000\n",
      "            12900110     5.000000\n",
      "            12901426     5.000000\n",
      "            12900085     4.000000\n",
      "            12900181     4.000000\n",
      "Name: purchase, dtype: float64\n",
      "category      product_id\n",
      "country_yard  27600022     10.000000\n",
      "              27600080      8.000000\n",
      "              30500001      6.000000\n",
      "              30500003      5.000000\n",
      "              30500002      5.000000\n",
      "              27600165      4.000000\n",
      "              30500022      3.000000\n",
      "              27600394      2.000000\n",
      "              27600150      2.000000\n",
      "Name: purchase, dtype: float64\n"
     ]
    }
   ],
   "source": [
    "bf = df_oct['category'].unique()\n",
    "for i in bf:\n",
    "    try:\n",
    "        #make pivot table for each category, and sort values in descending order\n",
    "        table4 = pd.pivot_table(df_oct[df_oct['category']==i], values='event_time', index=['category','product_id'],\n",
    "                        columns=['event_type'], aggfunc=len)\n",
    "        print(table4['purchase'].dropna().sort_values(ascending =False)[:9])\n",
    "    except:\n",
    "        print('No purchases in {}'.format(i))"
   ]
  },
  {
   "cell_type": "code",
   "execution_count": 14,
   "metadata": {},
   "outputs": [
    {
     "name": "stdout",
     "output_type": "stream",
     "text": [
      "category    product_id\n",
      "appliances  3700926      1764.000000\n",
      "            3600661      1742.000000\n",
      "            3601405      1140.000000\n",
      "            3600666      1131.000000\n",
      "            2900958       903.000000\n",
      "            3700766       895.000000\n",
      "            3601603       895.000000\n",
      "            3600163       879.000000\n",
      "            2702277       675.000000\n",
      "Name: purchase, dtype: float64\n",
      "No purchases in nan\n",
      "category   product_id\n",
      "computers  1307310      1329.000000\n",
      "           1307545       879.000000\n",
      "           1307188       829.000000\n",
      "           1307073       740.000000\n",
      "           1307067       538.000000\n",
      "           1307076       500.000000\n",
      "           1307589       473.000000\n",
      "           1307004       390.000000\n",
      "           1307187       388.000000\n",
      "Name: purchase, dtype: float64\n",
      "category   product_id\n",
      "furniture  14701435     246.000000\n",
      "           17200570     143.000000\n",
      "           7100133      142.000000\n",
      "           17200651     126.000000\n",
      "           7901064      116.000000\n",
      "           14701260     115.000000\n",
      "           13201315      98.000000\n",
      "           43800006      93.000000\n",
      "           7101297       88.000000\n",
      "Name: purchase, dtype: float64\n",
      "category  product_id\n",
      "apparel   28720716     98.000000\n",
      "          54900013     89.000000\n",
      "          28716978     74.000000\n",
      "          54900004     74.000000\n",
      "          28719635     69.000000\n",
      "          28716666     65.000000\n",
      "          28716519     64.000000\n",
      "          28719606     64.000000\n",
      "          28719076     59.000000\n",
      "Name: purchase, dtype: float64\n",
      "category      product_id\n",
      "construction  19200005     337.000000\n",
      "              12300396     287.000000\n",
      "              4000169      265.000000\n",
      "              4000170      240.000000\n",
      "              30000048     181.000000\n",
      "              12300066     156.000000\n",
      "              12400121     133.000000\n",
      "              12300394     116.000000\n",
      "              4000197       93.000000\n",
      "Name: purchase, dtype: float64\n",
      "category  product_id\n",
      "auto      6000094      1100.000000\n",
      "          6000227       489.000000\n",
      "          4700478       483.000000\n",
      "          5701166       274.000000\n",
      "          6000004       274.000000\n",
      "          6000229       253.000000\n",
      "          5701128       246.000000\n",
      "          5701002       244.000000\n",
      "          6000157       211.000000\n",
      "Name: purchase, dtype: float64\n",
      "category     product_id\n",
      "accessories  18300021     53.000000\n",
      "             28401112     48.000000\n",
      "             18300155     42.000000\n",
      "             18300460     38.000000\n",
      "             28400759     36.000000\n",
      "             18300141     27.000000\n",
      "             28400912     24.000000\n",
      "             18300214     23.000000\n",
      "             28401075     23.000000\n",
      "Name: purchase, dtype: float64\n",
      "category  product_id\n",
      "kids      7004492      226.000000\n",
      "          7002254      144.000000\n",
      "          45300114     119.000000\n",
      "          8902633      118.000000\n",
      "          7006453      105.000000\n",
      "          7004508      105.000000\n",
      "          9002789       95.000000\n",
      "          7004509       82.000000\n",
      "          7005237       67.000000\n",
      "Name: purchase, dtype: float64\n",
      "category  product_id\n",
      "sport     26900021     144.000000\n",
      "          26900009      43.000000\n",
      "          26900065      41.000000\n",
      "          12202301      37.000000\n",
      "          27000043      32.000000\n",
      "          12201562      32.000000\n",
      "          12201949      27.000000\n",
      "          26900095      27.000000\n",
      "          26900077      25.000000\n",
      "Name: purchase, dtype: float64\n",
      "category  product_id\n",
      "medicine  25800007     106.000000\n",
      "          25800005      87.000000\n",
      "          25800003      37.000000\n",
      "          25800016      32.000000\n",
      "          25800002      20.000000\n",
      "          25800001      16.000000\n",
      "          25800020      12.000000\n",
      "          25800004       8.000000\n",
      "          25800006       8.000000\n",
      "Name: purchase, dtype: float64\n",
      "category      product_id\n",
      "country_yard  27600080     16.000000\n",
      "              27600022      7.000000\n",
      "              30500002      5.000000\n",
      "              30500003      4.000000\n",
      "              33700006      4.000000\n",
      "              30500022      3.000000\n",
      "              27600082      3.000000\n",
      "              27600214      2.000000\n",
      "              30500023      2.000000\n",
      "Name: purchase, dtype: float64\n",
      "category    product_id\n",
      "stationery  53400013     18.000000\n",
      "            53400004      8.000000\n",
      "            12900110      8.000000\n",
      "            12900363      7.000000\n",
      "            12900142      7.000000\n",
      "            12901426      6.000000\n",
      "            12900362      5.000000\n",
      "            53400007      5.000000\n",
      "            12901271      5.000000\n",
      "Name: purchase, dtype: float64\n"
     ]
    }
   ],
   "source": [
    "bf = np.delete(df_nov['category'].unique()\n",
    "for i in bf:\n",
    "    try:\n",
    "        table4_nov = pd.pivot_table(df_nov[df_nov['category']==i], values='event_time', index=['category','product_id'],\n",
    "                        columns=['event_type'], aggfunc=len)\n",
    "        print(table4['purchase'].dropna().sort_values(ascending =False)[:9])\n",
    "    except:\n",
    "        print('No purchases in {}'.format(i))"
   ]
  },
  {
   "cell_type": "markdown",
   "metadata": {},
   "source": [
    "## [RQ4] How much does each brand earn per month? "
   ]
  },
  {
   "cell_type": "code",
   "execution_count": 5,
   "metadata": {},
   "outputs": [
    {
     "data": {
      "text/html": [
       "<div>\n",
       "<style scoped>\n",
       "    .dataframe tbody tr th:only-of-type {\n",
       "        vertical-align: middle;\n",
       "    }\n",
       "\n",
       "    .dataframe tbody tr th {\n",
       "        vertical-align: top;\n",
       "    }\n",
       "\n",
       "    .dataframe thead th {\n",
       "        text-align: right;\n",
       "    }\n",
       "</style>\n",
       "<table border=\"1\" class=\"dataframe\">\n",
       "  <thead>\n",
       "    <tr style=\"text-align: right;\">\n",
       "      <th>event_type</th>\n",
       "      <th>cart</th>\n",
       "      <th>purchase</th>\n",
       "      <th>view</th>\n",
       "    </tr>\n",
       "    <tr>\n",
       "      <th>brand</th>\n",
       "      <th></th>\n",
       "      <th></th>\n",
       "      <th></th>\n",
       "    </tr>\n",
       "  </thead>\n",
       "  <tbody>\n",
       "    <tr>\n",
       "      <th>a-case</th>\n",
       "      <td>113.78</td>\n",
       "      <td>275.26</td>\n",
       "      <td>42595.43</td>\n",
       "    </tr>\n",
       "    <tr>\n",
       "      <th>a-derma</th>\n",
       "      <td>NaN</td>\n",
       "      <td>12.36</td>\n",
       "      <td>3911.75</td>\n",
       "    </tr>\n",
       "    <tr>\n",
       "      <th>a-elita</th>\n",
       "      <td>NaN</td>\n",
       "      <td>NaN</td>\n",
       "      <td>8120.70</td>\n",
       "    </tr>\n",
       "    <tr>\n",
       "      <th>a-mega</th>\n",
       "      <td>NaN</td>\n",
       "      <td>1031.47</td>\n",
       "      <td>50477.36</td>\n",
       "    </tr>\n",
       "    <tr>\n",
       "      <th>aardwolf</th>\n",
       "      <td>NaN</td>\n",
       "      <td>NaN</td>\n",
       "      <td>3240.06</td>\n",
       "    </tr>\n",
       "    <tr>\n",
       "      <th>...</th>\n",
       "      <td>...</td>\n",
       "      <td>...</td>\n",
       "      <td>...</td>\n",
       "    </tr>\n",
       "    <tr>\n",
       "      <th>zte</th>\n",
       "      <td>15856.50</td>\n",
       "      <td>13623.87</td>\n",
       "      <td>908225.29</td>\n",
       "    </tr>\n",
       "    <tr>\n",
       "      <th>zubr</th>\n",
       "      <td>NaN</td>\n",
       "      <td>659.05</td>\n",
       "      <td>197828.04</td>\n",
       "    </tr>\n",
       "    <tr>\n",
       "      <th>zuru</th>\n",
       "      <td>NaN</td>\n",
       "      <td>25.68</td>\n",
       "      <td>998.44</td>\n",
       "    </tr>\n",
       "    <tr>\n",
       "      <th>zvezda</th>\n",
       "      <td>NaN</td>\n",
       "      <td>NaN</td>\n",
       "      <td>1066.25</td>\n",
       "    </tr>\n",
       "    <tr>\n",
       "      <th>zyxel</th>\n",
       "      <td>NaN</td>\n",
       "      <td>NaN</td>\n",
       "      <td>60162.16</td>\n",
       "    </tr>\n",
       "  </tbody>\n",
       "</table>\n",
       "<p>3444 rows × 3 columns</p>\n",
       "</div>"
      ],
      "text/plain": [
       "event_type      cart  purchase       view\n",
       "brand                                    \n",
       "a-case        113.78    275.26   42595.43\n",
       "a-derma          NaN     12.36    3911.75\n",
       "a-elita          NaN       NaN    8120.70\n",
       "a-mega           NaN   1031.47   50477.36\n",
       "aardwolf         NaN       NaN    3240.06\n",
       "...              ...       ...        ...\n",
       "zte         15856.50  13623.87  908225.29\n",
       "zubr             NaN    659.05  197828.04\n",
       "zuru             NaN     25.68     998.44\n",
       "zvezda           NaN       NaN    1066.25\n",
       "zyxel            NaN       NaN   60162.16\n",
       "\n",
       "[3444 rows x 3 columns]"
      ]
     },
     "execution_count": 5,
     "metadata": {},
     "output_type": "execute_result"
    }
   ],
   "source": [
    "#made a pivot table to sum the selling price per each brand\n",
    "brand_sum_oct = pd.pivot_table(df_oct, values='price', index=['brand'],\n",
    "                    columns=['event_type'], aggfunc=sum)\n",
    "brand_sum_oct"
   ]
  },
  {
   "cell_type": "code",
   "execution_count": 6,
   "metadata": {},
   "outputs": [
    {
     "data": {
      "text/html": [
       "<div>\n",
       "<style scoped>\n",
       "    .dataframe tbody tr th:only-of-type {\n",
       "        vertical-align: middle;\n",
       "    }\n",
       "\n",
       "    .dataframe tbody tr th {\n",
       "        vertical-align: top;\n",
       "    }\n",
       "\n",
       "    .dataframe thead th {\n",
       "        text-align: right;\n",
       "    }\n",
       "</style>\n",
       "<table border=\"1\" class=\"dataframe\">\n",
       "  <thead>\n",
       "    <tr style=\"text-align: right;\">\n",
       "      <th>event_type</th>\n",
       "      <th>cart</th>\n",
       "      <th>purchase</th>\n",
       "      <th>view</th>\n",
       "    </tr>\n",
       "    <tr>\n",
       "      <th>brand</th>\n",
       "      <th></th>\n",
       "      <th></th>\n",
       "      <th></th>\n",
       "    </tr>\n",
       "  </thead>\n",
       "  <tbody>\n",
       "    <tr>\n",
       "      <th>a-case</th>\n",
       "      <td>2737.70</td>\n",
       "      <td>808.32</td>\n",
       "      <td>190290.42</td>\n",
       "    </tr>\n",
       "    <tr>\n",
       "      <th>a-derma</th>\n",
       "      <td>352.14</td>\n",
       "      <td>NaN</td>\n",
       "      <td>5861.50</td>\n",
       "    </tr>\n",
       "    <tr>\n",
       "      <th>a-elita</th>\n",
       "      <td>262.29</td>\n",
       "      <td>8.49</td>\n",
       "      <td>15080.47</td>\n",
       "    </tr>\n",
       "    <tr>\n",
       "      <th>a-mega</th>\n",
       "      <td>3019.41</td>\n",
       "      <td>908.68</td>\n",
       "      <td>61215.92</td>\n",
       "    </tr>\n",
       "    <tr>\n",
       "      <th>aardwolf</th>\n",
       "      <td>437.64</td>\n",
       "      <td>219.10</td>\n",
       "      <td>16647.40</td>\n",
       "    </tr>\n",
       "    <tr>\n",
       "      <th>...</th>\n",
       "      <td>...</td>\n",
       "      <td>...</td>\n",
       "      <td>...</td>\n",
       "    </tr>\n",
       "    <tr>\n",
       "      <th>zwerg</th>\n",
       "      <td>NaN</td>\n",
       "      <td>NaN</td>\n",
       "      <td>529.94</td>\n",
       "    </tr>\n",
       "    <tr>\n",
       "      <th>zwilling</th>\n",
       "      <td>NaN</td>\n",
       "      <td>NaN</td>\n",
       "      <td>22381.98</td>\n",
       "    </tr>\n",
       "    <tr>\n",
       "      <th>zwillingjahenckels</th>\n",
       "      <td>3400.89</td>\n",
       "      <td>NaN</td>\n",
       "      <td>1007443.33</td>\n",
       "    </tr>\n",
       "    <tr>\n",
       "      <th>zx</th>\n",
       "      <td>NaN</td>\n",
       "      <td>NaN</td>\n",
       "      <td>547.11</td>\n",
       "    </tr>\n",
       "    <tr>\n",
       "      <th>zyxel</th>\n",
       "      <td>NaN</td>\n",
       "      <td>NaN</td>\n",
       "      <td>112470.01</td>\n",
       "    </tr>\n",
       "  </tbody>\n",
       "</table>\n",
       "<p>4200 rows × 3 columns</p>\n",
       "</div>"
      ],
      "text/plain": [
       "event_type             cart  purchase        view\n",
       "brand                                            \n",
       "a-case              2737.70    808.32   190290.42\n",
       "a-derma              352.14       NaN     5861.50\n",
       "a-elita              262.29      8.49    15080.47\n",
       "a-mega              3019.41    908.68    61215.92\n",
       "aardwolf             437.64    219.10    16647.40\n",
       "...                     ...       ...         ...\n",
       "zwerg                   NaN       NaN      529.94\n",
       "zwilling                NaN       NaN    22381.98\n",
       "zwillingjahenckels  3400.89       NaN  1007443.33\n",
       "zx                      NaN       NaN      547.11\n",
       "zyxel                   NaN       NaN   112470.01\n",
       "\n",
       "[4200 rows x 3 columns]"
      ]
     },
     "execution_count": 6,
     "metadata": {},
     "output_type": "execute_result"
    }
   ],
   "source": [
    "brand_sum_nov = pd.pivot_table(df_nov, values='price', index=['brand'],\n",
    "\n",
    "                    columns=['event_type'], aggfunc=sum)\n",
    "brand_sum_nov"
   ]
  },
  {
   "cell_type": "code",
   "execution_count": 7,
   "metadata": {},
   "outputs": [
    {
     "data": {
      "text/plain": [
       "brand\n",
       "apple      1.112093e+08\n",
       "samsung    4.640753e+07\n",
       "xiaomi     9.194033e+06\n",
       "huawei     4.883422e+06\n",
       "acer       3.576720e+06\n",
       "               ...     \n",
       "zoops               NaN\n",
       "zorg                NaN\n",
       "zpao                NaN\n",
       "zvezda              NaN\n",
       "zyxel               NaN\n",
       "Name: purchase, Length: 3444, dtype: float64"
      ]
     },
     "execution_count": 7,
     "metadata": {},
     "output_type": "execute_result"
    }
   ],
   "source": [
    "#How much does each brand earn per month?\n",
    "brand_revenue_October = brand_sum_oct['purchase'].sort_values(ascending=False)\n",
    "brand_revenue_October"
   ]
  },
  {
   "cell_type": "code",
   "execution_count": 8,
   "metadata": {},
   "outputs": [
    {
     "data": {
      "text/plain": [
       "brand\n",
       "apple                 1.275125e+08\n",
       "samsung               5.486988e+07\n",
       "xiaomi                1.125987e+07\n",
       "lg                    5.239019e+06\n",
       "huawei                4.780682e+06\n",
       "                          ...     \n",
       "zwerg                          NaN\n",
       "zwilling                       NaN\n",
       "zwillingjahenckels             NaN\n",
       "zx                             NaN\n",
       "zyxel                          NaN\n",
       "Name: purchase, Length: 4200, dtype: float64"
      ]
     },
     "execution_count": 8,
     "metadata": {},
     "output_type": "execute_result"
    }
   ],
   "source": [
    "brand_revenue_November= brand_sum_nov['purchase'].sort_values(ascending=False)\n",
    "brand_revenue_November"
   ]
  },
  {
   "cell_type": "markdown",
   "metadata": {},
   "source": [
    "### Write a function that given the name of a brand in input returns, for each month, its profit."
   ]
  },
  {
   "cell_type": "code",
   "execution_count": 9,
   "metadata": {},
   "outputs": [],
   "source": [
    "# Function that given the name of a brand in input returns, for each month, its profit. \n",
    "def profit_of_brand(brand_name,month):\n",
    "    return month['purchase'][brand_name]\n",
    "\n",
    "def profit_of_brand_for_each_month(brand_name,list_of_months):\n",
    "    return [i['purchase'][brand_name] for i  in list_of_months]"
   ]
  },
  {
   "cell_type": "code",
   "execution_count": 10,
   "metadata": {},
   "outputs": [
    {
     "data": {
      "text/plain": [
       "4883421.740000027"
      ]
     },
     "execution_count": 10,
     "metadata": {},
     "output_type": "execute_result"
    }
   ],
   "source": [
    "profit_of_brand('huawei',brand_sum_oct)"
   ]
  },
  {
   "cell_type": "markdown",
   "metadata": {},
   "source": [
    "### Using the function you just created, find the top 3 brands that have suffered the biggest losses in earnings between one month and the next, specifing bothe the loss percentage and the 2 months (e.g., brand_1 lost 20% between march and april)."
   ]
  },
  {
   "cell_type": "code",
   "execution_count": 15,
   "metadata": {},
   "outputs": [
    {
     "data": {
      "text/html": [
       "<div>\n",
       "<style scoped>\n",
       "    .dataframe tbody tr th:only-of-type {\n",
       "        vertical-align: middle;\n",
       "    }\n",
       "\n",
       "    .dataframe tbody tr th {\n",
       "        vertical-align: top;\n",
       "    }\n",
       "\n",
       "    .dataframe thead th {\n",
       "        text-align: right;\n",
       "    }\n",
       "</style>\n",
       "<table border=\"1\" class=\"dataframe\">\n",
       "  <thead>\n",
       "    <tr style=\"text-align: right;\">\n",
       "      <th></th>\n",
       "      <th>0</th>\n",
       "      <th>1_x</th>\n",
       "      <th>1_y</th>\n",
       "    </tr>\n",
       "  </thead>\n",
       "  <tbody>\n",
       "    <tr>\n",
       "      <th>0</th>\n",
       "      <td>shiseido</td>\n",
       "      <td>2495.110000</td>\n",
       "      <td>2978.680000</td>\n",
       "    </tr>\n",
       "    <tr>\n",
       "      <th>1</th>\n",
       "      <td>aqua</td>\n",
       "      <td>6336.630000</td>\n",
       "      <td>7506.970000</td>\n",
       "    </tr>\n",
       "    <tr>\n",
       "      <th>2</th>\n",
       "      <td>lenovo</td>\n",
       "      <td>1752638.530000</td>\n",
       "      <td>2698106.300000</td>\n",
       "    </tr>\n",
       "    <tr>\n",
       "      <th>3</th>\n",
       "      <td>apple</td>\n",
       "      <td>111209268.820012</td>\n",
       "      <td>127512524.879992</td>\n",
       "    </tr>\n",
       "    <tr>\n",
       "      <th>4</th>\n",
       "      <td>pulser</td>\n",
       "      <td>297562.530000</td>\n",
       "      <td>397390.930000</td>\n",
       "    </tr>\n",
       "  </tbody>\n",
       "</table>\n",
       "</div>"
      ],
      "text/plain": [
       "          0              1_x              1_y\n",
       "0  shiseido      2495.110000      2978.680000\n",
       "1      aqua      6336.630000      7506.970000\n",
       "2    lenovo   1752638.530000   2698106.300000\n",
       "3     apple 111209268.820012 127512524.879992\n",
       "4    pulser    297562.530000    397390.930000"
      ]
     },
     "execution_count": 15,
     "metadata": {},
     "output_type": "execute_result"
    }
   ],
   "source": [
    "unique_brands_oct = df_oct['brand'].unique()\n",
    "unique_brands_oct=np.delete(unique_brands_oct,2)\n",
    "a=[]\n",
    "for i in unique_brands_oct:\n",
    "    m=[]\n",
    "    m.append(i)\n",
    "    m.append(profit_of_brand(i,brand_sum_oct))\n",
    "    a.append(m)\n",
    "df_a= pd.DataFrame(a)\n",
    "\n",
    "unique_brands_nov = df_nov['brand'].unique()\n",
    "unique_brands_nov=np.delete(unique_brands_nov,8)\n",
    "b=[]\n",
    "for i in unique_brands_nov:\n",
    "    m=[]\n",
    "    m.append(i)\n",
    "    m.append(profit_of_brand(i,brand_sum_nov))\n",
    "    b.append(m)\n",
    "df_b= pd.DataFrame(b)\n",
    "\n",
    "df_diff_2month = pd.merge(df_a, df_b, on=0, how='outer')\n",
    "df_diff_2month.head()"
   ]
  },
  {
   "cell_type": "code",
   "execution_count": 16,
   "metadata": {},
   "outputs": [
    {
     "data": {
      "text/html": [
       "<div>\n",
       "<style scoped>\n",
       "    .dataframe tbody tr th:only-of-type {\n",
       "        vertical-align: middle;\n",
       "    }\n",
       "\n",
       "    .dataframe tbody tr th {\n",
       "        vertical-align: top;\n",
       "    }\n",
       "\n",
       "    .dataframe thead th {\n",
       "        text-align: right;\n",
       "    }\n",
       "</style>\n",
       "<table border=\"1\" class=\"dataframe\">\n",
       "  <thead>\n",
       "    <tr style=\"text-align: right;\">\n",
       "      <th></th>\n",
       "      <th>0</th>\n",
       "      <th>1_x</th>\n",
       "      <th>1_y</th>\n",
       "      <th>loss</th>\n",
       "    </tr>\n",
       "  </thead>\n",
       "  <tbody>\n",
       "    <tr>\n",
       "      <th>30</th>\n",
       "      <td>acer</td>\n",
       "      <td>3576719.520000</td>\n",
       "      <td>3347306.530000</td>\n",
       "      <td>-229412.990000</td>\n",
       "    </tr>\n",
       "    <tr>\n",
       "      <th>422</th>\n",
       "      <td>peda</td>\n",
       "      <td>219342.370000</td>\n",
       "      <td>48278.940000</td>\n",
       "      <td>-171063.430000</td>\n",
       "    </tr>\n",
       "    <tr>\n",
       "      <th>543</th>\n",
       "      <td>omabelle</td>\n",
       "      <td>347730.870000</td>\n",
       "      <td>201897.130000</td>\n",
       "      <td>-145833.740000</td>\n",
       "    </tr>\n",
       "    <tr>\n",
       "      <th>146</th>\n",
       "      <td>hubert</td>\n",
       "      <td>219706.360000</td>\n",
       "      <td>98882.010000</td>\n",
       "      <td>-120824.350000</td>\n",
       "    </tr>\n",
       "    <tr>\n",
       "      <th>8</th>\n",
       "      <td>huawei</td>\n",
       "      <td>4883421.740000</td>\n",
       "      <td>4780682.350000</td>\n",
       "      <td>-102739.390000</td>\n",
       "    </tr>\n",
       "    <tr>\n",
       "      <th>...</th>\n",
       "      <td>...</td>\n",
       "      <td>...</td>\n",
       "      <td>...</td>\n",
       "      <td>...</td>\n",
       "    </tr>\n",
       "    <tr>\n",
       "      <th>32</th>\n",
       "      <td>sony</td>\n",
       "      <td>2478196.680000</td>\n",
       "      <td>3862886.300000</td>\n",
       "      <td>1384689.620000</td>\n",
       "    </tr>\n",
       "    <tr>\n",
       "      <th>39</th>\n",
       "      <td>lg</td>\n",
       "      <td>3387887.960000</td>\n",
       "      <td>5239018.760000</td>\n",
       "      <td>1851130.800000</td>\n",
       "    </tr>\n",
       "    <tr>\n",
       "      <th>16</th>\n",
       "      <td>xiaomi</td>\n",
       "      <td>9194033.290000</td>\n",
       "      <td>11259865.959999</td>\n",
       "      <td>2065832.670000</td>\n",
       "    </tr>\n",
       "    <tr>\n",
       "      <th>10</th>\n",
       "      <td>samsung</td>\n",
       "      <td>46407532.610017</td>\n",
       "      <td>54869880.870011</td>\n",
       "      <td>8462348.259994</td>\n",
       "    </tr>\n",
       "    <tr>\n",
       "      <th>3</th>\n",
       "      <td>apple</td>\n",
       "      <td>111209268.820012</td>\n",
       "      <td>127512524.879992</td>\n",
       "      <td>16303256.059981</td>\n",
       "    </tr>\n",
       "  </tbody>\n",
       "</table>\n",
       "<p>1756 rows × 4 columns</p>\n",
       "</div>"
      ],
      "text/plain": [
       "            0              1_x              1_y            loss\n",
       "30       acer   3576719.520000   3347306.530000  -229412.990000\n",
       "422      peda    219342.370000     48278.940000  -171063.430000\n",
       "543  omabelle    347730.870000    201897.130000  -145833.740000\n",
       "146    hubert    219706.360000     98882.010000  -120824.350000\n",
       "8      huawei   4883421.740000   4780682.350000  -102739.390000\n",
       "..        ...              ...              ...             ...\n",
       "32       sony   2478196.680000   3862886.300000  1384689.620000\n",
       "39         lg   3387887.960000   5239018.760000  1851130.800000\n",
       "16     xiaomi   9194033.290000  11259865.959999  2065832.670000\n",
       "10    samsung  46407532.610017  54869880.870011  8462348.259994\n",
       "3       apple 111209268.820012 127512524.879992 16303256.059981\n",
       "\n",
       "[1756 rows x 4 columns]"
      ]
     },
     "execution_count": 16,
     "metadata": {},
     "output_type": "execute_result"
    }
   ],
   "source": [
    "df_diff_2month['loss']= df_diff_2month['1_y']-df_diff_2month['1_x']\n",
    "df_diff_2month.dropna().sort_values(by = 'loss',ascending=True)"
   ]
  },
  {
   "cell_type": "code",
   "execution_count": 35,
   "metadata": {},
   "outputs": [],
   "source": [
    "#make a function that calculates the percentage loss\n",
    "def estimate_loss(brand):\n",
    "    return 100 -df_diff_2month[df_diff_2month[0]==brand]['1_y'] *100 / df_diff_2month[df_diff_2month[0]==brand]['1_x']"
   ]
  },
  {
   "cell_type": "code",
   "execution_count": 36,
   "metadata": {},
   "outputs": [
    {
     "name": "stdout",
     "output_type": "stream",
     "text": [
      "30   6.414062\n",
      "dtype: float64\n",
      "422   77.989232\n",
      "dtype: float64\n",
      "543   41.938681\n",
      "dtype: float64\n"
     ]
    }
   ],
   "source": [
    "print(estimate_loss('acer'))\n",
    "print(estimate_loss('peda'))\n",
    "print(estimate_loss('omabelle'))"
   ]
  },
  {
   "cell_type": "markdown",
   "metadata": {},
   "source": [
    "### Is the average price of products of different brands significantly different? "
   ]
  },
  {
   "cell_type": "code",
   "execution_count": 63,
   "metadata": {
    "scrolled": true
   },
   "outputs": [
    {
     "data": {
      "text/html": [
       "<div>\n",
       "<style scoped>\n",
       "    .dataframe tbody tr th:only-of-type {\n",
       "        vertical-align: middle;\n",
       "    }\n",
       "\n",
       "    .dataframe tbody tr th {\n",
       "        vertical-align: top;\n",
       "    }\n",
       "\n",
       "    .dataframe thead th {\n",
       "        text-align: right;\n",
       "    }\n",
       "</style>\n",
       "<table border=\"1\" class=\"dataframe\">\n",
       "  <thead>\n",
       "    <tr style=\"text-align: right;\">\n",
       "      <th></th>\n",
       "      <th>event_type</th>\n",
       "      <th>cart</th>\n",
       "      <th>purchase</th>\n",
       "      <th>view</th>\n",
       "    </tr>\n",
       "    <tr>\n",
       "      <th>subcategory</th>\n",
       "      <th>brand</th>\n",
       "      <th></th>\n",
       "      <th></th>\n",
       "      <th></th>\n",
       "    </tr>\n",
       "  </thead>\n",
       "  <tbody>\n",
       "    <tr>\n",
       "      <th rowspan=\"10\" valign=\"top\">accessories.alarm</th>\n",
       "      <th>alligator</th>\n",
       "      <td>nan</td>\n",
       "      <td>38.610000</td>\n",
       "      <td>38.610000</td>\n",
       "    </tr>\n",
       "    <tr>\n",
       "      <th>cenmax</th>\n",
       "      <td>69.886786</td>\n",
       "      <td>69.861849</td>\n",
       "      <td>69.888815</td>\n",
       "    </tr>\n",
       "    <tr>\n",
       "      <th>centurion</th>\n",
       "      <td>88.973043</td>\n",
       "      <td>89.281605</td>\n",
       "      <td>87.392473</td>\n",
       "    </tr>\n",
       "    <tr>\n",
       "      <th>dowontec</th>\n",
       "      <td>nan</td>\n",
       "      <td>nan</td>\n",
       "      <td>411.850000</td>\n",
       "    </tr>\n",
       "    <tr>\n",
       "      <th>pandect</th>\n",
       "      <td>294.220000</td>\n",
       "      <td>294.220000</td>\n",
       "      <td>295.403259</td>\n",
       "    </tr>\n",
       "    <tr>\n",
       "      <th>pandora</th>\n",
       "      <td>190.840513</td>\n",
       "      <td>197.002402</td>\n",
       "      <td>347.468877</td>\n",
       "    </tr>\n",
       "    <tr>\n",
       "      <th>scher-khan</th>\n",
       "      <td>nan</td>\n",
       "      <td>72.070000</td>\n",
       "      <td>72.070000</td>\n",
       "    </tr>\n",
       "    <tr>\n",
       "      <th>starline</th>\n",
       "      <td>135.163306</td>\n",
       "      <td>140.513792</td>\n",
       "      <td>157.512180</td>\n",
       "    </tr>\n",
       "    <tr>\n",
       "      <th>tec</th>\n",
       "      <td>334.080000</td>\n",
       "      <td>251.967500</td>\n",
       "      <td>253.002167</td>\n",
       "    </tr>\n",
       "    <tr>\n",
       "      <th>tomahawk</th>\n",
       "      <td>nan</td>\n",
       "      <td>88.867470</td>\n",
       "      <td>82.218780</td>\n",
       "    </tr>\n",
       "    <tr>\n",
       "      <th>accessories.anti_freeze</th>\n",
       "      <th>wurth</th>\n",
       "      <td>nan</td>\n",
       "      <td>nan</td>\n",
       "      <td>20.028716</td>\n",
       "    </tr>\n",
       "    <tr>\n",
       "      <th rowspan=\"32\" valign=\"top\">accessories.compressor</th>\n",
       "      <th>alligator</th>\n",
       "      <td>nan</td>\n",
       "      <td>59.980000</td>\n",
       "      <td>59.980000</td>\n",
       "    </tr>\n",
       "    <tr>\n",
       "      <th>airline</th>\n",
       "      <td>nan</td>\n",
       "      <td>20.763333</td>\n",
       "      <td>30.388926</td>\n",
       "    </tr>\n",
       "    <tr>\n",
       "      <th>alca</th>\n",
       "      <td>nan</td>\n",
       "      <td>38.610000</td>\n",
       "      <td>41.279588</td>\n",
       "    </tr>\n",
       "    <tr>\n",
       "      <th>alteco</th>\n",
       "      <td>nan</td>\n",
       "      <td>123.040000</td>\n",
       "      <td>124.409820</td>\n",
       "    </tr>\n",
       "    <tr>\n",
       "      <th>autoprofi</th>\n",
       "      <td>nan</td>\n",
       "      <td>51.198889</td>\n",
       "      <td>47.151675</td>\n",
       "    </tr>\n",
       "    <tr>\n",
       "      <th>autovirazh</th>\n",
       "      <td>nan</td>\n",
       "      <td>nan</td>\n",
       "      <td>58.300769</td>\n",
       "    </tr>\n",
       "    <tr>\n",
       "      <th>avs</th>\n",
       "      <td>nan</td>\n",
       "      <td>nan</td>\n",
       "      <td>80.452651</td>\n",
       "    </tr>\n",
       "    <tr>\n",
       "      <th>berkut</th>\n",
       "      <td>nan</td>\n",
       "      <td>237.213333</td>\n",
       "      <td>241.746472</td>\n",
       "    </tr>\n",
       "    <tr>\n",
       "      <th>chameleon</th>\n",
       "      <td>nan</td>\n",
       "      <td>47.820000</td>\n",
       "      <td>47.798135</td>\n",
       "    </tr>\n",
       "    <tr>\n",
       "      <th>cityup</th>\n",
       "      <td>nan</td>\n",
       "      <td>47.362000</td>\n",
       "      <td>53.682048</td>\n",
       "    </tr>\n",
       "    <tr>\n",
       "      <th>denzel</th>\n",
       "      <td>nan</td>\n",
       "      <td>339.210943</td>\n",
       "      <td>310.085064</td>\n",
       "    </tr>\n",
       "    <tr>\n",
       "      <th>einhell</th>\n",
       "      <td>nan</td>\n",
       "      <td>nan</td>\n",
       "      <td>370.517468</td>\n",
       "    </tr>\n",
       "    <tr>\n",
       "      <th>fubag</th>\n",
       "      <td>nan</td>\n",
       "      <td>300.820000</td>\n",
       "      <td>413.937608</td>\n",
       "    </tr>\n",
       "    <tr>\n",
       "      <th>goodyear</th>\n",
       "      <td>nan</td>\n",
       "      <td>nan</td>\n",
       "      <td>71.380000</td>\n",
       "    </tr>\n",
       "    <tr>\n",
       "      <th>heyner</th>\n",
       "      <td>nan</td>\n",
       "      <td>46.330000</td>\n",
       "      <td>57.790331</td>\n",
       "    </tr>\n",
       "    <tr>\n",
       "      <th>hyundai</th>\n",
       "      <td>nan</td>\n",
       "      <td>342.840000</td>\n",
       "      <td>342.731396</td>\n",
       "    </tr>\n",
       "    <tr>\n",
       "      <th>kolner</th>\n",
       "      <td>nan</td>\n",
       "      <td>8.570000</td>\n",
       "      <td>9.803779</td>\n",
       "    </tr>\n",
       "    <tr>\n",
       "      <th>laston</th>\n",
       "      <td>nan</td>\n",
       "      <td>483.090000</td>\n",
       "      <td>378.787714</td>\n",
       "    </tr>\n",
       "    <tr>\n",
       "      <th>maakavto</th>\n",
       "      <td>nan</td>\n",
       "      <td>nan</td>\n",
       "      <td>46.370000</td>\n",
       "    </tr>\n",
       "    <tr>\n",
       "      <th>magnetta</th>\n",
       "      <td>nan</td>\n",
       "      <td>262.117778</td>\n",
       "      <td>292.380902</td>\n",
       "    </tr>\n",
       "    <tr>\n",
       "      <th>metabo</th>\n",
       "      <td>nan</td>\n",
       "      <td>nan</td>\n",
       "      <td>975.721941</td>\n",
       "    </tr>\n",
       "    <tr>\n",
       "      <th>newco</th>\n",
       "      <td>nan</td>\n",
       "      <td>nan</td>\n",
       "      <td>204.550000</td>\n",
       "    </tr>\n",
       "    <tr>\n",
       "      <th>novabright</th>\n",
       "      <td>nan</td>\n",
       "      <td>nan</td>\n",
       "      <td>49.050000</td>\n",
       "    </tr>\n",
       "    <tr>\n",
       "      <th>ryobi</th>\n",
       "      <td>nan</td>\n",
       "      <td>nan</td>\n",
       "      <td>102.940000</td>\n",
       "    </tr>\n",
       "    <tr>\n",
       "      <th>schneider</th>\n",
       "      <td>nan</td>\n",
       "      <td>nan</td>\n",
       "      <td>1135.113469</td>\n",
       "    </tr>\n",
       "    <tr>\n",
       "      <th>t-max</th>\n",
       "      <td>nan</td>\n",
       "      <td>nan</td>\n",
       "      <td>121.861862</td>\n",
       "    </tr>\n",
       "    <tr>\n",
       "      <th>tornado</th>\n",
       "      <td>nan</td>\n",
       "      <td>nan</td>\n",
       "      <td>36.067500</td>\n",
       "    </tr>\n",
       "    <tr>\n",
       "      <th>torso</th>\n",
       "      <td>nan</td>\n",
       "      <td>nan</td>\n",
       "      <td>27.410000</td>\n",
       "    </tr>\n",
       "    <tr>\n",
       "      <th>tpmaster</th>\n",
       "      <td>nan</td>\n",
       "      <td>20.590000</td>\n",
       "      <td>20.590000</td>\n",
       "    </tr>\n",
       "    <tr>\n",
       "      <th>voin</th>\n",
       "      <td>nan</td>\n",
       "      <td>nan</td>\n",
       "      <td>40.530000</td>\n",
       "    </tr>\n",
       "    <tr>\n",
       "      <th>xiaomi</th>\n",
       "      <td>nan</td>\n",
       "      <td>nan</td>\n",
       "      <td>79.800000</td>\n",
       "    </tr>\n",
       "    <tr>\n",
       "      <th>zubr</th>\n",
       "      <td>nan</td>\n",
       "      <td>nan</td>\n",
       "      <td>89.010000</td>\n",
       "    </tr>\n",
       "    <tr>\n",
       "      <th rowspan=\"6\" valign=\"top\">accessories.parktronic</th>\n",
       "      <th>cenmax</th>\n",
       "      <td>nan</td>\n",
       "      <td>33.440000</td>\n",
       "      <td>33.440000</td>\n",
       "    </tr>\n",
       "    <tr>\n",
       "      <th>erisson</th>\n",
       "      <td>nan</td>\n",
       "      <td>36.040000</td>\n",
       "      <td>36.040000</td>\n",
       "    </tr>\n",
       "    <tr>\n",
       "      <th>flashpoint</th>\n",
       "      <td>nan</td>\n",
       "      <td>nan</td>\n",
       "      <td>25.480000</td>\n",
       "    </tr>\n",
       "    <tr>\n",
       "      <th>incar</th>\n",
       "      <td>nan</td>\n",
       "      <td>nan</td>\n",
       "      <td>96.530000</td>\n",
       "    </tr>\n",
       "    <tr>\n",
       "      <th>parkmaster</th>\n",
       "      <td>nan</td>\n",
       "      <td>65.886829</td>\n",
       "      <td>73.171763</td>\n",
       "    </tr>\n",
       "    <tr>\n",
       "      <th>pioneer</th>\n",
       "      <td>nan</td>\n",
       "      <td>55.855000</td>\n",
       "      <td>53.324361</td>\n",
       "    </tr>\n",
       "    <tr>\n",
       "      <th>accessories.player</th>\n",
       "      <th>incar</th>\n",
       "      <td>nan</td>\n",
       "      <td>nan</td>\n",
       "      <td>470.657489</td>\n",
       "    </tr>\n",
       "  </tbody>\n",
       "</table>\n",
       "</div>"
      ],
      "text/plain": [
       "event_type                               cart   purchase        view\n",
       "subcategory             brand                                       \n",
       "accessories.alarm       alligator         nan  38.610000   38.610000\n",
       "                        cenmax      69.886786  69.861849   69.888815\n",
       "                        centurion   88.973043  89.281605   87.392473\n",
       "                        dowontec          nan        nan  411.850000\n",
       "                        pandect    294.220000 294.220000  295.403259\n",
       "                        pandora    190.840513 197.002402  347.468877\n",
       "                        scher-khan        nan  72.070000   72.070000\n",
       "                        starline   135.163306 140.513792  157.512180\n",
       "                        tec        334.080000 251.967500  253.002167\n",
       "                        tomahawk          nan  88.867470   82.218780\n",
       "accessories.anti_freeze wurth             nan        nan   20.028716\n",
       "accessories.compressor  alligator         nan  59.980000   59.980000\n",
       "                        airline           nan  20.763333   30.388926\n",
       "                        alca              nan  38.610000   41.279588\n",
       "                        alteco            nan 123.040000  124.409820\n",
       "                        autoprofi         nan  51.198889   47.151675\n",
       "                        autovirazh        nan        nan   58.300769\n",
       "                        avs               nan        nan   80.452651\n",
       "                        berkut            nan 237.213333  241.746472\n",
       "                        chameleon         nan  47.820000   47.798135\n",
       "                        cityup            nan  47.362000   53.682048\n",
       "                        denzel            nan 339.210943  310.085064\n",
       "                        einhell           nan        nan  370.517468\n",
       "                        fubag             nan 300.820000  413.937608\n",
       "                        goodyear          nan        nan   71.380000\n",
       "                        heyner            nan  46.330000   57.790331\n",
       "                        hyundai           nan 342.840000  342.731396\n",
       "                        kolner            nan   8.570000    9.803779\n",
       "                        laston            nan 483.090000  378.787714\n",
       "                        maakavto          nan        nan   46.370000\n",
       "                        magnetta          nan 262.117778  292.380902\n",
       "                        metabo            nan        nan  975.721941\n",
       "                        newco             nan        nan  204.550000\n",
       "                        novabright        nan        nan   49.050000\n",
       "                        ryobi             nan        nan  102.940000\n",
       "                        schneider         nan        nan 1135.113469\n",
       "                        t-max             nan        nan  121.861862\n",
       "                        tornado           nan        nan   36.067500\n",
       "                        torso             nan        nan   27.410000\n",
       "                        tpmaster          nan  20.590000   20.590000\n",
       "                        voin              nan        nan   40.530000\n",
       "                        xiaomi            nan        nan   79.800000\n",
       "                        zubr              nan        nan   89.010000\n",
       "accessories.parktronic  cenmax            nan  33.440000   33.440000\n",
       "                        erisson           nan  36.040000   36.040000\n",
       "                        flashpoint        nan        nan   25.480000\n",
       "                        incar             nan        nan   96.530000\n",
       "                        parkmaster        nan  65.886829   73.171763\n",
       "                        pioneer           nan  55.855000   53.324361\n",
       "accessories.player      incar             nan        nan  470.657489"
      ]
     },
     "execution_count": 63,
     "metadata": {},
     "output_type": "execute_result"
    }
   ],
   "source": [
    "#Is the average price of products of different brands significantly different? \n",
    "\n",
    "table3_oct = pd.pivot_table(df_oct, values='price', index=['subcategory','brand'],\n",
    "\n",
    "                    columns=['event_type'], aggfunc='mean')\n",
    "table3_oct[:50]\n"
   ]
  },
  {
   "cell_type": "code",
   "execution_count": 64,
   "metadata": {
    "scrolled": true
   },
   "outputs": [
    {
     "data": {
      "text/html": [
       "<div>\n",
       "<style scoped>\n",
       "    .dataframe tbody tr th:only-of-type {\n",
       "        vertical-align: middle;\n",
       "    }\n",
       "\n",
       "    .dataframe tbody tr th {\n",
       "        vertical-align: top;\n",
       "    }\n",
       "\n",
       "    .dataframe thead th {\n",
       "        text-align: right;\n",
       "    }\n",
       "</style>\n",
       "<table border=\"1\" class=\"dataframe\">\n",
       "  <thead>\n",
       "    <tr style=\"text-align: right;\">\n",
       "      <th></th>\n",
       "      <th>event_type</th>\n",
       "      <th>cart</th>\n",
       "      <th>purchase</th>\n",
       "      <th>view</th>\n",
       "    </tr>\n",
       "    <tr>\n",
       "      <th>subcategory</th>\n",
       "      <th>brand</th>\n",
       "      <th></th>\n",
       "      <th></th>\n",
       "      <th></th>\n",
       "    </tr>\n",
       "  </thead>\n",
       "  <tbody>\n",
       "    <tr>\n",
       "      <th rowspan=\"11\" valign=\"top\">accessories.alarm</th>\n",
       "      <th>alligator</th>\n",
       "      <td>38.610000</td>\n",
       "      <td>38.610000</td>\n",
       "      <td>38.610000</td>\n",
       "    </tr>\n",
       "    <tr>\n",
       "      <th>cenmax</th>\n",
       "      <td>70.852337</td>\n",
       "      <td>71.037381</td>\n",
       "      <td>70.600665</td>\n",
       "    </tr>\n",
       "    <tr>\n",
       "      <th>centurion</th>\n",
       "      <td>86.133833</td>\n",
       "      <td>86.303356</td>\n",
       "      <td>86.603843</td>\n",
       "    </tr>\n",
       "    <tr>\n",
       "      <th>davinci</th>\n",
       "      <td>36.040000</td>\n",
       "      <td>36.040000</td>\n",
       "      <td>36.040000</td>\n",
       "    </tr>\n",
       "    <tr>\n",
       "      <th>dowontec</th>\n",
       "      <td>411.850000</td>\n",
       "      <td>411.850000</td>\n",
       "      <td>411.850000</td>\n",
       "    </tr>\n",
       "    <tr>\n",
       "      <th>pandect</th>\n",
       "      <td>305.891304</td>\n",
       "      <td>310.677500</td>\n",
       "      <td>289.927597</td>\n",
       "    </tr>\n",
       "    <tr>\n",
       "      <th>pandora</th>\n",
       "      <td>223.389751</td>\n",
       "      <td>210.894976</td>\n",
       "      <td>333.781953</td>\n",
       "    </tr>\n",
       "    <tr>\n",
       "      <th>scher-khan</th>\n",
       "      <td>99.313889</td>\n",
       "      <td>94.380000</td>\n",
       "      <td>92.089276</td>\n",
       "    </tr>\n",
       "    <tr>\n",
       "      <th>starline</th>\n",
       "      <td>141.970053</td>\n",
       "      <td>141.935617</td>\n",
       "      <td>156.906691</td>\n",
       "    </tr>\n",
       "    <tr>\n",
       "      <th>tec</th>\n",
       "      <td>231.403333</td>\n",
       "      <td>nan</td>\n",
       "      <td>236.219174</td>\n",
       "    </tr>\n",
       "    <tr>\n",
       "      <th>tomahawk</th>\n",
       "      <td>97.999690</td>\n",
       "      <td>97.110980</td>\n",
       "      <td>98.267180</td>\n",
       "    </tr>\n",
       "    <tr>\n",
       "      <th rowspan=\"2\" valign=\"top\">accessories.anti_freeze</th>\n",
       "      <th>ravenol</th>\n",
       "      <td>24.713333</td>\n",
       "      <td>21.023333</td>\n",
       "      <td>20.126569</td>\n",
       "    </tr>\n",
       "    <tr>\n",
       "      <th>wurth</th>\n",
       "      <td>20.987857</td>\n",
       "      <td>25.560000</td>\n",
       "      <td>20.042813</td>\n",
       "    </tr>\n",
       "    <tr>\n",
       "      <th rowspan=\"37\" valign=\"top\">accessories.compressor</th>\n",
       "      <th>alligator</th>\n",
       "      <td>nan</td>\n",
       "      <td>nan</td>\n",
       "      <td>59.980000</td>\n",
       "    </tr>\n",
       "    <tr>\n",
       "      <th>airline</th>\n",
       "      <td>54.223077</td>\n",
       "      <td>11.580000</td>\n",
       "      <td>36.629672</td>\n",
       "    </tr>\n",
       "    <tr>\n",
       "      <th>alca</th>\n",
       "      <td>45.199535</td>\n",
       "      <td>43.293636</td>\n",
       "      <td>45.861349</td>\n",
       "    </tr>\n",
       "    <tr>\n",
       "      <th>alteco</th>\n",
       "      <td>132.560000</td>\n",
       "      <td>132.175000</td>\n",
       "      <td>131.922523</td>\n",
       "    </tr>\n",
       "    <tr>\n",
       "      <th>aurora</th>\n",
       "      <td>nan</td>\n",
       "      <td>nan</td>\n",
       "      <td>237.840000</td>\n",
       "    </tr>\n",
       "    <tr>\n",
       "      <th>autoprofi</th>\n",
       "      <td>53.811081</td>\n",
       "      <td>56.305000</td>\n",
       "      <td>52.897004</td>\n",
       "    </tr>\n",
       "    <tr>\n",
       "      <th>autovirazh</th>\n",
       "      <td>nan</td>\n",
       "      <td>nan</td>\n",
       "      <td>45.725385</td>\n",
       "    </tr>\n",
       "    <tr>\n",
       "      <th>avs</th>\n",
       "      <td>70.701136</td>\n",
       "      <td>67.495455</td>\n",
       "      <td>69.733541</td>\n",
       "    </tr>\n",
       "    <tr>\n",
       "      <th>berkut</th>\n",
       "      <td>241.486429</td>\n",
       "      <td>232.544000</td>\n",
       "      <td>243.637896</td>\n",
       "    </tr>\n",
       "    <tr>\n",
       "      <th>chameleon</th>\n",
       "      <td>51.161774</td>\n",
       "      <td>41.465000</td>\n",
       "      <td>54.571392</td>\n",
       "    </tr>\n",
       "    <tr>\n",
       "      <th>cityup</th>\n",
       "      <td>78.434000</td>\n",
       "      <td>76.135000</td>\n",
       "      <td>67.628868</td>\n",
       "    </tr>\n",
       "    <tr>\n",
       "      <th>denzel</th>\n",
       "      <td>305.869226</td>\n",
       "      <td>265.479800</td>\n",
       "      <td>297.167987</td>\n",
       "    </tr>\n",
       "    <tr>\n",
       "      <th>einhell</th>\n",
       "      <td>720.740000</td>\n",
       "      <td>nan</td>\n",
       "      <td>573.185000</td>\n",
       "    </tr>\n",
       "    <tr>\n",
       "      <th>fubag</th>\n",
       "      <td>272.407619</td>\n",
       "      <td>375.261429</td>\n",
       "      <td>304.612374</td>\n",
       "    </tr>\n",
       "    <tr>\n",
       "      <th>goodyear</th>\n",
       "      <td>71.380000</td>\n",
       "      <td>nan</td>\n",
       "      <td>70.738462</td>\n",
       "    </tr>\n",
       "    <tr>\n",
       "      <th>heyner</th>\n",
       "      <td>77.957143</td>\n",
       "      <td>82.370000</td>\n",
       "      <td>67.858873</td>\n",
       "    </tr>\n",
       "    <tr>\n",
       "      <th>hp</th>\n",
       "      <td>nan</td>\n",
       "      <td>nan</td>\n",
       "      <td>395.120000</td>\n",
       "    </tr>\n",
       "    <tr>\n",
       "      <th>hyundai</th>\n",
       "      <td>342.024375</td>\n",
       "      <td>342.061111</td>\n",
       "      <td>342.034483</td>\n",
       "    </tr>\n",
       "    <tr>\n",
       "      <th>kingtony</th>\n",
       "      <td>nan</td>\n",
       "      <td>nan</td>\n",
       "      <td>185.330000</td>\n",
       "    </tr>\n",
       "    <tr>\n",
       "      <th>kolner</th>\n",
       "      <td>9.010000</td>\n",
       "      <td>9.010000</td>\n",
       "      <td>9.000833</td>\n",
       "    </tr>\n",
       "    <tr>\n",
       "      <th>laston</th>\n",
       "      <td>352.097742</td>\n",
       "      <td>377.615714</td>\n",
       "      <td>365.327170</td>\n",
       "    </tr>\n",
       "    <tr>\n",
       "      <th>maakavto</th>\n",
       "      <td>nan</td>\n",
       "      <td>nan</td>\n",
       "      <td>46.370000</td>\n",
       "    </tr>\n",
       "    <tr>\n",
       "      <th>magnetta</th>\n",
       "      <td>170.238846</td>\n",
       "      <td>188.954043</td>\n",
       "      <td>288.453721</td>\n",
       "    </tr>\n",
       "    <tr>\n",
       "      <th>mateus</th>\n",
       "      <td>251.406000</td>\n",
       "      <td>220.680000</td>\n",
       "      <td>395.356708</td>\n",
       "    </tr>\n",
       "    <tr>\n",
       "      <th>metabo</th>\n",
       "      <td>nan</td>\n",
       "      <td>nan</td>\n",
       "      <td>1123.877582</td>\n",
       "    </tr>\n",
       "    <tr>\n",
       "      <th>newco</th>\n",
       "      <td>nan</td>\n",
       "      <td>nan</td>\n",
       "      <td>204.550000</td>\n",
       "    </tr>\n",
       "    <tr>\n",
       "      <th>novabright</th>\n",
       "      <td>nan</td>\n",
       "      <td>nan</td>\n",
       "      <td>49.050000</td>\n",
       "    </tr>\n",
       "    <tr>\n",
       "      <th>remeza</th>\n",
       "      <td>nan</td>\n",
       "      <td>nan</td>\n",
       "      <td>656.350769</td>\n",
       "    </tr>\n",
       "    <tr>\n",
       "      <th>ryobi</th>\n",
       "      <td>95.975263</td>\n",
       "      <td>90.910000</td>\n",
       "      <td>98.191917</td>\n",
       "    </tr>\n",
       "    <tr>\n",
       "      <th>schneider</th>\n",
       "      <td>319.950000</td>\n",
       "      <td>326.250000</td>\n",
       "      <td>1097.162278</td>\n",
       "    </tr>\n",
       "    <tr>\n",
       "      <th>t-max</th>\n",
       "      <td>129.477500</td>\n",
       "      <td>nan</td>\n",
       "      <td>125.474983</td>\n",
       "    </tr>\n",
       "    <tr>\n",
       "      <th>tornado</th>\n",
       "      <td>nan</td>\n",
       "      <td>nan</td>\n",
       "      <td>36.075000</td>\n",
       "    </tr>\n",
       "    <tr>\n",
       "      <th>torso</th>\n",
       "      <td>24.721579</td>\n",
       "      <td>23.826667</td>\n",
       "      <td>26.367382</td>\n",
       "    </tr>\n",
       "    <tr>\n",
       "      <th>tpmaster</th>\n",
       "      <td>20.590000</td>\n",
       "      <td>20.590000</td>\n",
       "      <td>20.590000</td>\n",
       "    </tr>\n",
       "    <tr>\n",
       "      <th>voin</th>\n",
       "      <td>37.376667</td>\n",
       "      <td>nan</td>\n",
       "      <td>37.920000</td>\n",
       "    </tr>\n",
       "    <tr>\n",
       "      <th>xiaomi</th>\n",
       "      <td>79.800000</td>\n",
       "      <td>79.800000</td>\n",
       "      <td>79.800000</td>\n",
       "    </tr>\n",
       "    <tr>\n",
       "      <th>zubr</th>\n",
       "      <td>67.660370</td>\n",
       "      <td>37.372222</td>\n",
       "      <td>86.087828</td>\n",
       "    </tr>\n",
       "  </tbody>\n",
       "</table>\n",
       "</div>"
      ],
      "text/plain": [
       "event_type                               cart   purchase        view\n",
       "subcategory             brand                                       \n",
       "accessories.alarm       alligator   38.610000  38.610000   38.610000\n",
       "                        cenmax      70.852337  71.037381   70.600665\n",
       "                        centurion   86.133833  86.303356   86.603843\n",
       "                        davinci     36.040000  36.040000   36.040000\n",
       "                        dowontec   411.850000 411.850000  411.850000\n",
       "                        pandect    305.891304 310.677500  289.927597\n",
       "                        pandora    223.389751 210.894976  333.781953\n",
       "                        scher-khan  99.313889  94.380000   92.089276\n",
       "                        starline   141.970053 141.935617  156.906691\n",
       "                        tec        231.403333        nan  236.219174\n",
       "                        tomahawk    97.999690  97.110980   98.267180\n",
       "accessories.anti_freeze ravenol     24.713333  21.023333   20.126569\n",
       "                        wurth       20.987857  25.560000   20.042813\n",
       "accessories.compressor  alligator         nan        nan   59.980000\n",
       "                        airline     54.223077  11.580000   36.629672\n",
       "                        alca        45.199535  43.293636   45.861349\n",
       "                        alteco     132.560000 132.175000  131.922523\n",
       "                        aurora            nan        nan  237.840000\n",
       "                        autoprofi   53.811081  56.305000   52.897004\n",
       "                        autovirazh        nan        nan   45.725385\n",
       "                        avs         70.701136  67.495455   69.733541\n",
       "                        berkut     241.486429 232.544000  243.637896\n",
       "                        chameleon   51.161774  41.465000   54.571392\n",
       "                        cityup      78.434000  76.135000   67.628868\n",
       "                        denzel     305.869226 265.479800  297.167987\n",
       "                        einhell    720.740000        nan  573.185000\n",
       "                        fubag      272.407619 375.261429  304.612374\n",
       "                        goodyear    71.380000        nan   70.738462\n",
       "                        heyner      77.957143  82.370000   67.858873\n",
       "                        hp                nan        nan  395.120000\n",
       "                        hyundai    342.024375 342.061111  342.034483\n",
       "                        kingtony          nan        nan  185.330000\n",
       "                        kolner       9.010000   9.010000    9.000833\n",
       "                        laston     352.097742 377.615714  365.327170\n",
       "                        maakavto          nan        nan   46.370000\n",
       "                        magnetta   170.238846 188.954043  288.453721\n",
       "                        mateus     251.406000 220.680000  395.356708\n",
       "                        metabo            nan        nan 1123.877582\n",
       "                        newco             nan        nan  204.550000\n",
       "                        novabright        nan        nan   49.050000\n",
       "                        remeza            nan        nan  656.350769\n",
       "                        ryobi       95.975263  90.910000   98.191917\n",
       "                        schneider  319.950000 326.250000 1097.162278\n",
       "                        t-max      129.477500        nan  125.474983\n",
       "                        tornado           nan        nan   36.075000\n",
       "                        torso       24.721579  23.826667   26.367382\n",
       "                        tpmaster    20.590000  20.590000   20.590000\n",
       "                        voin        37.376667        nan   37.920000\n",
       "                        xiaomi      79.800000  79.800000   79.800000\n",
       "                        zubr        67.660370  37.372222   86.087828"
      ]
     },
     "execution_count": 64,
     "metadata": {},
     "output_type": "execute_result"
    }
   ],
   "source": [
    "\n",
    "table3_nov = pd.pivot_table(df_nov, values='price', index=['subcategory','brand'],\n",
    "\n",
    "                    columns=['event_type'], aggfunc='mean')\n",
    "table3_nov[:50]\n"
   ]
  },
  {
   "cell_type": "markdown",
   "metadata": {},
   "source": [
    "##  [RQ7] The Pareto principle states that for many outcomes roughly 80% of consequences come from 20% of the causes. Also known as 80/20 rule, in e-commerce simply means that most of your business, around 80%, likely comes from about 20% of your customers.\n",
    "\n",
    "    Prove that the pareto principle applies to your store.\n"
   ]
  },
  {
   "cell_type": "code",
   "execution_count": 109,
   "metadata": {},
   "outputs": [
    {
     "data": {
      "text/plain": [
       "user_id\n",
       "519267944   265569.520000\n",
       "513117637   244500.000000\n",
       "515384420   210749.770000\n",
       "530834332   187128.930000\n",
       "512386086   182470.800000\n",
       "                 ...     \n",
       "566252844        0.880000\n",
       "538224876        0.880000\n",
       "535243241        0.880000\n",
       "534066409        0.880000\n",
       "513085966        0.880000\n",
       "Name: price, Length: 347118, dtype: float64"
      ]
     },
     "execution_count": 109,
     "metadata": {},
     "output_type": "execute_result"
    }
   ],
   "source": [
    "group_purchase_by_user=df_oct[df_oct['event_type']=='purchase'].groupby(['user_id'])['price'].sum()\n",
    "sorted_group_purchase_by_user = group_purchase_by_user.dropna().sort_values(ascending=False)\n",
    "sorted_group_purchase_by_user\n",
    "#Group by user and sort all purchases by descending order"
   ]
  },
  {
   "cell_type": "code",
   "execution_count": 85,
   "metadata": {},
   "outputs": [
    {
     "data": {
      "text/plain": [
       "229957502.26999995"
      ]
     },
     "execution_count": 85,
     "metadata": {},
     "output_type": "execute_result"
    }
   ],
   "source": [
    "group_purchase_by_product=df_oct[df_oct['event_type']=='purchase']['price'].sum()\n",
    "group_purchase_by_product\n",
    "#get all the revenue that was made in this month"
   ]
  },
  {
   "cell_type": "code",
   "execution_count": 131,
   "metadata": {},
   "outputs": [
    {
     "name": "stdout",
     "output_type": "stream",
     "text": [
      "Percent of money 20 % of customers gave out of total 229957502.26999995: 72.05594325661541%\n"
     ]
    },
    {
     "data": {
      "image/png": "[encoded data removed]",
      "text/plain": [
       "<Figure size 1152x648 with 1 Axes>"
      ]
     },
     "metadata": {
      "needs_background": "light"
     },
     "output_type": "display_data"
    }
   ],
   "source": [
    "plt.figure(figsize =(16, 9)) \n",
    "amount_of_20percent_customers = len(sorted_group_purchase_by_user) * 0.2\n",
    "#Count % of money that 20% of top customers gave\n",
    "index_user = [str(i) for i in sorted_group_purchase_by_user.index]\n",
    "plt.bar(index_user[:20],sorted_group_purchase_by_user[:20])\n",
    "print('Percent of money 20 % of customers gave out of total {}: {}%'.format(group_purchase_by_product,sum(sorted_group_purchase_by_user[:int(amount_of_20percent_customers)]) /(group_purchase_by_product/100) ))"
   ]
  },
  {
   "cell_type": "code",
   "execution_count": 132,
   "metadata": {},
   "outputs": [
    {
     "name": "stdout",
     "output_type": "stream",
     "text": [
      "Percent of money 20 % of customers gave out of total 275194890.50000006: 69.63857816974821%\n"
     ]
    },
    {
     "data": {
      "image/png": "[encoded data removed]",
      "text/plain": [
       "<Figure size 1152x648 with 1 Axes>"
      ]
     },
     "metadata": {
      "needs_background": "light"
     },
     "output_type": "display_data"
    }
   ],
   "source": [
    "group_purchase_by_user_nov=df_nov[df_nov['event_type']=='purchase'].groupby(['user_id'])['price'].sum()\n",
    "sorted_group_purchase_by_user_nov = group_purchase_by_user_nov.dropna().sort_values(ascending=False)\n",
    "#Group by user and sort all purchases by descending order\n",
    "group_purchase_by_product_nov=df_nov[df_nov['event_type']=='purchase']['price'].sum()\n",
    "#get all the revenue that was made in this month\n",
    "plt.figure(figsize =(16, 9)) \n",
    "amount_of_20percent_customers_nov = len(sorted_group_purchase_by_user_nov) * 0.2\n",
    "#Count % of money that 20% of top customers gave\n",
    "index_user_nov = [str(i) for i in sorted_group_purchase_by_user_nov.index]\n",
    "plt.bar(index_user_nov[:20],sorted_group_purchase_by_user_nov[:20])\n",
    "print('Percent of money 20 % of customers gave out of total {}: {}%'.format(group_purchase_by_product_nov,sum(sorted_group_purchase_by_user_nov[:int(amount_of_20percent_customers_nov)]) /(group_purchase_by_product_nov/100) ))"
   ]
  }
 ],
 "metadata": {
  "kernelspec": {
   "display_name": "Python 3",
   "language": "python",
   "name": "python3"
  },
  "language_info": {
   "codemirror_mode": {
    "name": "ipython",
    "version": 3
   },
   "file_extension": ".py",
   "mimetype": "text/x-python",
   "name": "python",
   "nbconvert_exporter": "python",
   "pygments_lexer": "ipython3",
   "version": "3.6.9"
  }
 },
 "nbformat": 4,
 "nbformat_minor": 2
}
